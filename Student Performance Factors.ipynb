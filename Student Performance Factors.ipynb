{
 "cells": [
  {
   "cell_type": "code",
   "execution_count": 1,
   "id": "a4b66d2b",
   "metadata": {
    "execution": {
     "iopub.execute_input": "2024-11-02T17:37:05.546394Z",
     "iopub.status.busy": "2024-11-02T17:37:05.545972Z",
     "iopub.status.idle": "2024-11-02T17:37:09.553192Z",
     "shell.execute_reply": "2024-11-02T17:37:09.552360Z"
    },
    "papermill": {
     "duration": 4.043532,
     "end_time": "2024-11-02T17:37:09.555840",
     "exception": false,
     "start_time": "2024-11-02T17:37:05.512308",
     "status": "completed"
    },
    "tags": []
   },
   "outputs": [],
   "source": [
    "import pandas as pd \n",
    "import numpy as np\n",
    "import matplotlib.pyplot as plt \n",
    "import seaborn as sns \n",
    "from scipy.stats import chi2_contingency\n",
    "from sklearn.model_selection import train_test_split\n",
    "import statsmodels.api as sm\n",
    "from sklearn.linear_model import LinearRegression\n",
    "from sklearn.model_selection import cross_val_score\n",
    "from sklearn.linear_model import Lasso\n",
    "from sklearn.metrics import r2_score"
   ]
  },
  {
   "cell_type": "markdown",
   "id": "2559549e",
   "metadata": {
    "papermill": {
     "duration": 0.028662,
     "end_time": "2024-11-02T17:37:09.614165",
     "exception": false,
     "start_time": "2024-11-02T17:37:09.585503",
     "status": "completed"
    },
    "tags": []
   },
   "source": [
    "<h1>I. Data importing and cleaning "
   ]
  },
  {
   "cell_type": "code",
   "execution_count": 2,
   "id": "ea9fcd60",
   "metadata": {
    "execution": {
     "iopub.execute_input": "2024-11-02T17:37:09.673523Z",
     "iopub.status.busy": "2024-11-02T17:37:09.672950Z",
     "iopub.status.idle": "2024-11-02T17:37:09.767303Z",
     "shell.execute_reply": "2024-11-02T17:37:09.766250Z"
    },
    "papermill": {
     "duration": 0.127167,
     "end_time": "2024-11-02T17:37:09.770157",
     "exception": false,
     "start_time": "2024-11-02T17:37:09.642990",
     "status": "completed"
    },
    "tags": []
   },
   "outputs": [
    {
     "data": {
      "text/html": [
       "<div>\n",
       "<style scoped>\n",
       "    .dataframe tbody tr th:only-of-type {\n",
       "        vertical-align: middle;\n",
       "    }\n",
       "\n",
       "    .dataframe tbody tr th {\n",
       "        vertical-align: top;\n",
       "    }\n",
       "\n",
       "    .dataframe thead th {\n",
       "        text-align: right;\n",
       "    }\n",
       "</style>\n",
       "<table border=\"1\" class=\"dataframe\">\n",
       "  <thead>\n",
       "    <tr style=\"text-align: right;\">\n",
       "      <th></th>\n",
       "      <th>Hours_Studied</th>\n",
       "      <th>Attendance</th>\n",
       "      <th>Parental_Involvement</th>\n",
       "      <th>Access_to_Resources</th>\n",
       "      <th>Extracurricular_Activities</th>\n",
       "      <th>Sleep_Hours</th>\n",
       "      <th>Previous_Scores</th>\n",
       "      <th>Motivation_Level</th>\n",
       "      <th>Internet_Access</th>\n",
       "      <th>Tutoring_Sessions</th>\n",
       "      <th>Family_Income</th>\n",
       "      <th>Teacher_Quality</th>\n",
       "      <th>School_Type</th>\n",
       "      <th>Peer_Influence</th>\n",
       "      <th>Physical_Activity</th>\n",
       "      <th>Learning_Disabilities</th>\n",
       "      <th>Parental_Education_Level</th>\n",
       "      <th>Distance_from_Home</th>\n",
       "      <th>Gender</th>\n",
       "      <th>Exam_Score</th>\n",
       "    </tr>\n",
       "  </thead>\n",
       "  <tbody>\n",
       "    <tr>\n",
       "      <th>0</th>\n",
       "      <td>23</td>\n",
       "      <td>84</td>\n",
       "      <td>Low</td>\n",
       "      <td>High</td>\n",
       "      <td>No</td>\n",
       "      <td>7</td>\n",
       "      <td>73</td>\n",
       "      <td>Low</td>\n",
       "      <td>Yes</td>\n",
       "      <td>0</td>\n",
       "      <td>Low</td>\n",
       "      <td>Medium</td>\n",
       "      <td>Public</td>\n",
       "      <td>Positive</td>\n",
       "      <td>3</td>\n",
       "      <td>No</td>\n",
       "      <td>High School</td>\n",
       "      <td>Near</td>\n",
       "      <td>Male</td>\n",
       "      <td>67</td>\n",
       "    </tr>\n",
       "    <tr>\n",
       "      <th>1</th>\n",
       "      <td>19</td>\n",
       "      <td>64</td>\n",
       "      <td>Low</td>\n",
       "      <td>Medium</td>\n",
       "      <td>No</td>\n",
       "      <td>8</td>\n",
       "      <td>59</td>\n",
       "      <td>Low</td>\n",
       "      <td>Yes</td>\n",
       "      <td>2</td>\n",
       "      <td>Medium</td>\n",
       "      <td>Medium</td>\n",
       "      <td>Public</td>\n",
       "      <td>Negative</td>\n",
       "      <td>4</td>\n",
       "      <td>No</td>\n",
       "      <td>College</td>\n",
       "      <td>Moderate</td>\n",
       "      <td>Female</td>\n",
       "      <td>61</td>\n",
       "    </tr>\n",
       "    <tr>\n",
       "      <th>2</th>\n",
       "      <td>24</td>\n",
       "      <td>98</td>\n",
       "      <td>Medium</td>\n",
       "      <td>Medium</td>\n",
       "      <td>Yes</td>\n",
       "      <td>7</td>\n",
       "      <td>91</td>\n",
       "      <td>Medium</td>\n",
       "      <td>Yes</td>\n",
       "      <td>2</td>\n",
       "      <td>Medium</td>\n",
       "      <td>Medium</td>\n",
       "      <td>Public</td>\n",
       "      <td>Neutral</td>\n",
       "      <td>4</td>\n",
       "      <td>No</td>\n",
       "      <td>Postgraduate</td>\n",
       "      <td>Near</td>\n",
       "      <td>Male</td>\n",
       "      <td>74</td>\n",
       "    </tr>\n",
       "    <tr>\n",
       "      <th>3</th>\n",
       "      <td>29</td>\n",
       "      <td>89</td>\n",
       "      <td>Low</td>\n",
       "      <td>Medium</td>\n",
       "      <td>Yes</td>\n",
       "      <td>8</td>\n",
       "      <td>98</td>\n",
       "      <td>Medium</td>\n",
       "      <td>Yes</td>\n",
       "      <td>1</td>\n",
       "      <td>Medium</td>\n",
       "      <td>Medium</td>\n",
       "      <td>Public</td>\n",
       "      <td>Negative</td>\n",
       "      <td>4</td>\n",
       "      <td>No</td>\n",
       "      <td>High School</td>\n",
       "      <td>Moderate</td>\n",
       "      <td>Male</td>\n",
       "      <td>71</td>\n",
       "    </tr>\n",
       "    <tr>\n",
       "      <th>4</th>\n",
       "      <td>19</td>\n",
       "      <td>92</td>\n",
       "      <td>Medium</td>\n",
       "      <td>Medium</td>\n",
       "      <td>Yes</td>\n",
       "      <td>6</td>\n",
       "      <td>65</td>\n",
       "      <td>Medium</td>\n",
       "      <td>Yes</td>\n",
       "      <td>3</td>\n",
       "      <td>Medium</td>\n",
       "      <td>High</td>\n",
       "      <td>Public</td>\n",
       "      <td>Neutral</td>\n",
       "      <td>4</td>\n",
       "      <td>No</td>\n",
       "      <td>College</td>\n",
       "      <td>Near</td>\n",
       "      <td>Female</td>\n",
       "      <td>70</td>\n",
       "    </tr>\n",
       "    <tr>\n",
       "      <th>...</th>\n",
       "      <td>...</td>\n",
       "      <td>...</td>\n",
       "      <td>...</td>\n",
       "      <td>...</td>\n",
       "      <td>...</td>\n",
       "      <td>...</td>\n",
       "      <td>...</td>\n",
       "      <td>...</td>\n",
       "      <td>...</td>\n",
       "      <td>...</td>\n",
       "      <td>...</td>\n",
       "      <td>...</td>\n",
       "      <td>...</td>\n",
       "      <td>...</td>\n",
       "      <td>...</td>\n",
       "      <td>...</td>\n",
       "      <td>...</td>\n",
       "      <td>...</td>\n",
       "      <td>...</td>\n",
       "      <td>...</td>\n",
       "    </tr>\n",
       "    <tr>\n",
       "      <th>6602</th>\n",
       "      <td>25</td>\n",
       "      <td>69</td>\n",
       "      <td>High</td>\n",
       "      <td>Medium</td>\n",
       "      <td>No</td>\n",
       "      <td>7</td>\n",
       "      <td>76</td>\n",
       "      <td>Medium</td>\n",
       "      <td>Yes</td>\n",
       "      <td>1</td>\n",
       "      <td>High</td>\n",
       "      <td>Medium</td>\n",
       "      <td>Public</td>\n",
       "      <td>Positive</td>\n",
       "      <td>2</td>\n",
       "      <td>No</td>\n",
       "      <td>High School</td>\n",
       "      <td>Near</td>\n",
       "      <td>Female</td>\n",
       "      <td>68</td>\n",
       "    </tr>\n",
       "    <tr>\n",
       "      <th>6603</th>\n",
       "      <td>23</td>\n",
       "      <td>76</td>\n",
       "      <td>High</td>\n",
       "      <td>Medium</td>\n",
       "      <td>No</td>\n",
       "      <td>8</td>\n",
       "      <td>81</td>\n",
       "      <td>Medium</td>\n",
       "      <td>Yes</td>\n",
       "      <td>3</td>\n",
       "      <td>Low</td>\n",
       "      <td>High</td>\n",
       "      <td>Public</td>\n",
       "      <td>Positive</td>\n",
       "      <td>2</td>\n",
       "      <td>No</td>\n",
       "      <td>High School</td>\n",
       "      <td>Near</td>\n",
       "      <td>Female</td>\n",
       "      <td>69</td>\n",
       "    </tr>\n",
       "    <tr>\n",
       "      <th>6604</th>\n",
       "      <td>20</td>\n",
       "      <td>90</td>\n",
       "      <td>Medium</td>\n",
       "      <td>Low</td>\n",
       "      <td>Yes</td>\n",
       "      <td>6</td>\n",
       "      <td>65</td>\n",
       "      <td>Low</td>\n",
       "      <td>Yes</td>\n",
       "      <td>3</td>\n",
       "      <td>Low</td>\n",
       "      <td>Medium</td>\n",
       "      <td>Public</td>\n",
       "      <td>Negative</td>\n",
       "      <td>2</td>\n",
       "      <td>No</td>\n",
       "      <td>Postgraduate</td>\n",
       "      <td>Near</td>\n",
       "      <td>Female</td>\n",
       "      <td>68</td>\n",
       "    </tr>\n",
       "    <tr>\n",
       "      <th>6605</th>\n",
       "      <td>10</td>\n",
       "      <td>86</td>\n",
       "      <td>High</td>\n",
       "      <td>High</td>\n",
       "      <td>Yes</td>\n",
       "      <td>6</td>\n",
       "      <td>91</td>\n",
       "      <td>High</td>\n",
       "      <td>Yes</td>\n",
       "      <td>2</td>\n",
       "      <td>Low</td>\n",
       "      <td>Medium</td>\n",
       "      <td>Private</td>\n",
       "      <td>Positive</td>\n",
       "      <td>3</td>\n",
       "      <td>No</td>\n",
       "      <td>High School</td>\n",
       "      <td>Far</td>\n",
       "      <td>Female</td>\n",
       "      <td>68</td>\n",
       "    </tr>\n",
       "    <tr>\n",
       "      <th>6606</th>\n",
       "      <td>15</td>\n",
       "      <td>67</td>\n",
       "      <td>Medium</td>\n",
       "      <td>Low</td>\n",
       "      <td>Yes</td>\n",
       "      <td>9</td>\n",
       "      <td>94</td>\n",
       "      <td>Medium</td>\n",
       "      <td>Yes</td>\n",
       "      <td>0</td>\n",
       "      <td>Medium</td>\n",
       "      <td>Medium</td>\n",
       "      <td>Public</td>\n",
       "      <td>Positive</td>\n",
       "      <td>4</td>\n",
       "      <td>No</td>\n",
       "      <td>Postgraduate</td>\n",
       "      <td>Near</td>\n",
       "      <td>Male</td>\n",
       "      <td>64</td>\n",
       "    </tr>\n",
       "  </tbody>\n",
       "</table>\n",
       "<p>6607 rows × 20 columns</p>\n",
       "</div>"
      ],
      "text/plain": [
       "      Hours_Studied  Attendance Parental_Involvement Access_to_Resources  \\\n",
       "0                23          84                  Low                High   \n",
       "1                19          64                  Low              Medium   \n",
       "2                24          98               Medium              Medium   \n",
       "3                29          89                  Low              Medium   \n",
       "4                19          92               Medium              Medium   \n",
       "...             ...         ...                  ...                 ...   \n",
       "6602             25          69                 High              Medium   \n",
       "6603             23          76                 High              Medium   \n",
       "6604             20          90               Medium                 Low   \n",
       "6605             10          86                 High                High   \n",
       "6606             15          67               Medium                 Low   \n",
       "\n",
       "     Extracurricular_Activities  Sleep_Hours  Previous_Scores  \\\n",
       "0                            No            7               73   \n",
       "1                            No            8               59   \n",
       "2                           Yes            7               91   \n",
       "3                           Yes            8               98   \n",
       "4                           Yes            6               65   \n",
       "...                         ...          ...              ...   \n",
       "6602                         No            7               76   \n",
       "6603                         No            8               81   \n",
       "6604                        Yes            6               65   \n",
       "6605                        Yes            6               91   \n",
       "6606                        Yes            9               94   \n",
       "\n",
       "     Motivation_Level Internet_Access  Tutoring_Sessions Family_Income  \\\n",
       "0                 Low             Yes                  0           Low   \n",
       "1                 Low             Yes                  2        Medium   \n",
       "2              Medium             Yes                  2        Medium   \n",
       "3              Medium             Yes                  1        Medium   \n",
       "4              Medium             Yes                  3        Medium   \n",
       "...               ...             ...                ...           ...   \n",
       "6602           Medium             Yes                  1          High   \n",
       "6603           Medium             Yes                  3           Low   \n",
       "6604              Low             Yes                  3           Low   \n",
       "6605             High             Yes                  2           Low   \n",
       "6606           Medium             Yes                  0        Medium   \n",
       "\n",
       "     Teacher_Quality School_Type Peer_Influence  Physical_Activity  \\\n",
       "0             Medium      Public       Positive                  3   \n",
       "1             Medium      Public       Negative                  4   \n",
       "2             Medium      Public        Neutral                  4   \n",
       "3             Medium      Public       Negative                  4   \n",
       "4               High      Public        Neutral                  4   \n",
       "...              ...         ...            ...                ...   \n",
       "6602          Medium      Public       Positive                  2   \n",
       "6603            High      Public       Positive                  2   \n",
       "6604          Medium      Public       Negative                  2   \n",
       "6605          Medium     Private       Positive                  3   \n",
       "6606          Medium      Public       Positive                  4   \n",
       "\n",
       "     Learning_Disabilities Parental_Education_Level Distance_from_Home  \\\n",
       "0                       No              High School               Near   \n",
       "1                       No                  College           Moderate   \n",
       "2                       No             Postgraduate               Near   \n",
       "3                       No              High School           Moderate   \n",
       "4                       No                  College               Near   \n",
       "...                    ...                      ...                ...   \n",
       "6602                    No              High School               Near   \n",
       "6603                    No              High School               Near   \n",
       "6604                    No             Postgraduate               Near   \n",
       "6605                    No              High School                Far   \n",
       "6606                    No             Postgraduate               Near   \n",
       "\n",
       "      Gender  Exam_Score  \n",
       "0       Male          67  \n",
       "1     Female          61  \n",
       "2       Male          74  \n",
       "3       Male          71  \n",
       "4     Female          70  \n",
       "...      ...         ...  \n",
       "6602  Female          68  \n",
       "6603  Female          69  \n",
       "6604  Female          68  \n",
       "6605  Female          68  \n",
       "6606    Male          64  \n",
       "\n",
       "[6607 rows x 20 columns]"
      ]
     },
     "execution_count": 2,
     "metadata": {},
     "output_type": "execute_result"
    }
   ],
   "source": [
    "#Importing dataset\n",
    "df = pd.read_csv('/kaggle/input/student-performance-factors/StudentPerformanceFactors.csv')\n",
    "df"
   ]
  },
  {
   "cell_type": "code",
   "execution_count": 3,
   "id": "923e2c4b",
   "metadata": {
    "execution": {
     "iopub.execute_input": "2024-11-02T17:37:09.832887Z",
     "iopub.status.busy": "2024-11-02T17:37:09.831931Z",
     "iopub.status.idle": "2024-11-02T17:37:09.864546Z",
     "shell.execute_reply": "2024-11-02T17:37:09.863252Z"
    },
    "papermill": {
     "duration": 0.066452,
     "end_time": "2024-11-02T17:37:09.866955",
     "exception": false,
     "start_time": "2024-11-02T17:37:09.800503",
     "status": "completed"
    },
    "tags": []
   },
   "outputs": [
    {
     "name": "stdout",
     "output_type": "stream",
     "text": [
      "<class 'pandas.core.frame.DataFrame'>\n",
      "RangeIndex: 6607 entries, 0 to 6606\n",
      "Data columns (total 20 columns):\n",
      " #   Column                      Non-Null Count  Dtype \n",
      "---  ------                      --------------  ----- \n",
      " 0   Hours_Studied               6607 non-null   int64 \n",
      " 1   Attendance                  6607 non-null   int64 \n",
      " 2   Parental_Involvement        6607 non-null   object\n",
      " 3   Access_to_Resources         6607 non-null   object\n",
      " 4   Extracurricular_Activities  6607 non-null   object\n",
      " 5   Sleep_Hours                 6607 non-null   int64 \n",
      " 6   Previous_Scores             6607 non-null   int64 \n",
      " 7   Motivation_Level            6607 non-null   object\n",
      " 8   Internet_Access             6607 non-null   object\n",
      " 9   Tutoring_Sessions           6607 non-null   int64 \n",
      " 10  Family_Income               6607 non-null   object\n",
      " 11  Teacher_Quality             6529 non-null   object\n",
      " 12  School_Type                 6607 non-null   object\n",
      " 13  Peer_Influence              6607 non-null   object\n",
      " 14  Physical_Activity           6607 non-null   int64 \n",
      " 15  Learning_Disabilities       6607 non-null   object\n",
      " 16  Parental_Education_Level    6517 non-null   object\n",
      " 17  Distance_from_Home          6540 non-null   object\n",
      " 18  Gender                      6607 non-null   object\n",
      " 19  Exam_Score                  6607 non-null   int64 \n",
      "dtypes: int64(7), object(13)\n",
      "memory usage: 1.0+ MB\n"
     ]
    }
   ],
   "source": [
    "df.info()"
   ]
  },
  {
   "cell_type": "markdown",
   "id": "55ec0b81",
   "metadata": {
    "papermill": {
     "duration": 0.02962,
     "end_time": "2024-11-02T17:37:09.926379",
     "exception": false,
     "start_time": "2024-11-02T17:37:09.896759",
     "status": "completed"
    },
    "tags": []
   },
   "source": [
    "<h2>1. Remove duplicates"
   ]
  },
  {
   "cell_type": "code",
   "execution_count": 4,
   "id": "bf49ecec",
   "metadata": {
    "execution": {
     "iopub.execute_input": "2024-11-02T17:37:09.991260Z",
     "iopub.status.busy": "2024-11-02T17:37:09.990850Z",
     "iopub.status.idle": "2024-11-02T17:37:10.010133Z",
     "shell.execute_reply": "2024-11-02T17:37:10.009005Z"
    },
    "papermill": {
     "duration": 0.054758,
     "end_time": "2024-11-02T17:37:10.012655",
     "exception": false,
     "start_time": "2024-11-02T17:37:09.957897",
     "status": "completed"
    },
    "tags": []
   },
   "outputs": [
    {
     "data": {
      "text/plain": [
       "0"
      ]
     },
     "execution_count": 4,
     "metadata": {},
     "output_type": "execute_result"
    }
   ],
   "source": [
    "#Checking if any duplicated values in dataset \n",
    "df.duplicated().sum()"
   ]
  },
  {
   "cell_type": "markdown",
   "id": "a6fd1d70",
   "metadata": {
    "papermill": {
     "duration": 0.031479,
     "end_time": "2024-11-02T17:37:10.076641",
     "exception": false,
     "start_time": "2024-11-02T17:37:10.045162",
     "status": "completed"
    },
    "tags": []
   },
   "source": [
    "<h2>2. Missing value"
   ]
  },
  {
   "cell_type": "code",
   "execution_count": 5,
   "id": "bf93ee0a",
   "metadata": {
    "execution": {
     "iopub.execute_input": "2024-11-02T17:37:10.139903Z",
     "iopub.status.busy": "2024-11-02T17:37:10.138887Z",
     "iopub.status.idle": "2024-11-02T17:37:10.156925Z",
     "shell.execute_reply": "2024-11-02T17:37:10.155902Z"
    },
    "papermill": {
     "duration": 0.051709,
     "end_time": "2024-11-02T17:37:10.159027",
     "exception": false,
     "start_time": "2024-11-02T17:37:10.107318",
     "status": "completed"
    },
    "tags": []
   },
   "outputs": [
    {
     "data": {
      "text/plain": [
       "Hours_Studied                  0\n",
       "Attendance                     0\n",
       "Parental_Involvement           0\n",
       "Access_to_Resources            0\n",
       "Extracurricular_Activities     0\n",
       "Sleep_Hours                    0\n",
       "Previous_Scores                0\n",
       "Motivation_Level               0\n",
       "Internet_Access                0\n",
       "Tutoring_Sessions              0\n",
       "Family_Income                  0\n",
       "Teacher_Quality               78\n",
       "School_Type                    0\n",
       "Peer_Influence                 0\n",
       "Physical_Activity              0\n",
       "Learning_Disabilities          0\n",
       "Parental_Education_Level      90\n",
       "Distance_from_Home            67\n",
       "Gender                         0\n",
       "Exam_Score                     0\n",
       "dtype: int64"
      ]
     },
     "execution_count": 5,
     "metadata": {},
     "output_type": "execute_result"
    }
   ],
   "source": [
    "#Checking if any missing values in dataset \n",
    "df.isnull().sum()"
   ]
  },
  {
   "cell_type": "markdown",
   "id": "02a55f1c",
   "metadata": {
    "papermill": {
     "duration": 0.030068,
     "end_time": "2024-11-02T17:37:10.219204",
     "exception": false,
     "start_time": "2024-11-02T17:37:10.189136",
     "status": "completed"
    },
    "tags": []
   },
   "source": [
    "- Missing values take a small proportion(~1%) and are distributed randomly so I remove all of that. "
   ]
  },
  {
   "cell_type": "code",
   "execution_count": 6,
   "id": "c9b3d9a3",
   "metadata": {
    "execution": {
     "iopub.execute_input": "2024-11-02T17:37:10.283226Z",
     "iopub.status.busy": "2024-11-02T17:37:10.282819Z",
     "iopub.status.idle": "2024-11-02T17:37:10.317649Z",
     "shell.execute_reply": "2024-11-02T17:37:10.316569Z"
    },
    "papermill": {
     "duration": 0.070072,
     "end_time": "2024-11-02T17:37:10.320022",
     "exception": false,
     "start_time": "2024-11-02T17:37:10.249950",
     "status": "completed"
    },
    "tags": []
   },
   "outputs": [
    {
     "data": {
      "text/html": [
       "<div>\n",
       "<style scoped>\n",
       "    .dataframe tbody tr th:only-of-type {\n",
       "        vertical-align: middle;\n",
       "    }\n",
       "\n",
       "    .dataframe tbody tr th {\n",
       "        vertical-align: top;\n",
       "    }\n",
       "\n",
       "    .dataframe thead th {\n",
       "        text-align: right;\n",
       "    }\n",
       "</style>\n",
       "<table border=\"1\" class=\"dataframe\">\n",
       "  <thead>\n",
       "    <tr style=\"text-align: right;\">\n",
       "      <th></th>\n",
       "      <th>Hours_Studied</th>\n",
       "      <th>Attendance</th>\n",
       "      <th>Parental_Involvement</th>\n",
       "      <th>Access_to_Resources</th>\n",
       "      <th>Extracurricular_Activities</th>\n",
       "      <th>Sleep_Hours</th>\n",
       "      <th>Previous_Scores</th>\n",
       "      <th>Motivation_Level</th>\n",
       "      <th>Internet_Access</th>\n",
       "      <th>Tutoring_Sessions</th>\n",
       "      <th>Family_Income</th>\n",
       "      <th>Teacher_Quality</th>\n",
       "      <th>School_Type</th>\n",
       "      <th>Peer_Influence</th>\n",
       "      <th>Physical_Activity</th>\n",
       "      <th>Learning_Disabilities</th>\n",
       "      <th>Parental_Education_Level</th>\n",
       "      <th>Distance_from_Home</th>\n",
       "      <th>Gender</th>\n",
       "      <th>Exam_Score</th>\n",
       "    </tr>\n",
       "  </thead>\n",
       "  <tbody>\n",
       "    <tr>\n",
       "      <th>0</th>\n",
       "      <td>23</td>\n",
       "      <td>84</td>\n",
       "      <td>Low</td>\n",
       "      <td>High</td>\n",
       "      <td>No</td>\n",
       "      <td>7</td>\n",
       "      <td>73</td>\n",
       "      <td>Low</td>\n",
       "      <td>Yes</td>\n",
       "      <td>0</td>\n",
       "      <td>Low</td>\n",
       "      <td>Medium</td>\n",
       "      <td>Public</td>\n",
       "      <td>Positive</td>\n",
       "      <td>3</td>\n",
       "      <td>No</td>\n",
       "      <td>High School</td>\n",
       "      <td>Near</td>\n",
       "      <td>Male</td>\n",
       "      <td>67</td>\n",
       "    </tr>\n",
       "    <tr>\n",
       "      <th>1</th>\n",
       "      <td>19</td>\n",
       "      <td>64</td>\n",
       "      <td>Low</td>\n",
       "      <td>Medium</td>\n",
       "      <td>No</td>\n",
       "      <td>8</td>\n",
       "      <td>59</td>\n",
       "      <td>Low</td>\n",
       "      <td>Yes</td>\n",
       "      <td>2</td>\n",
       "      <td>Medium</td>\n",
       "      <td>Medium</td>\n",
       "      <td>Public</td>\n",
       "      <td>Negative</td>\n",
       "      <td>4</td>\n",
       "      <td>No</td>\n",
       "      <td>College</td>\n",
       "      <td>Moderate</td>\n",
       "      <td>Female</td>\n",
       "      <td>61</td>\n",
       "    </tr>\n",
       "    <tr>\n",
       "      <th>2</th>\n",
       "      <td>24</td>\n",
       "      <td>98</td>\n",
       "      <td>Medium</td>\n",
       "      <td>Medium</td>\n",
       "      <td>Yes</td>\n",
       "      <td>7</td>\n",
       "      <td>91</td>\n",
       "      <td>Medium</td>\n",
       "      <td>Yes</td>\n",
       "      <td>2</td>\n",
       "      <td>Medium</td>\n",
       "      <td>Medium</td>\n",
       "      <td>Public</td>\n",
       "      <td>Neutral</td>\n",
       "      <td>4</td>\n",
       "      <td>No</td>\n",
       "      <td>Postgraduate</td>\n",
       "      <td>Near</td>\n",
       "      <td>Male</td>\n",
       "      <td>74</td>\n",
       "    </tr>\n",
       "    <tr>\n",
       "      <th>3</th>\n",
       "      <td>29</td>\n",
       "      <td>89</td>\n",
       "      <td>Low</td>\n",
       "      <td>Medium</td>\n",
       "      <td>Yes</td>\n",
       "      <td>8</td>\n",
       "      <td>98</td>\n",
       "      <td>Medium</td>\n",
       "      <td>Yes</td>\n",
       "      <td>1</td>\n",
       "      <td>Medium</td>\n",
       "      <td>Medium</td>\n",
       "      <td>Public</td>\n",
       "      <td>Negative</td>\n",
       "      <td>4</td>\n",
       "      <td>No</td>\n",
       "      <td>High School</td>\n",
       "      <td>Moderate</td>\n",
       "      <td>Male</td>\n",
       "      <td>71</td>\n",
       "    </tr>\n",
       "    <tr>\n",
       "      <th>4</th>\n",
       "      <td>19</td>\n",
       "      <td>92</td>\n",
       "      <td>Medium</td>\n",
       "      <td>Medium</td>\n",
       "      <td>Yes</td>\n",
       "      <td>6</td>\n",
       "      <td>65</td>\n",
       "      <td>Medium</td>\n",
       "      <td>Yes</td>\n",
       "      <td>3</td>\n",
       "      <td>Medium</td>\n",
       "      <td>High</td>\n",
       "      <td>Public</td>\n",
       "      <td>Neutral</td>\n",
       "      <td>4</td>\n",
       "      <td>No</td>\n",
       "      <td>College</td>\n",
       "      <td>Near</td>\n",
       "      <td>Female</td>\n",
       "      <td>70</td>\n",
       "    </tr>\n",
       "    <tr>\n",
       "      <th>...</th>\n",
       "      <td>...</td>\n",
       "      <td>...</td>\n",
       "      <td>...</td>\n",
       "      <td>...</td>\n",
       "      <td>...</td>\n",
       "      <td>...</td>\n",
       "      <td>...</td>\n",
       "      <td>...</td>\n",
       "      <td>...</td>\n",
       "      <td>...</td>\n",
       "      <td>...</td>\n",
       "      <td>...</td>\n",
       "      <td>...</td>\n",
       "      <td>...</td>\n",
       "      <td>...</td>\n",
       "      <td>...</td>\n",
       "      <td>...</td>\n",
       "      <td>...</td>\n",
       "      <td>...</td>\n",
       "      <td>...</td>\n",
       "    </tr>\n",
       "    <tr>\n",
       "      <th>6602</th>\n",
       "      <td>25</td>\n",
       "      <td>69</td>\n",
       "      <td>High</td>\n",
       "      <td>Medium</td>\n",
       "      <td>No</td>\n",
       "      <td>7</td>\n",
       "      <td>76</td>\n",
       "      <td>Medium</td>\n",
       "      <td>Yes</td>\n",
       "      <td>1</td>\n",
       "      <td>High</td>\n",
       "      <td>Medium</td>\n",
       "      <td>Public</td>\n",
       "      <td>Positive</td>\n",
       "      <td>2</td>\n",
       "      <td>No</td>\n",
       "      <td>High School</td>\n",
       "      <td>Near</td>\n",
       "      <td>Female</td>\n",
       "      <td>68</td>\n",
       "    </tr>\n",
       "    <tr>\n",
       "      <th>6603</th>\n",
       "      <td>23</td>\n",
       "      <td>76</td>\n",
       "      <td>High</td>\n",
       "      <td>Medium</td>\n",
       "      <td>No</td>\n",
       "      <td>8</td>\n",
       "      <td>81</td>\n",
       "      <td>Medium</td>\n",
       "      <td>Yes</td>\n",
       "      <td>3</td>\n",
       "      <td>Low</td>\n",
       "      <td>High</td>\n",
       "      <td>Public</td>\n",
       "      <td>Positive</td>\n",
       "      <td>2</td>\n",
       "      <td>No</td>\n",
       "      <td>High School</td>\n",
       "      <td>Near</td>\n",
       "      <td>Female</td>\n",
       "      <td>69</td>\n",
       "    </tr>\n",
       "    <tr>\n",
       "      <th>6604</th>\n",
       "      <td>20</td>\n",
       "      <td>90</td>\n",
       "      <td>Medium</td>\n",
       "      <td>Low</td>\n",
       "      <td>Yes</td>\n",
       "      <td>6</td>\n",
       "      <td>65</td>\n",
       "      <td>Low</td>\n",
       "      <td>Yes</td>\n",
       "      <td>3</td>\n",
       "      <td>Low</td>\n",
       "      <td>Medium</td>\n",
       "      <td>Public</td>\n",
       "      <td>Negative</td>\n",
       "      <td>2</td>\n",
       "      <td>No</td>\n",
       "      <td>Postgraduate</td>\n",
       "      <td>Near</td>\n",
       "      <td>Female</td>\n",
       "      <td>68</td>\n",
       "    </tr>\n",
       "    <tr>\n",
       "      <th>6605</th>\n",
       "      <td>10</td>\n",
       "      <td>86</td>\n",
       "      <td>High</td>\n",
       "      <td>High</td>\n",
       "      <td>Yes</td>\n",
       "      <td>6</td>\n",
       "      <td>91</td>\n",
       "      <td>High</td>\n",
       "      <td>Yes</td>\n",
       "      <td>2</td>\n",
       "      <td>Low</td>\n",
       "      <td>Medium</td>\n",
       "      <td>Private</td>\n",
       "      <td>Positive</td>\n",
       "      <td>3</td>\n",
       "      <td>No</td>\n",
       "      <td>High School</td>\n",
       "      <td>Far</td>\n",
       "      <td>Female</td>\n",
       "      <td>68</td>\n",
       "    </tr>\n",
       "    <tr>\n",
       "      <th>6606</th>\n",
       "      <td>15</td>\n",
       "      <td>67</td>\n",
       "      <td>Medium</td>\n",
       "      <td>Low</td>\n",
       "      <td>Yes</td>\n",
       "      <td>9</td>\n",
       "      <td>94</td>\n",
       "      <td>Medium</td>\n",
       "      <td>Yes</td>\n",
       "      <td>0</td>\n",
       "      <td>Medium</td>\n",
       "      <td>Medium</td>\n",
       "      <td>Public</td>\n",
       "      <td>Positive</td>\n",
       "      <td>4</td>\n",
       "      <td>No</td>\n",
       "      <td>Postgraduate</td>\n",
       "      <td>Near</td>\n",
       "      <td>Male</td>\n",
       "      <td>64</td>\n",
       "    </tr>\n",
       "  </tbody>\n",
       "</table>\n",
       "<p>6378 rows × 20 columns</p>\n",
       "</div>"
      ],
      "text/plain": [
       "      Hours_Studied  Attendance Parental_Involvement Access_to_Resources  \\\n",
       "0                23          84                  Low                High   \n",
       "1                19          64                  Low              Medium   \n",
       "2                24          98               Medium              Medium   \n",
       "3                29          89                  Low              Medium   \n",
       "4                19          92               Medium              Medium   \n",
       "...             ...         ...                  ...                 ...   \n",
       "6602             25          69                 High              Medium   \n",
       "6603             23          76                 High              Medium   \n",
       "6604             20          90               Medium                 Low   \n",
       "6605             10          86                 High                High   \n",
       "6606             15          67               Medium                 Low   \n",
       "\n",
       "     Extracurricular_Activities  Sleep_Hours  Previous_Scores  \\\n",
       "0                            No            7               73   \n",
       "1                            No            8               59   \n",
       "2                           Yes            7               91   \n",
       "3                           Yes            8               98   \n",
       "4                           Yes            6               65   \n",
       "...                         ...          ...              ...   \n",
       "6602                         No            7               76   \n",
       "6603                         No            8               81   \n",
       "6604                        Yes            6               65   \n",
       "6605                        Yes            6               91   \n",
       "6606                        Yes            9               94   \n",
       "\n",
       "     Motivation_Level Internet_Access  Tutoring_Sessions Family_Income  \\\n",
       "0                 Low             Yes                  0           Low   \n",
       "1                 Low             Yes                  2        Medium   \n",
       "2              Medium             Yes                  2        Medium   \n",
       "3              Medium             Yes                  1        Medium   \n",
       "4              Medium             Yes                  3        Medium   \n",
       "...               ...             ...                ...           ...   \n",
       "6602           Medium             Yes                  1          High   \n",
       "6603           Medium             Yes                  3           Low   \n",
       "6604              Low             Yes                  3           Low   \n",
       "6605             High             Yes                  2           Low   \n",
       "6606           Medium             Yes                  0        Medium   \n",
       "\n",
       "     Teacher_Quality School_Type Peer_Influence  Physical_Activity  \\\n",
       "0             Medium      Public       Positive                  3   \n",
       "1             Medium      Public       Negative                  4   \n",
       "2             Medium      Public        Neutral                  4   \n",
       "3             Medium      Public       Negative                  4   \n",
       "4               High      Public        Neutral                  4   \n",
       "...              ...         ...            ...                ...   \n",
       "6602          Medium      Public       Positive                  2   \n",
       "6603            High      Public       Positive                  2   \n",
       "6604          Medium      Public       Negative                  2   \n",
       "6605          Medium     Private       Positive                  3   \n",
       "6606          Medium      Public       Positive                  4   \n",
       "\n",
       "     Learning_Disabilities Parental_Education_Level Distance_from_Home  \\\n",
       "0                       No              High School               Near   \n",
       "1                       No                  College           Moderate   \n",
       "2                       No             Postgraduate               Near   \n",
       "3                       No              High School           Moderate   \n",
       "4                       No                  College               Near   \n",
       "...                    ...                      ...                ...   \n",
       "6602                    No              High School               Near   \n",
       "6603                    No              High School               Near   \n",
       "6604                    No             Postgraduate               Near   \n",
       "6605                    No              High School                Far   \n",
       "6606                    No             Postgraduate               Near   \n",
       "\n",
       "      Gender  Exam_Score  \n",
       "0       Male          67  \n",
       "1     Female          61  \n",
       "2       Male          74  \n",
       "3       Male          71  \n",
       "4     Female          70  \n",
       "...      ...         ...  \n",
       "6602  Female          68  \n",
       "6603  Female          69  \n",
       "6604  Female          68  \n",
       "6605  Female          68  \n",
       "6606    Male          64  \n",
       "\n",
       "[6378 rows x 20 columns]"
      ]
     },
     "execution_count": 6,
     "metadata": {},
     "output_type": "execute_result"
    }
   ],
   "source": [
    "df.dropna(inplace=True)\n",
    "df"
   ]
  },
  {
   "cell_type": "markdown",
   "id": "4c02559f",
   "metadata": {
    "papermill": {
     "duration": 0.032155,
     "end_time": "2024-11-02T17:37:10.383532",
     "exception": false,
     "start_time": "2024-11-02T17:37:10.351377",
     "status": "completed"
    },
    "tags": []
   },
   "source": [
    "<h2>3. Outliers"
   ]
  },
  {
   "cell_type": "code",
   "execution_count": 7,
   "id": "586a9fa8",
   "metadata": {
    "execution": {
     "iopub.execute_input": "2024-11-02T17:37:10.449466Z",
     "iopub.status.busy": "2024-11-02T17:37:10.448423Z",
     "iopub.status.idle": "2024-11-02T17:37:10.454185Z",
     "shell.execute_reply": "2024-11-02T17:37:10.453225Z"
    },
    "papermill": {
     "duration": 0.040905,
     "end_time": "2024-11-02T17:37:10.456821",
     "exception": false,
     "start_time": "2024-11-02T17:37:10.415916",
     "status": "completed"
    },
    "tags": []
   },
   "outputs": [],
   "source": [
    "#New dataframe with only numerical value\n",
    "newdf = df.select_dtypes(include='number')"
   ]
  },
  {
   "cell_type": "code",
   "execution_count": 8,
   "id": "2c8e35d7",
   "metadata": {
    "execution": {
     "iopub.execute_input": "2024-11-02T17:37:10.521136Z",
     "iopub.status.busy": "2024-11-02T17:37:10.519971Z",
     "iopub.status.idle": "2024-11-02T17:37:12.166645Z",
     "shell.execute_reply": "2024-11-02T17:37:12.165558Z"
    },
    "papermill": {
     "duration": 1.68106,
     "end_time": "2024-11-02T17:37:12.169015",
     "exception": false,
     "start_time": "2024-11-02T17:37:10.487955",
     "status": "completed"
    },
    "tags": []
   },
   "outputs": [
    {
     "data": {
      "image/png": "[encoded data removed]",
      "text/plain": [
       "<Figure size 700x500 with 1 Axes>"
      ]
     },
     "metadata": {},
     "output_type": "display_data"
    },
    {
     "data": {
      "image/png": "[encoded data removed]",
      "text/plain": [
       "<Figure size 700x500 with 1 Axes>"
      ]
     },
     "metadata": {},
     "output_type": "display_data"
    },
    {
     "data": {
      "image/png": "[encoded data removed]",
      "text/plain": [
       "<Figure size 700x500 with 1 Axes>"
      ]
     },
     "metadata": {},
     "output_type": "display_data"
    },
    {
     "data": {
      "image/png": "[encoded data removed]",
      "text/plain": [
       "<Figure size 700x500 with 1 Axes>"
      ]
     },
     "metadata": {},
     "output_type": "display_data"
    },
    {
     "data": {
      "image/png": "[encoded data removed]",
      "text/plain": [
       "<Figure size 700x500 with 1 Axes>"
      ]
     },
     "metadata": {},
     "output_type": "display_data"
    },
    {
     "data": {
      "image/png": "[encoded data removed]",
      "text/plain": [
       "<Figure size 700x500 with 1 Axes>"
      ]
     },
     "metadata": {},
     "output_type": "display_data"
    },
    {
     "data": {
      "image/png": "[encoded data removed]",
      "text/plain": [
       "<Figure size 700x500 with 1 Axes>"
      ]
     },
     "metadata": {},
     "output_type": "display_data"
    }
   ],
   "source": [
    "#Checking if any outliers in dataset by using Boxplot \n",
    "for i in newdf.columns:\n",
    "    fig = plt.figure(figsize =(7, 5))\n",
    "    plt.boxplot(newdf[i])\n",
    "    plt.title(i)\n",
    "\n",
    "plt.show()"
   ]
  },
  {
   "cell_type": "markdown",
   "id": "ff3e4982",
   "metadata": {
    "papermill": {
     "duration": 0.034235,
     "end_time": "2024-11-02T17:37:12.237267",
     "exception": false,
     "start_time": "2024-11-02T17:37:12.203032",
     "status": "completed"
    },
    "tags": []
   },
   "source": [
    "- There are outliers in some attributes ('Hour_Studied', 'Tutoring_Session', 'Exam_Score'). But I'm not sure what caused these outliers, so I haven't deleted them yet. In the next steps, I will analyze in detail to see if these outliers are in the data range and then decide whether to keep or delete them."
   ]
  },
  {
   "cell_type": "markdown",
   "id": "a8f995e7",
   "metadata": {
    "papermill": {
     "duration": 0.033813,
     "end_time": "2024-11-02T17:37:12.305757",
     "exception": false,
     "start_time": "2024-11-02T17:37:12.271944",
     "status": "completed"
    },
    "tags": []
   },
   "source": [
    "<h2>4. Inconsistent and irrelevant data"
   ]
  },
  {
   "cell_type": "markdown",
   "id": "75889ed8",
   "metadata": {
    "papermill": {
     "duration": 0.034483,
     "end_time": "2024-11-02T17:37:12.374264",
     "exception": false,
     "start_time": "2024-11-02T17:37:12.339781",
     "status": "completed"
    },
    "tags": []
   },
   "source": [
    "- I will go through the distribution and statistics of all attributes to see if any inconsistent or irrelevant data"
   ]
  },
  {
   "cell_type": "markdown",
   "id": "0e1d2b1c",
   "metadata": {
    "papermill": {
     "duration": 0.034519,
     "end_time": "2024-11-02T17:37:12.443540",
     "exception": false,
     "start_time": "2024-11-02T17:37:12.409021",
     "status": "completed"
    },
    "tags": []
   },
   "source": [
    "<h3>4.1. Hours_Studied (Numeric variable)"
   ]
  },
  {
   "cell_type": "code",
   "execution_count": null,
   "id": "bb170f7d",
   "metadata": {
    "papermill": {
     "duration": 0.033572,
     "end_time": "2024-11-02T17:37:12.510569",
     "exception": false,
     "start_time": "2024-11-02T17:37:12.476997",
     "status": "completed"
    },
    "tags": []
   },
   "outputs": [],
   "source": []
  },
  {
   "cell_type": "code",
   "execution_count": 9,
   "id": "28b18926",
   "metadata": {
    "execution": {
     "iopub.execute_input": "2024-11-02T17:37:12.582591Z",
     "iopub.status.busy": "2024-11-02T17:37:12.581847Z",
     "iopub.status.idle": "2024-11-02T17:37:12.917230Z",
     "shell.execute_reply": "2024-11-02T17:37:12.916153Z"
    },
    "papermill": {
     "duration": 0.373081,
     "end_time": "2024-11-02T17:37:12.919687",
     "exception": false,
     "start_time": "2024-11-02T17:37:12.546606",
     "status": "completed"
    },
    "tags": []
   },
   "outputs": [
    {
     "data": {
      "image/png": "[encoded data removed]",
      "text/plain": [
       "<Figure size 640x480 with 1 Axes>"
      ]
     },
     "metadata": {},
     "output_type": "display_data"
    }
   ],
   "source": [
    "#Visualizing the distribution of Hour_Studied\n",
    "fig, ax = plt.subplots()\n",
    "\n",
    "ax.hist(df['Hours_Studied'], bins=100, color='teal')\n",
    "ax.spines.right.set_visible(False)\n",
    "ax.spines.top.set_visible(False)"
   ]
  },
  {
   "cell_type": "code",
   "execution_count": 10,
   "id": "a8dc9e83",
   "metadata": {
    "execution": {
     "iopub.execute_input": "2024-11-02T17:37:12.992864Z",
     "iopub.status.busy": "2024-11-02T17:37:12.991668Z",
     "iopub.status.idle": "2024-11-02T17:37:13.010365Z",
     "shell.execute_reply": "2024-11-02T17:37:13.009376Z"
    },
    "papermill": {
     "duration": 0.057337,
     "end_time": "2024-11-02T17:37:13.012441",
     "exception": false,
     "start_time": "2024-11-02T17:37:12.955104",
     "status": "completed"
    },
    "tags": []
   },
   "outputs": [
    {
     "name": "stdout",
     "output_type": "stream",
     "text": [
      "Distinct: 41 Zeros: 0  Negative 0 Sum: 127414  Kurtosis: 0.006554000531401982  Skewness: 0.016224630345704642  Variance: 35.82572649937036\n"
     ]
    },
    {
     "data": {
      "text/plain": [
       "count    6378.000000\n",
       "mean       19.977109\n",
       "std         5.985460\n",
       "min         1.000000\n",
       "25%        16.000000\n",
       "50%        20.000000\n",
       "75%        24.000000\n",
       "max        44.000000\n",
       "Name: Hours_Studied, dtype: float64"
      ]
     },
     "execution_count": 10,
     "metadata": {},
     "output_type": "execute_result"
    }
   ],
   "source": [
    "distinct = df['Hours_Studied'].nunique()\n",
    "zeros = df[df['Hours_Studied'] == 0]['Hours_Studied'].count()\n",
    "negative = df[df['Hours_Studied'] < 0]['Hours_Studied'].count()\n",
    "sum = df['Hours_Studied'].sum()\n",
    "kurtosis = df['Hours_Studied'].kurtosis()\n",
    "skewness  = df['Hours_Studied'].skew()\n",
    "variance = df['Hours_Studied'].var()\n",
    "print(f'Distinct: {distinct} Zeros: {zeros}  Negative {negative} Sum: {sum}  Kurtosis: {kurtosis}  Skewness: {skewness}  Variance: {variance}')\n",
    "\n",
    "df['Hours_Studied'].describe()"
   ]
  },
  {
   "cell_type": "markdown",
   "id": "b9954224",
   "metadata": {
    "papermill": {
     "duration": 0.034528,
     "end_time": "2024-11-02T17:37:13.082429",
     "exception": false,
     "start_time": "2024-11-02T17:37:13.047901",
     "status": "completed"
    },
    "tags": []
   },
   "source": [
    "<h3>4.2. Attendance (Numeric variable)"
   ]
  },
  {
   "cell_type": "code",
   "execution_count": 11,
   "id": "f3304226",
   "metadata": {
    "execution": {
     "iopub.execute_input": "2024-11-02T17:37:13.151380Z",
     "iopub.status.busy": "2024-11-02T17:37:13.150975Z",
     "iopub.status.idle": "2024-11-02T17:37:13.577024Z",
     "shell.execute_reply": "2024-11-02T17:37:13.575955Z"
    },
    "papermill": {
     "duration": 0.463389,
     "end_time": "2024-11-02T17:37:13.579365",
     "exception": false,
     "start_time": "2024-11-02T17:37:13.115976",
     "status": "completed"
    },
    "tags": []
   },
   "outputs": [
    {
     "data": {
      "image/png": "[encoded data removed]",
      "text/plain": [
       "<Figure size 640x480 with 1 Axes>"
      ]
     },
     "metadata": {},
     "output_type": "display_data"
    }
   ],
   "source": [
    "#Visualizing the distribution of Attendance\n",
    "fig, ax = plt.subplots()\n",
    "\n",
    "ax.hist(df['Attendance'], bins=100, color='teal')\n",
    "ax.spines.right.set_visible(False)\n",
    "ax.spines.top.set_visible(False)"
   ]
  },
  {
   "cell_type": "code",
   "execution_count": 12,
   "id": "9fa68eac",
   "metadata": {
    "execution": {
     "iopub.execute_input": "2024-11-02T17:37:13.650291Z",
     "iopub.status.busy": "2024-11-02T17:37:13.649917Z",
     "iopub.status.idle": "2024-11-02T17:37:13.667352Z",
     "shell.execute_reply": "2024-11-02T17:37:13.666342Z"
    },
    "papermill": {
     "duration": 0.056291,
     "end_time": "2024-11-02T17:37:13.669566",
     "exception": false,
     "start_time": "2024-11-02T17:37:13.613275",
     "status": "completed"
    },
    "tags": []
   },
   "outputs": [
    {
     "name": "stdout",
     "output_type": "stream",
     "text": [
      "Distinct: 41 Zeros: 0  Negative 0 Sum: 510373  Kurtosis: -1.1958142510825538  Skewness: 0.005662718901984047  Variance: 133.41919814333545\n"
     ]
    },
    {
     "data": {
      "text/plain": [
       "count    6378.000000\n",
       "mean       80.020853\n",
       "std        11.550723\n",
       "min        60.000000\n",
       "25%        70.000000\n",
       "50%        80.000000\n",
       "75%        90.000000\n",
       "max       100.000000\n",
       "Name: Attendance, dtype: float64"
      ]
     },
     "execution_count": 12,
     "metadata": {},
     "output_type": "execute_result"
    }
   ],
   "source": [
    "distinct = df['Attendance'].nunique()\n",
    "zeros = df[df['Attendance'] == 0]['Attendance'].count()\n",
    "negative = df[df['Attendance'] < 0]['Attendance'].count()\n",
    "sum = df['Attendance'].sum()\n",
    "kurtosis = df['Attendance'].kurtosis()\n",
    "skewness  = df['Attendance'].skew()\n",
    "variance = df['Attendance'].var()\n",
    "print(f'Distinct: {distinct} Zeros: {zeros}  Negative {negative} Sum: {sum}  Kurtosis: {kurtosis}  Skewness: {skewness}  Variance: {variance}')\n",
    "\n",
    "df['Attendance'].describe()"
   ]
  },
  {
   "cell_type": "markdown",
   "id": "77d06715",
   "metadata": {
    "papermill": {
     "duration": 0.035275,
     "end_time": "2024-11-02T17:37:13.739874",
     "exception": false,
     "start_time": "2024-11-02T17:37:13.704599",
     "status": "completed"
    },
    "tags": []
   },
   "source": [
    "<h3>4.3. Parental_Involvement (Categorical variable)"
   ]
  },
  {
   "cell_type": "code",
   "execution_count": 13,
   "id": "d2010619",
   "metadata": {
    "execution": {
     "iopub.execute_input": "2024-11-02T17:37:13.812763Z",
     "iopub.status.busy": "2024-11-02T17:37:13.812348Z",
     "iopub.status.idle": "2024-11-02T17:37:13.957050Z",
     "shell.execute_reply": "2024-11-02T17:37:13.955524Z"
    },
    "papermill": {
     "duration": 0.185942,
     "end_time": "2024-11-02T17:37:13.961027",
     "exception": false,
     "start_time": "2024-11-02T17:37:13.775085",
     "status": "completed"
    },
    "tags": []
   },
   "outputs": [
    {
     "data": {
      "image/png": "[encoded data removed]",
      "text/plain": [
       "<Figure size 640x480 with 1 Axes>"
      ]
     },
     "metadata": {},
     "output_type": "display_data"
    }
   ],
   "source": [
    "#Visualizing the distribution of Parental_Involvement\n",
    "fig, ax = plt.subplots()\n",
    "value_count = df['Parental_Involvement'].value_counts()\n",
    "\n",
    "ax.pie(value_count, labels=value_count.index, autopct='%1.1f%%', colors=['lightseagreen', 'slateblue', 'lightgray'])\n",
    "ax.spines.right.set_visible(False)\n",
    "ax.spines.top.set_visible(False)"
   ]
  },
  {
   "cell_type": "code",
   "execution_count": 14,
   "id": "f9d8dab1",
   "metadata": {
    "execution": {
     "iopub.execute_input": "2024-11-02T17:37:14.065926Z",
     "iopub.status.busy": "2024-11-02T17:37:14.065506Z",
     "iopub.status.idle": "2024-11-02T17:37:14.071656Z",
     "shell.execute_reply": "2024-11-02T17:37:14.070795Z"
    },
    "papermill": {
     "duration": 0.044685,
     "end_time": "2024-11-02T17:37:14.074590",
     "exception": false,
     "start_time": "2024-11-02T17:37:14.029905",
     "status": "completed"
    },
    "tags": []
   },
   "outputs": [
    {
     "name": "stdout",
     "output_type": "stream",
     "text": [
      "Distinct: 3\n"
     ]
    }
   ],
   "source": [
    "distinct = df['Parental_Involvement'].nunique()\n",
    "print(f'Distinct: {distinct}')"
   ]
  },
  {
   "cell_type": "markdown",
   "id": "34d6844b",
   "metadata": {
    "papermill": {
     "duration": 0.034615,
     "end_time": "2024-11-02T17:37:14.143915",
     "exception": false,
     "start_time": "2024-11-02T17:37:14.109300",
     "status": "completed"
    },
    "tags": []
   },
   "source": [
    "<h3>4.4. Access_to_Resources (Categorical variable)"
   ]
  },
  {
   "cell_type": "code",
   "execution_count": 15,
   "id": "44bed6fe",
   "metadata": {
    "execution": {
     "iopub.execute_input": "2024-11-02T17:37:14.215496Z",
     "iopub.status.busy": "2024-11-02T17:37:14.215009Z",
     "iopub.status.idle": "2024-11-02T17:37:14.348014Z",
     "shell.execute_reply": "2024-11-02T17:37:14.346309Z"
    },
    "papermill": {
     "duration": 0.175074,
     "end_time": "2024-11-02T17:37:14.354286",
     "exception": false,
     "start_time": "2024-11-02T17:37:14.179212",
     "status": "completed"
    },
    "tags": []
   },
   "outputs": [
    {
     "data": {
      "image/png": "[encoded data removed]",
      "text/plain": [
       "<Figure size 640x480 with 1 Axes>"
      ]
     },
     "metadata": {},
     "output_type": "display_data"
    }
   ],
   "source": [
    "#Visualizing the distribution of Access_to_Resources\n",
    "fig, ax = plt.subplots()\n",
    "value_count = df['Access_to_Resources'].value_counts()\n",
    "\n",
    "ax.pie(value_count, labels=value_count.index, autopct='%1.1f%%', colors=['lightseagreen', 'slateblue', 'lightgray'])\n",
    "ax.spines.right.set_visible(False)\n",
    "ax.spines.top.set_visible(False)"
   ]
  },
  {
   "cell_type": "code",
   "execution_count": 16,
   "id": "6624007a",
   "metadata": {
    "execution": {
     "iopub.execute_input": "2024-11-02T17:37:14.460950Z",
     "iopub.status.busy": "2024-11-02T17:37:14.460546Z",
     "iopub.status.idle": "2024-11-02T17:37:14.466784Z",
     "shell.execute_reply": "2024-11-02T17:37:14.465782Z"
    },
    "papermill": {
     "duration": 0.045031,
     "end_time": "2024-11-02T17:37:14.469466",
     "exception": false,
     "start_time": "2024-11-02T17:37:14.424435",
     "status": "completed"
    },
    "tags": []
   },
   "outputs": [
    {
     "name": "stdout",
     "output_type": "stream",
     "text": [
      "Distinct: 3\n"
     ]
    }
   ],
   "source": [
    "distinct = df['Access_to_Resources'].nunique()\n",
    "print(f'Distinct: {distinct}')"
   ]
  },
  {
   "cell_type": "markdown",
   "id": "025ac78f",
   "metadata": {
    "papermill": {
     "duration": 0.03403,
     "end_time": "2024-11-02T17:37:14.538134",
     "exception": false,
     "start_time": "2024-11-02T17:37:14.504104",
     "status": "completed"
    },
    "tags": []
   },
   "source": [
    "<h3>4.5. Sleep_Hours (Numeric variable)"
   ]
  },
  {
   "cell_type": "code",
   "execution_count": 17,
   "id": "582df1b1",
   "metadata": {
    "execution": {
     "iopub.execute_input": "2024-11-02T17:37:14.611222Z",
     "iopub.status.busy": "2024-11-02T17:37:14.610848Z",
     "iopub.status.idle": "2024-11-02T17:37:14.899858Z",
     "shell.execute_reply": "2024-11-02T17:37:14.898785Z"
    },
    "papermill": {
     "duration": 0.328044,
     "end_time": "2024-11-02T17:37:14.902245",
     "exception": false,
     "start_time": "2024-11-02T17:37:14.574201",
     "status": "completed"
    },
    "tags": []
   },
   "outputs": [
    {
     "data": {
      "image/png": "[encoded data removed]",
      "text/plain": [
       "<Figure size 640x480 with 1 Axes>"
      ]
     },
     "metadata": {},
     "output_type": "display_data"
    }
   ],
   "source": [
    "#Visualizing the distribution of Sleep_Hours\n",
    "fig, ax = plt.subplots()\n",
    "\n",
    "ax.hist(df['Sleep_Hours'], bins=20, color='teal')\n",
    "ax.spines.right.set_visible(False)\n",
    "ax.spines.top.set_visible(False)"
   ]
  },
  {
   "cell_type": "code",
   "execution_count": 18,
   "id": "2e0fc1d6",
   "metadata": {
    "execution": {
     "iopub.execute_input": "2024-11-02T17:37:14.975377Z",
     "iopub.status.busy": "2024-11-02T17:37:14.974940Z",
     "iopub.status.idle": "2024-11-02T17:37:14.991932Z",
     "shell.execute_reply": "2024-11-02T17:37:14.990916Z"
    },
    "papermill": {
     "duration": 0.05555,
     "end_time": "2024-11-02T17:37:14.994058",
     "exception": false,
     "start_time": "2024-11-02T17:37:14.938508",
     "status": "completed"
    },
    "tags": []
   },
   "outputs": [
    {
     "name": "stdout",
     "output_type": "stream",
     "text": [
      "Distinct: 7 Zeros: 0  Negative 0 Sum: 44869  Kurtosis: -0.5037837556802347  Skewness: -0.02681432855871459  Variance: 2.155120439345439\n"
     ]
    },
    {
     "data": {
      "text/plain": [
       "count    6378.000000\n",
       "mean        7.034964\n",
       "std         1.468033\n",
       "min         4.000000\n",
       "25%         6.000000\n",
       "50%         7.000000\n",
       "75%         8.000000\n",
       "max        10.000000\n",
       "Name: Sleep_Hours, dtype: float64"
      ]
     },
     "execution_count": 18,
     "metadata": {},
     "output_type": "execute_result"
    }
   ],
   "source": [
    "distinct = df['Sleep_Hours'].nunique()\n",
    "zeros = df[df['Sleep_Hours'] == 0]['Sleep_Hours'].count()\n",
    "negative = df[df['Sleep_Hours'] < 0]['Sleep_Hours'].count()\n",
    "sum = df['Sleep_Hours'].sum()\n",
    "kurtosis = df['Sleep_Hours'].kurtosis()\n",
    "skewness  = df['Sleep_Hours'].skew()\n",
    "variance = df['Sleep_Hours'].var()\n",
    "print(f'Distinct: {distinct} Zeros: {zeros}  Negative {negative} Sum: {sum}  Kurtosis: {kurtosis}  Skewness: {skewness}  Variance: {variance}')\n",
    "\n",
    "df['Sleep_Hours'].describe()"
   ]
  },
  {
   "cell_type": "markdown",
   "id": "c92cd80e",
   "metadata": {
    "papermill": {
     "duration": 0.036001,
     "end_time": "2024-11-02T17:37:15.065251",
     "exception": false,
     "start_time": "2024-11-02T17:37:15.029250",
     "status": "completed"
    },
    "tags": []
   },
   "source": [
    "<h3>4.6. Extracurricular_Activities (Categorical variable)"
   ]
  },
  {
   "cell_type": "code",
   "execution_count": 19,
   "id": "0d172a82",
   "metadata": {
    "execution": {
     "iopub.execute_input": "2024-11-02T17:37:15.137965Z",
     "iopub.status.busy": "2024-11-02T17:37:15.137192Z",
     "iopub.status.idle": "2024-11-02T17:37:15.231457Z",
     "shell.execute_reply": "2024-11-02T17:37:15.230376Z"
    },
    "papermill": {
     "duration": 0.134351,
     "end_time": "2024-11-02T17:37:15.235775",
     "exception": false,
     "start_time": "2024-11-02T17:37:15.101424",
     "status": "completed"
    },
    "tags": []
   },
   "outputs": [
    {
     "data": {
      "image/png": "[encoded data removed]",
      "text/plain": [
       "<Figure size 640x480 with 1 Axes>"
      ]
     },
     "metadata": {},
     "output_type": "display_data"
    }
   ],
   "source": [
    "#Visualizing the distribution of Extracurricular_Activities\n",
    "fig, ax = plt.subplots()\n",
    "value_count = df['Extracurricular_Activities'].value_counts()\n",
    "\n",
    "ax.pie(value_count, labels=value_count.index, autopct='%1.1f%%', colors=['lightseagreen', 'slateblue', 'lightgray'])\n",
    "ax.spines.right.set_visible(False)\n",
    "ax.spines.top.set_visible(False)"
   ]
  },
  {
   "cell_type": "code",
   "execution_count": 20,
   "id": "a961065b",
   "metadata": {
    "execution": {
     "iopub.execute_input": "2024-11-02T17:37:15.359516Z",
     "iopub.status.busy": "2024-11-02T17:37:15.358711Z",
     "iopub.status.idle": "2024-11-02T17:37:15.364780Z",
     "shell.execute_reply": "2024-11-02T17:37:15.363823Z"
    },
    "papermill": {
     "duration": 0.054004,
     "end_time": "2024-11-02T17:37:15.367168",
     "exception": false,
     "start_time": "2024-11-02T17:37:15.313164",
     "status": "completed"
    },
    "tags": []
   },
   "outputs": [
    {
     "name": "stdout",
     "output_type": "stream",
     "text": [
      "Distinct: 2\n"
     ]
    }
   ],
   "source": [
    "distinct = df['Extracurricular_Activities'].nunique()\n",
    "print(f'Distinct: {distinct}')"
   ]
  },
  {
   "cell_type": "markdown",
   "id": "f65e2c53",
   "metadata": {
    "papermill": {
     "duration": 0.035935,
     "end_time": "2024-11-02T17:37:15.438593",
     "exception": false,
     "start_time": "2024-11-02T17:37:15.402658",
     "status": "completed"
    },
    "tags": []
   },
   "source": [
    "<h3>4.7. Previous_Scores (Numeric variable)"
   ]
  },
  {
   "cell_type": "code",
   "execution_count": 21,
   "id": "f1eeca36",
   "metadata": {
    "execution": {
     "iopub.execute_input": "2024-11-02T17:37:15.511164Z",
     "iopub.status.busy": "2024-11-02T17:37:15.510315Z",
     "iopub.status.idle": "2024-11-02T17:37:15.866541Z",
     "shell.execute_reply": "2024-11-02T17:37:15.865414Z"
    },
    "papermill": {
     "duration": 0.39513,
     "end_time": "2024-11-02T17:37:15.869221",
     "exception": false,
     "start_time": "2024-11-02T17:37:15.474091",
     "status": "completed"
    },
    "tags": []
   },
   "outputs": [
    {
     "data": {
      "image/png": "[encoded data removed]",
      "text/plain": [
       "<Figure size 640x480 with 1 Axes>"
      ]
     },
     "metadata": {},
     "output_type": "display_data"
    }
   ],
   "source": [
    "#Visualizing the distribution of Previous_Score\n",
    "fig, ax = plt.subplots()\n",
    "\n",
    "ax.hist(df['Previous_Scores'], bins=100, color='teal')\n",
    "ax.spines.right.set_visible(False)\n",
    "ax.spines.top.set_visible(False)"
   ]
  },
  {
   "cell_type": "code",
   "execution_count": 22,
   "id": "fbb15d2c",
   "metadata": {
    "execution": {
     "iopub.execute_input": "2024-11-02T17:37:15.942580Z",
     "iopub.status.busy": "2024-11-02T17:37:15.942126Z",
     "iopub.status.idle": "2024-11-02T17:37:15.958686Z",
     "shell.execute_reply": "2024-11-02T17:37:15.957501Z"
    },
    "papermill": {
     "duration": 0.056018,
     "end_time": "2024-11-02T17:37:15.961165",
     "exception": false,
     "start_time": "2024-11-02T17:37:15.905147",
     "status": "completed"
    },
    "tags": []
   },
   "outputs": [
    {
     "name": "stdout",
     "output_type": "stream",
     "text": [
      "Distinct: 51 Zeros: 0  Negative 0 Sum: 478772  Kurtosis: -1.1921974066389254  Skewness: -0.0013616826888904168  Variance: 207.37118996306745\n"
     ]
    },
    {
     "data": {
      "text/plain": [
       "count    6378.000000\n",
       "mean       75.066165\n",
       "std        14.400389\n",
       "min        50.000000\n",
       "25%        63.000000\n",
       "50%        75.000000\n",
       "75%        88.000000\n",
       "max       100.000000\n",
       "Name: Previous_Scores, dtype: float64"
      ]
     },
     "execution_count": 22,
     "metadata": {},
     "output_type": "execute_result"
    }
   ],
   "source": [
    "distinct = df['Previous_Scores'].nunique()\n",
    "zeros = df[df['Previous_Scores'] == 0]['Previous_Scores'].count()\n",
    "negative = df[df['Previous_Scores'] < 0]['Previous_Scores'].count()\n",
    "sum = df['Previous_Scores'].sum()\n",
    "kurtosis = df['Previous_Scores'].kurtosis()\n",
    "skewness  = df['Previous_Scores'].skew()\n",
    "variance = df['Previous_Scores'].var()\n",
    "print(f'Distinct: {distinct} Zeros: {zeros}  Negative {negative} Sum: {sum}  Kurtosis: {kurtosis}  Skewness: {skewness}  Variance: {variance}')\n",
    "\n",
    "df['Previous_Scores'].describe()"
   ]
  },
  {
   "cell_type": "markdown",
   "id": "70b911f9",
   "metadata": {
    "papermill": {
     "duration": 0.036032,
     "end_time": "2024-11-02T17:37:16.033292",
     "exception": false,
     "start_time": "2024-11-02T17:37:15.997260",
     "status": "completed"
    },
    "tags": []
   },
   "source": [
    "<h3>4.8. Motivation_Level (Categorical variable)"
   ]
  },
  {
   "cell_type": "code",
   "execution_count": 23,
   "id": "949654ab",
   "metadata": {
    "execution": {
     "iopub.execute_input": "2024-11-02T17:37:16.111197Z",
     "iopub.status.busy": "2024-11-02T17:37:16.110220Z",
     "iopub.status.idle": "2024-11-02T17:37:16.241839Z",
     "shell.execute_reply": "2024-11-02T17:37:16.240491Z"
    },
    "papermill": {
     "duration": 0.173062,
     "end_time": "2024-11-02T17:37:16.244277",
     "exception": false,
     "start_time": "2024-11-02T17:37:16.071215",
     "status": "completed"
    },
    "tags": []
   },
   "outputs": [
    {
     "data": {
      "image/png": "[encoded data removed]",
      "text/plain": [
       "<Figure size 640x480 with 1 Axes>"
      ]
     },
     "metadata": {},
     "output_type": "display_data"
    }
   ],
   "source": [
    "#Visualizing the distribution of Motivation_Level\n",
    "fig, ax = plt.subplots()\n",
    "value_count = df['Motivation_Level'].value_counts()\n",
    "\n",
    "ax.pie(value_count, labels=value_count.index, autopct='%1.1f%%', colors=['lightseagreen', 'slateblue', 'lightgray'])\n",
    "ax.spines.right.set_visible(False)\n",
    "ax.spines.top.set_visible(False)"
   ]
  },
  {
   "cell_type": "code",
   "execution_count": 24,
   "id": "65fcf988",
   "metadata": {
    "execution": {
     "iopub.execute_input": "2024-11-02T17:37:16.324428Z",
     "iopub.status.busy": "2024-11-02T17:37:16.323720Z",
     "iopub.status.idle": "2024-11-02T17:37:16.330447Z",
     "shell.execute_reply": "2024-11-02T17:37:16.329352Z"
    },
    "papermill": {
     "duration": 0.049993,
     "end_time": "2024-11-02T17:37:16.333499",
     "exception": false,
     "start_time": "2024-11-02T17:37:16.283506",
     "status": "completed"
    },
    "tags": []
   },
   "outputs": [
    {
     "name": "stdout",
     "output_type": "stream",
     "text": [
      "Distinct: 3\n"
     ]
    }
   ],
   "source": [
    "distinct = df['Motivation_Level'].nunique()\n",
    "print(f'Distinct: {distinct}')"
   ]
  },
  {
   "cell_type": "markdown",
   "id": "cea5c50b",
   "metadata": {
    "papermill": {
     "duration": 0.036892,
     "end_time": "2024-11-02T17:37:16.453444",
     "exception": false,
     "start_time": "2024-11-02T17:37:16.416552",
     "status": "completed"
    },
    "tags": []
   },
   "source": [
    "<h3>4.9. Internet_Access (Categorical variable)"
   ]
  },
  {
   "cell_type": "code",
   "execution_count": 25,
   "id": "7167b109",
   "metadata": {
    "execution": {
     "iopub.execute_input": "2024-11-02T17:37:16.529205Z",
     "iopub.status.busy": "2024-11-02T17:37:16.528154Z",
     "iopub.status.idle": "2024-11-02T17:37:16.631188Z",
     "shell.execute_reply": "2024-11-02T17:37:16.630070Z"
    },
    "papermill": {
     "duration": 0.146765,
     "end_time": "2024-11-02T17:37:16.636877",
     "exception": false,
     "start_time": "2024-11-02T17:37:16.490112",
     "status": "completed"
    },
    "tags": []
   },
   "outputs": [
    {
     "data": {
      "image/png": "[encoded data removed]",
      "text/plain": [
       "<Figure size 640x480 with 1 Axes>"
      ]
     },
     "metadata": {},
     "output_type": "display_data"
    }
   ],
   "source": [
    "#Visualizing the distribution of Internet_Access\n",
    "fig, ax = plt.subplots()\n",
    "value_count = df['Internet_Access'].value_counts()\n",
    "\n",
    "ax.pie(value_count, labels=value_count.index, autopct='%1.1f%%', colors=['lightseagreen', 'slateblue', 'lightgray'])\n",
    "ax.spines.right.set_visible(False)\n",
    "ax.spines.top.set_visible(False)"
   ]
  },
  {
   "cell_type": "code",
   "execution_count": 26,
   "id": "0b559cad",
   "metadata": {
    "execution": {
     "iopub.execute_input": "2024-11-02T17:37:16.762279Z",
     "iopub.status.busy": "2024-11-02T17:37:16.761908Z",
     "iopub.status.idle": "2024-11-02T17:37:16.769149Z",
     "shell.execute_reply": "2024-11-02T17:37:16.767371Z"
    },
    "papermill": {
     "duration": 0.054396,
     "end_time": "2024-11-02T17:37:16.771358",
     "exception": false,
     "start_time": "2024-11-02T17:37:16.716962",
     "status": "completed"
    },
    "tags": []
   },
   "outputs": [
    {
     "name": "stdout",
     "output_type": "stream",
     "text": [
      "Distinct: 2\n"
     ]
    }
   ],
   "source": [
    "distinct = df['Internet_Access'].nunique()\n",
    "print(f'Distinct: {distinct}')"
   ]
  },
  {
   "cell_type": "markdown",
   "id": "6f6b8b9e",
   "metadata": {
    "papermill": {
     "duration": 0.037789,
     "end_time": "2024-11-02T17:37:16.846721",
     "exception": false,
     "start_time": "2024-11-02T17:37:16.808932",
     "status": "completed"
    },
    "tags": []
   },
   "source": [
    "<h3>4.10. Tutoring_Sessions (Numeric variable )"
   ]
  },
  {
   "cell_type": "code",
   "execution_count": 27,
   "id": "79b5149d",
   "metadata": {
    "execution": {
     "iopub.execute_input": "2024-11-02T17:37:16.924220Z",
     "iopub.status.busy": "2024-11-02T17:37:16.923335Z",
     "iopub.status.idle": "2024-11-02T17:37:17.196198Z",
     "shell.execute_reply": "2024-11-02T17:37:17.195166Z"
    },
    "papermill": {
     "duration": 0.314753,
     "end_time": "2024-11-02T17:37:17.198681",
     "exception": false,
     "start_time": "2024-11-02T17:37:16.883928",
     "status": "completed"
    },
    "tags": []
   },
   "outputs": [
    {
     "data": {
      "image/png": "[encoded data removed]",
      "text/plain": [
       "<Figure size 640x480 with 1 Axes>"
      ]
     },
     "metadata": {},
     "output_type": "display_data"
    }
   ],
   "source": [
    "#Visualizing the distribution of Tutoring_Sessions\n",
    "fig, ax = plt.subplots()\n",
    "\n",
    "ax.hist(df['Tutoring_Sessions'], bins=41, color='teal')\n",
    "ax.spines.right.set_visible(False)\n",
    "ax.spines.top.set_visible(False)"
   ]
  },
  {
   "cell_type": "code",
   "execution_count": 28,
   "id": "98479f8c",
   "metadata": {
    "execution": {
     "iopub.execute_input": "2024-11-02T17:37:17.280640Z",
     "iopub.status.busy": "2024-11-02T17:37:17.279690Z",
     "iopub.status.idle": "2024-11-02T17:37:17.296863Z",
     "shell.execute_reply": "2024-11-02T17:37:17.295818Z"
    },
    "papermill": {
     "duration": 0.061801,
     "end_time": "2024-11-02T17:37:17.298922",
     "exception": false,
     "start_time": "2024-11-02T17:37:17.237121",
     "status": "completed"
    },
    "tags": []
   },
   "outputs": [
    {
     "name": "stdout",
     "output_type": "stream",
     "text": [
      "Distinct: 9 Zeros: 1458  Negative 0 Sum: 9537  Kurtosis: 0.6633967593211016  Skewness: 0.8252607117008907  Variance: 1.5227158365899558\n"
     ]
    },
    {
     "data": {
      "text/plain": [
       "count    6378.000000\n",
       "mean        1.495296\n",
       "std         1.233984\n",
       "min         0.000000\n",
       "25%         1.000000\n",
       "50%         1.000000\n",
       "75%         2.000000\n",
       "max         8.000000\n",
       "Name: Tutoring_Sessions, dtype: float64"
      ]
     },
     "execution_count": 28,
     "metadata": {},
     "output_type": "execute_result"
    }
   ],
   "source": [
    "distinct = df['Tutoring_Sessions'].nunique()\n",
    "zeros = df[df['Tutoring_Sessions'] == 0]['Tutoring_Sessions'].count()\n",
    "negative = df[df['Tutoring_Sessions'] < 0]['Tutoring_Sessions'].count()\n",
    "sum = df['Tutoring_Sessions'].sum()\n",
    "kurtosis = df['Tutoring_Sessions'].kurtosis()\n",
    "skewness  = df['Tutoring_Sessions'].skew()\n",
    "variance = df['Tutoring_Sessions'].var()\n",
    "\n",
    "print(f'Distinct: {distinct} Zeros: {zeros}  Negative {negative} Sum: {sum}  Kurtosis: {kurtosis}  Skewness: {skewness}  Variance: {variance}')\n",
    "\n",
    "df['Tutoring_Sessions'].describe()"
   ]
  },
  {
   "cell_type": "markdown",
   "id": "5145f66e",
   "metadata": {
    "papermill": {
     "duration": 0.038236,
     "end_time": "2024-11-02T17:37:17.374512",
     "exception": false,
     "start_time": "2024-11-02T17:37:17.336276",
     "status": "completed"
    },
    "tags": []
   },
   "source": [
    "<h3>4.11. Family_Income (Categorical variable)"
   ]
  },
  {
   "cell_type": "code",
   "execution_count": 29,
   "id": "e13b157d",
   "metadata": {
    "execution": {
     "iopub.execute_input": "2024-11-02T17:37:17.452418Z",
     "iopub.status.busy": "2024-11-02T17:37:17.451722Z",
     "iopub.status.idle": "2024-11-02T17:37:17.550928Z",
     "shell.execute_reply": "2024-11-02T17:37:17.549839Z"
    },
    "papermill": {
     "duration": 0.141224,
     "end_time": "2024-11-02T17:37:17.553373",
     "exception": false,
     "start_time": "2024-11-02T17:37:17.412149",
     "status": "completed"
    },
    "tags": []
   },
   "outputs": [
    {
     "data": {
      "image/png": "[encoded data removed]",
      "text/plain": [
       "<Figure size 640x480 with 1 Axes>"
      ]
     },
     "metadata": {},
     "output_type": "display_data"
    }
   ],
   "source": [
    "#Visualizing the distribution of Family_Income\n",
    "fig, ax = plt.subplots()\n",
    "value_count = df['Family_Income'].value_counts()\n",
    "\n",
    "ax.pie(value_count, labels=value_count.index, autopct='%1.1f%%', colors=['lightseagreen', 'slateblue', 'lightgray'])\n",
    "ax.spines.right.set_visible(False)\n",
    "ax.spines.top.set_visible(False)"
   ]
  },
  {
   "cell_type": "code",
   "execution_count": 30,
   "id": "70603931",
   "metadata": {
    "execution": {
     "iopub.execute_input": "2024-11-02T17:37:17.677681Z",
     "iopub.status.busy": "2024-11-02T17:37:17.677254Z",
     "iopub.status.idle": "2024-11-02T17:37:17.683668Z",
     "shell.execute_reply": "2024-11-02T17:37:17.682730Z"
    },
    "papermill": {
     "duration": 0.056863,
     "end_time": "2024-11-02T17:37:17.686080",
     "exception": false,
     "start_time": "2024-11-02T17:37:17.629217",
     "status": "completed"
    },
    "tags": []
   },
   "outputs": [
    {
     "name": "stdout",
     "output_type": "stream",
     "text": [
      "Distinct: 3\n"
     ]
    }
   ],
   "source": [
    "distinct = df['Family_Income'].nunique()\n",
    "print(f'Distinct: {distinct}')"
   ]
  },
  {
   "cell_type": "markdown",
   "id": "6d70c065",
   "metadata": {
    "papermill": {
     "duration": 0.0392,
     "end_time": "2024-11-02T17:37:17.764559",
     "exception": false,
     "start_time": "2024-11-02T17:37:17.725359",
     "status": "completed"
    },
    "tags": []
   },
   "source": [
    "<h3>4.12. School_Type (Categorical variable)"
   ]
  },
  {
   "cell_type": "code",
   "execution_count": 31,
   "id": "4f6c3a40",
   "metadata": {
    "execution": {
     "iopub.execute_input": "2024-11-02T17:37:17.842195Z",
     "iopub.status.busy": "2024-11-02T17:37:17.841814Z",
     "iopub.status.idle": "2024-11-02T17:37:17.957395Z",
     "shell.execute_reply": "2024-11-02T17:37:17.955737Z"
    },
    "papermill": {
     "duration": 0.159911,
     "end_time": "2024-11-02T17:37:17.963200",
     "exception": false,
     "start_time": "2024-11-02T17:37:17.803289",
     "status": "completed"
    },
    "tags": []
   },
   "outputs": [
    {
     "data": {
      "image/png": "[encoded data removed]",
      "text/plain": [
       "<Figure size 640x480 with 1 Axes>"
      ]
     },
     "metadata": {},
     "output_type": "display_data"
    }
   ],
   "source": [
    "#Visualizing the distribution of School_Type\n",
    "fig, ax = plt.subplots()\n",
    "value_count = df['School_Type'].value_counts()\n",
    "\n",
    "ax.pie(value_count, labels=value_count.index, autopct='%1.1f%%', colors=['lightseagreen', 'slateblue', 'lightgray'])\n",
    "ax.spines.right.set_visible(False)\n",
    "ax.spines.top.set_visible(False)"
   ]
  },
  {
   "cell_type": "code",
   "execution_count": 32,
   "id": "f72b079e",
   "metadata": {
    "execution": {
     "iopub.execute_input": "2024-11-02T17:37:18.078884Z",
     "iopub.status.busy": "2024-11-02T17:37:18.078160Z",
     "iopub.status.idle": "2024-11-02T17:37:18.084560Z",
     "shell.execute_reply": "2024-11-02T17:37:18.083539Z"
    },
    "papermill": {
     "duration": 0.048136,
     "end_time": "2024-11-02T17:37:18.086800",
     "exception": false,
     "start_time": "2024-11-02T17:37:18.038664",
     "status": "completed"
    },
    "tags": []
   },
   "outputs": [
    {
     "name": "stdout",
     "output_type": "stream",
     "text": [
      "Distinct: 2\n"
     ]
    }
   ],
   "source": [
    "distinct = df['School_Type'].nunique()\n",
    "print(f'Distinct: {distinct}')"
   ]
  },
  {
   "cell_type": "markdown",
   "id": "eedf251f",
   "metadata": {
    "papermill": {
     "duration": 0.037712,
     "end_time": "2024-11-02T17:37:18.162947",
     "exception": false,
     "start_time": "2024-11-02T17:37:18.125235",
     "status": "completed"
    },
    "tags": []
   },
   "source": [
    "<h3>4.13. Peer_Influence (Categorical variable)"
   ]
  },
  {
   "cell_type": "code",
   "execution_count": 33,
   "id": "6d41c9dd",
   "metadata": {
    "execution": {
     "iopub.execute_input": "2024-11-02T17:37:18.242444Z",
     "iopub.status.busy": "2024-11-02T17:37:18.241767Z",
     "iopub.status.idle": "2024-11-02T17:37:18.506883Z",
     "shell.execute_reply": "2024-11-02T17:37:18.505294Z"
    },
    "papermill": {
     "duration": 0.309134,
     "end_time": "2024-11-02T17:37:18.510889",
     "exception": false,
     "start_time": "2024-11-02T17:37:18.201755",
     "status": "completed"
    },
    "tags": []
   },
   "outputs": [
    {
     "data": {
      "image/png": "[encoded data removed]",
      "text/plain": [
       "<Figure size 640x480 with 1 Axes>"
      ]
     },
     "metadata": {},
     "output_type": "display_data"
    }
   ],
   "source": [
    "#Visualizing the distribution of Peer_Influence\n",
    "fig, ax = plt.subplots()\n",
    "value_count = df['Peer_Influence'].value_counts()\n",
    "\n",
    "ax.pie(value_count, labels=value_count.index, autopct='%1.1f%%', colors=['lightseagreen', 'slateblue', 'lightgray'])\n",
    "ax.spines.right.set_visible(False)\n",
    "ax.spines.top.set_visible(False)"
   ]
  },
  {
   "cell_type": "code",
   "execution_count": 34,
   "id": "072feeb1",
   "metadata": {
    "execution": {
     "iopub.execute_input": "2024-11-02T17:37:18.625123Z",
     "iopub.status.busy": "2024-11-02T17:37:18.624707Z",
     "iopub.status.idle": "2024-11-02T17:37:18.630927Z",
     "shell.execute_reply": "2024-11-02T17:37:18.629979Z"
    },
    "papermill": {
     "duration": 0.050799,
     "end_time": "2024-11-02T17:37:18.633743",
     "exception": false,
     "start_time": "2024-11-02T17:37:18.582944",
     "status": "completed"
    },
    "tags": []
   },
   "outputs": [
    {
     "name": "stdout",
     "output_type": "stream",
     "text": [
      "Distinct: 3\n"
     ]
    }
   ],
   "source": [
    "distinct = df['Peer_Influence'].nunique()\n",
    "print(f'Distinct: {distinct}')"
   ]
  },
  {
   "cell_type": "markdown",
   "id": "616c8b6e",
   "metadata": {
    "papermill": {
     "duration": 0.040371,
     "end_time": "2024-11-02T17:37:18.714940",
     "exception": false,
     "start_time": "2024-11-02T17:37:18.674569",
     "status": "completed"
    },
    "tags": []
   },
   "source": [
    "<h3>4.14. Physical_Activity (Numeric variable)"
   ]
  },
  {
   "cell_type": "code",
   "execution_count": 35,
   "id": "88145a38",
   "metadata": {
    "execution": {
     "iopub.execute_input": "2024-11-02T17:37:18.800319Z",
     "iopub.status.busy": "2024-11-02T17:37:18.799920Z",
     "iopub.status.idle": "2024-11-02T17:37:19.068556Z",
     "shell.execute_reply": "2024-11-02T17:37:19.067553Z"
    },
    "papermill": {
     "duration": 0.314359,
     "end_time": "2024-11-02T17:37:19.071007",
     "exception": false,
     "start_time": "2024-11-02T17:37:18.756648",
     "status": "completed"
    },
    "tags": []
   },
   "outputs": [
    {
     "data": {
      "image/png": "[encoded data removed]",
      "text/plain": [
       "<Figure size 640x480 with 1 Axes>"
      ]
     },
     "metadata": {},
     "output_type": "display_data"
    }
   ],
   "source": [
    "#Visualizing the distribution of Physical_Activity\n",
    "fig, ax = plt.subplots()\n",
    "\n",
    "ax.hist(df['Physical_Activity'], bins=20, color='teal')\n",
    "ax.spines.right.set_visible(False)\n",
    "ax.spines.top.set_visible(False)"
   ]
  },
  {
   "cell_type": "code",
   "execution_count": 36,
   "id": "adb11dbc",
   "metadata": {
    "execution": {
     "iopub.execute_input": "2024-11-02T17:37:19.153535Z",
     "iopub.status.busy": "2024-11-02T17:37:19.153105Z",
     "iopub.status.idle": "2024-11-02T17:37:19.170652Z",
     "shell.execute_reply": "2024-11-02T17:37:19.169627Z"
    },
    "papermill": {
     "duration": 0.061356,
     "end_time": "2024-11-02T17:37:19.173137",
     "exception": false,
     "start_time": "2024-11-02T17:37:19.111781",
     "status": "completed"
    },
    "tags": []
   },
   "outputs": [
    {
     "name": "stdout",
     "output_type": "stream",
     "text": [
      "Distinct: 7 Zeros: 44  Negative 0 Sum: 18960  Kurtosis: -0.05357412809793827  Skewness: -0.03705482879464206  Variance: 1.0586879500368136\n"
     ]
    },
    {
     "data": {
      "text/plain": [
       "count    6378.000000\n",
       "mean        2.972719\n",
       "std         1.028926\n",
       "min         0.000000\n",
       "25%         2.000000\n",
       "50%         3.000000\n",
       "75%         4.000000\n",
       "max         6.000000\n",
       "Name: Physical_Activity, dtype: float64"
      ]
     },
     "execution_count": 36,
     "metadata": {},
     "output_type": "execute_result"
    }
   ],
   "source": [
    "distinct = df['Physical_Activity'].nunique()\n",
    "zeros = df[df['Physical_Activity'] == 0]['Physical_Activity'].count()\n",
    "negative = df[df['Physical_Activity'] < 0]['Physical_Activity'].count()\n",
    "sum = df['Physical_Activity'].sum()\n",
    "kurtosis = df['Physical_Activity'].kurtosis()\n",
    "skewness  = df['Physical_Activity'].skew()\n",
    "variance = df['Physical_Activity'].var()\n",
    "print(f'Distinct: {distinct} Zeros: {zeros}  Negative {negative} Sum: {sum}  Kurtosis: {kurtosis}  Skewness: {skewness}  Variance: {variance}')\n",
    "\n",
    "df['Physical_Activity'].describe()"
   ]
  },
  {
   "cell_type": "markdown",
   "id": "dc3a3347",
   "metadata": {
    "papermill": {
     "duration": 0.039172,
     "end_time": "2024-11-02T17:37:19.253487",
     "exception": false,
     "start_time": "2024-11-02T17:37:19.214315",
     "status": "completed"
    },
    "tags": []
   },
   "source": [
    "<h3>4.15. Learning_Disabilities (Categorical variable)"
   ]
  },
  {
   "cell_type": "code",
   "execution_count": 37,
   "id": "6f894b3e",
   "metadata": {
    "execution": {
     "iopub.execute_input": "2024-11-02T17:37:19.337266Z",
     "iopub.status.busy": "2024-11-02T17:37:19.336151Z",
     "iopub.status.idle": "2024-11-02T17:37:19.443907Z",
     "shell.execute_reply": "2024-11-02T17:37:19.442832Z"
    },
    "papermill": {
     "duration": 0.154126,
     "end_time": "2024-11-02T17:37:19.448304",
     "exception": false,
     "start_time": "2024-11-02T17:37:19.294178",
     "status": "completed"
    },
    "tags": []
   },
   "outputs": [
    {
     "data": {
      "image/png": "[encoded data removed]",
      "text/plain": [
       "<Figure size 640x480 with 1 Axes>"
      ]
     },
     "metadata": {},
     "output_type": "display_data"
    }
   ],
   "source": [
    "#Visualizing the distribution of Learning_Disabilities\n",
    "fig, ax = plt.subplots()\n",
    "value_count = df['Learning_Disabilities'].value_counts()\n",
    "\n",
    "ax.pie(value_count, labels=value_count.index, autopct='%1.1f%%', colors=['lightseagreen', 'slateblue', 'lightgray'])\n",
    "ax.spines.right.set_visible(False)\n",
    "ax.spines.top.set_visible(False)"
   ]
  },
  {
   "cell_type": "code",
   "execution_count": 38,
   "id": "5ed394a5",
   "metadata": {
    "execution": {
     "iopub.execute_input": "2024-11-02T17:37:19.582572Z",
     "iopub.status.busy": "2024-11-02T17:37:19.582150Z",
     "iopub.status.idle": "2024-11-02T17:37:19.588202Z",
     "shell.execute_reply": "2024-11-02T17:37:19.587310Z"
    },
    "papermill": {
     "duration": 0.055236,
     "end_time": "2024-11-02T17:37:19.590798",
     "exception": false,
     "start_time": "2024-11-02T17:37:19.535562",
     "status": "completed"
    },
    "tags": []
   },
   "outputs": [
    {
     "name": "stdout",
     "output_type": "stream",
     "text": [
      "Distinct: 2\n"
     ]
    }
   ],
   "source": [
    "distinct = df['Learning_Disabilities'].nunique()\n",
    "print(f'Distinct: {distinct}')"
   ]
  },
  {
   "cell_type": "markdown",
   "id": "4304d2cf",
   "metadata": {
    "papermill": {
     "duration": 0.040243,
     "end_time": "2024-11-02T17:37:19.670540",
     "exception": false,
     "start_time": "2024-11-02T17:37:19.630297",
     "status": "completed"
    },
    "tags": []
   },
   "source": [
    "<h3>4.16. Gender (Categorical variable)"
   ]
  },
  {
   "cell_type": "code",
   "execution_count": 39,
   "id": "1e52cf30",
   "metadata": {
    "execution": {
     "iopub.execute_input": "2024-11-02T17:37:19.754628Z",
     "iopub.status.busy": "2024-11-02T17:37:19.753742Z",
     "iopub.status.idle": "2024-11-02T17:37:19.851183Z",
     "shell.execute_reply": "2024-11-02T17:37:19.850039Z"
    },
    "papermill": {
     "duration": 0.14482,
     "end_time": "2024-11-02T17:37:19.856050",
     "exception": false,
     "start_time": "2024-11-02T17:37:19.711230",
     "status": "completed"
    },
    "tags": []
   },
   "outputs": [
    {
     "data": {
      "image/png": "[encoded data removed]",
      "text/plain": [
       "<Figure size 640x480 with 1 Axes>"
      ]
     },
     "metadata": {},
     "output_type": "display_data"
    }
   ],
   "source": [
    "#Visualizing the distribution of Gender\n",
    "fig, ax = plt.subplots()\n",
    "value_count = df['Gender'].value_counts()\n",
    "\n",
    "ax.pie(value_count, labels=value_count.index, autopct='%1.1f%%', colors=['lightseagreen', 'slateblue', 'lightgray'])\n",
    "ax.spines.right.set_visible(False)\n",
    "ax.spines.top.set_visible(False)"
   ]
  },
  {
   "cell_type": "code",
   "execution_count": 40,
   "id": "4a66ffe9",
   "metadata": {
    "execution": {
     "iopub.execute_input": "2024-11-02T17:37:19.989929Z",
     "iopub.status.busy": "2024-11-02T17:37:19.989481Z",
     "iopub.status.idle": "2024-11-02T17:37:19.995883Z",
     "shell.execute_reply": "2024-11-02T17:37:19.994848Z"
    },
    "papermill": {
     "duration": 0.056115,
     "end_time": "2024-11-02T17:37:19.998871",
     "exception": false,
     "start_time": "2024-11-02T17:37:19.942756",
     "status": "completed"
    },
    "tags": []
   },
   "outputs": [
    {
     "name": "stdout",
     "output_type": "stream",
     "text": [
      "Distinct: 2\n"
     ]
    }
   ],
   "source": [
    "distinct = df['Gender'].nunique()\n",
    "print(f'Distinct: {distinct}')"
   ]
  },
  {
   "cell_type": "markdown",
   "id": "e0332e67",
   "metadata": {
    "papermill": {
     "duration": 0.04139,
     "end_time": "2024-11-02T17:37:20.082819",
     "exception": false,
     "start_time": "2024-11-02T17:37:20.041429",
     "status": "completed"
    },
    "tags": []
   },
   "source": [
    "<h3>4.17. Exam_Score (Numeric variable)"
   ]
  },
  {
   "cell_type": "code",
   "execution_count": 41,
   "id": "203a346a",
   "metadata": {
    "execution": {
     "iopub.execute_input": "2024-11-02T17:37:20.166150Z",
     "iopub.status.busy": "2024-11-02T17:37:20.165737Z",
     "iopub.status.idle": "2024-11-02T17:37:20.507872Z",
     "shell.execute_reply": "2024-11-02T17:37:20.506801Z"
    },
    "papermill": {
     "duration": 0.38613,
     "end_time": "2024-11-02T17:37:20.510019",
     "exception": false,
     "start_time": "2024-11-02T17:37:20.123889",
     "status": "completed"
    },
    "tags": []
   },
   "outputs": [
    {
     "data": {
      "image/png": "[encoded data removed]",
      "text/plain": [
       "<Figure size 640x480 with 1 Axes>"
      ]
     },
     "metadata": {},
     "output_type": "display_data"
    }
   ],
   "source": [
    "#Visualizing the distribution of Exam score \n",
    "fig, ax = plt.subplots()\n",
    "\n",
    "ax.hist(df['Exam_Score'], bins=100, color='teal')\n",
    "ax.spines.right.set_visible(False)\n",
    "ax.spines.top.set_visible(False)"
   ]
  },
  {
   "cell_type": "code",
   "execution_count": 42,
   "id": "6992b6f2",
   "metadata": {
    "execution": {
     "iopub.execute_input": "2024-11-02T17:37:20.596746Z",
     "iopub.status.busy": "2024-11-02T17:37:20.595928Z",
     "iopub.status.idle": "2024-11-02T17:37:20.612323Z",
     "shell.execute_reply": "2024-11-02T17:37:20.611341Z"
    },
    "papermill": {
     "duration": 0.062913,
     "end_time": "2024-11-02T17:37:20.614631",
     "exception": false,
     "start_time": "2024-11-02T17:37:20.551718",
     "status": "completed"
    },
    "tags": []
   },
   "outputs": [
    {
     "name": "stdout",
     "output_type": "stream",
     "text": [
      "Distinct: 45 Zeros: 0  Negative 0 Sum: 428934  Kurtosis: 10.656210797723903  Skewness: 1.6658308149706298  Variance: 15.32109086172364\n"
     ]
    },
    {
     "data": {
      "text/plain": [
       "count    6378.000000\n",
       "mean       67.252117\n",
       "std         3.914217\n",
       "min        55.000000\n",
       "25%        65.000000\n",
       "50%        67.000000\n",
       "75%        69.000000\n",
       "max       101.000000\n",
       "Name: Exam_Score, dtype: float64"
      ]
     },
     "execution_count": 42,
     "metadata": {},
     "output_type": "execute_result"
    }
   ],
   "source": [
    "distinct = df['Exam_Score'].nunique()\n",
    "zeros = df[df['Exam_Score'] == 0]['Exam_Score'].count()\n",
    "negative = df[df['Exam_Score'] < 0]['Exam_Score'].count()\n",
    "sum = df['Exam_Score'].sum()\n",
    "kurtosis = df['Exam_Score'].kurtosis()\n",
    "skewness  = df['Exam_Score'].skew()\n",
    "variance = df['Exam_Score'].var()\n",
    "print(f'Distinct: {distinct} Zeros: {zeros}  Negative {negative} Sum: {sum}  Kurtosis: {kurtosis}  Skewness: {skewness}  Variance: {variance}')\n",
    "\n",
    "df['Exam_Score'].describe()"
   ]
  },
  {
   "cell_type": "markdown",
   "id": "c38c2a3f",
   "metadata": {
    "papermill": {
     "duration": 0.041127,
     "end_time": "2024-11-02T17:37:20.698094",
     "exception": false,
     "start_time": "2024-11-02T17:37:20.656967",
     "status": "completed"
    },
    "tags": []
   },
   "source": [
    "- The maximum exam score in reality is 100, but that in this dataset is 101. So I will delete all the data that have 'Exam Scores' higher than 100"
   ]
  },
  {
   "cell_type": "code",
   "execution_count": 43,
   "id": "11484f96",
   "metadata": {
    "execution": {
     "iopub.execute_input": "2024-11-02T17:37:20.784278Z",
     "iopub.status.busy": "2024-11-02T17:37:20.783325Z",
     "iopub.status.idle": "2024-11-02T17:37:20.808149Z",
     "shell.execute_reply": "2024-11-02T17:37:20.807166Z"
    },
    "papermill": {
     "duration": 0.070757,
     "end_time": "2024-11-02T17:37:20.810407",
     "exception": false,
     "start_time": "2024-11-02T17:37:20.739650",
     "status": "completed"
    },
    "tags": []
   },
   "outputs": [
    {
     "data": {
      "text/html": [
       "<div>\n",
       "<style scoped>\n",
       "    .dataframe tbody tr th:only-of-type {\n",
       "        vertical-align: middle;\n",
       "    }\n",
       "\n",
       "    .dataframe tbody tr th {\n",
       "        vertical-align: top;\n",
       "    }\n",
       "\n",
       "    .dataframe thead th {\n",
       "        text-align: right;\n",
       "    }\n",
       "</style>\n",
       "<table border=\"1\" class=\"dataframe\">\n",
       "  <thead>\n",
       "    <tr style=\"text-align: right;\">\n",
       "      <th></th>\n",
       "      <th>Hours_Studied</th>\n",
       "      <th>Attendance</th>\n",
       "      <th>Parental_Involvement</th>\n",
       "      <th>Access_to_Resources</th>\n",
       "      <th>Extracurricular_Activities</th>\n",
       "      <th>Sleep_Hours</th>\n",
       "      <th>Previous_Scores</th>\n",
       "      <th>Motivation_Level</th>\n",
       "      <th>Internet_Access</th>\n",
       "      <th>Tutoring_Sessions</th>\n",
       "      <th>Family_Income</th>\n",
       "      <th>Teacher_Quality</th>\n",
       "      <th>School_Type</th>\n",
       "      <th>Peer_Influence</th>\n",
       "      <th>Physical_Activity</th>\n",
       "      <th>Learning_Disabilities</th>\n",
       "      <th>Parental_Education_Level</th>\n",
       "      <th>Distance_from_Home</th>\n",
       "      <th>Gender</th>\n",
       "      <th>Exam_Score</th>\n",
       "    </tr>\n",
       "  </thead>\n",
       "  <tbody>\n",
       "    <tr>\n",
       "      <th>0</th>\n",
       "      <td>23</td>\n",
       "      <td>84</td>\n",
       "      <td>Low</td>\n",
       "      <td>High</td>\n",
       "      <td>No</td>\n",
       "      <td>7</td>\n",
       "      <td>73</td>\n",
       "      <td>Low</td>\n",
       "      <td>Yes</td>\n",
       "      <td>0</td>\n",
       "      <td>Low</td>\n",
       "      <td>Medium</td>\n",
       "      <td>Public</td>\n",
       "      <td>Positive</td>\n",
       "      <td>3</td>\n",
       "      <td>No</td>\n",
       "      <td>High School</td>\n",
       "      <td>Near</td>\n",
       "      <td>Male</td>\n",
       "      <td>67</td>\n",
       "    </tr>\n",
       "    <tr>\n",
       "      <th>1</th>\n",
       "      <td>19</td>\n",
       "      <td>64</td>\n",
       "      <td>Low</td>\n",
       "      <td>Medium</td>\n",
       "      <td>No</td>\n",
       "      <td>8</td>\n",
       "      <td>59</td>\n",
       "      <td>Low</td>\n",
       "      <td>Yes</td>\n",
       "      <td>2</td>\n",
       "      <td>Medium</td>\n",
       "      <td>Medium</td>\n",
       "      <td>Public</td>\n",
       "      <td>Negative</td>\n",
       "      <td>4</td>\n",
       "      <td>No</td>\n",
       "      <td>College</td>\n",
       "      <td>Moderate</td>\n",
       "      <td>Female</td>\n",
       "      <td>61</td>\n",
       "    </tr>\n",
       "    <tr>\n",
       "      <th>2</th>\n",
       "      <td>24</td>\n",
       "      <td>98</td>\n",
       "      <td>Medium</td>\n",
       "      <td>Medium</td>\n",
       "      <td>Yes</td>\n",
       "      <td>7</td>\n",
       "      <td>91</td>\n",
       "      <td>Medium</td>\n",
       "      <td>Yes</td>\n",
       "      <td>2</td>\n",
       "      <td>Medium</td>\n",
       "      <td>Medium</td>\n",
       "      <td>Public</td>\n",
       "      <td>Neutral</td>\n",
       "      <td>4</td>\n",
       "      <td>No</td>\n",
       "      <td>Postgraduate</td>\n",
       "      <td>Near</td>\n",
       "      <td>Male</td>\n",
       "      <td>74</td>\n",
       "    </tr>\n",
       "    <tr>\n",
       "      <th>3</th>\n",
       "      <td>29</td>\n",
       "      <td>89</td>\n",
       "      <td>Low</td>\n",
       "      <td>Medium</td>\n",
       "      <td>Yes</td>\n",
       "      <td>8</td>\n",
       "      <td>98</td>\n",
       "      <td>Medium</td>\n",
       "      <td>Yes</td>\n",
       "      <td>1</td>\n",
       "      <td>Medium</td>\n",
       "      <td>Medium</td>\n",
       "      <td>Public</td>\n",
       "      <td>Negative</td>\n",
       "      <td>4</td>\n",
       "      <td>No</td>\n",
       "      <td>High School</td>\n",
       "      <td>Moderate</td>\n",
       "      <td>Male</td>\n",
       "      <td>71</td>\n",
       "    </tr>\n",
       "    <tr>\n",
       "      <th>4</th>\n",
       "      <td>19</td>\n",
       "      <td>92</td>\n",
       "      <td>Medium</td>\n",
       "      <td>Medium</td>\n",
       "      <td>Yes</td>\n",
       "      <td>6</td>\n",
       "      <td>65</td>\n",
       "      <td>Medium</td>\n",
       "      <td>Yes</td>\n",
       "      <td>3</td>\n",
       "      <td>Medium</td>\n",
       "      <td>High</td>\n",
       "      <td>Public</td>\n",
       "      <td>Neutral</td>\n",
       "      <td>4</td>\n",
       "      <td>No</td>\n",
       "      <td>College</td>\n",
       "      <td>Near</td>\n",
       "      <td>Female</td>\n",
       "      <td>70</td>\n",
       "    </tr>\n",
       "    <tr>\n",
       "      <th>...</th>\n",
       "      <td>...</td>\n",
       "      <td>...</td>\n",
       "      <td>...</td>\n",
       "      <td>...</td>\n",
       "      <td>...</td>\n",
       "      <td>...</td>\n",
       "      <td>...</td>\n",
       "      <td>...</td>\n",
       "      <td>...</td>\n",
       "      <td>...</td>\n",
       "      <td>...</td>\n",
       "      <td>...</td>\n",
       "      <td>...</td>\n",
       "      <td>...</td>\n",
       "      <td>...</td>\n",
       "      <td>...</td>\n",
       "      <td>...</td>\n",
       "      <td>...</td>\n",
       "      <td>...</td>\n",
       "      <td>...</td>\n",
       "    </tr>\n",
       "    <tr>\n",
       "      <th>6602</th>\n",
       "      <td>25</td>\n",
       "      <td>69</td>\n",
       "      <td>High</td>\n",
       "      <td>Medium</td>\n",
       "      <td>No</td>\n",
       "      <td>7</td>\n",
       "      <td>76</td>\n",
       "      <td>Medium</td>\n",
       "      <td>Yes</td>\n",
       "      <td>1</td>\n",
       "      <td>High</td>\n",
       "      <td>Medium</td>\n",
       "      <td>Public</td>\n",
       "      <td>Positive</td>\n",
       "      <td>2</td>\n",
       "      <td>No</td>\n",
       "      <td>High School</td>\n",
       "      <td>Near</td>\n",
       "      <td>Female</td>\n",
       "      <td>68</td>\n",
       "    </tr>\n",
       "    <tr>\n",
       "      <th>6603</th>\n",
       "      <td>23</td>\n",
       "      <td>76</td>\n",
       "      <td>High</td>\n",
       "      <td>Medium</td>\n",
       "      <td>No</td>\n",
       "      <td>8</td>\n",
       "      <td>81</td>\n",
       "      <td>Medium</td>\n",
       "      <td>Yes</td>\n",
       "      <td>3</td>\n",
       "      <td>Low</td>\n",
       "      <td>High</td>\n",
       "      <td>Public</td>\n",
       "      <td>Positive</td>\n",
       "      <td>2</td>\n",
       "      <td>No</td>\n",
       "      <td>High School</td>\n",
       "      <td>Near</td>\n",
       "      <td>Female</td>\n",
       "      <td>69</td>\n",
       "    </tr>\n",
       "    <tr>\n",
       "      <th>6604</th>\n",
       "      <td>20</td>\n",
       "      <td>90</td>\n",
       "      <td>Medium</td>\n",
       "      <td>Low</td>\n",
       "      <td>Yes</td>\n",
       "      <td>6</td>\n",
       "      <td>65</td>\n",
       "      <td>Low</td>\n",
       "      <td>Yes</td>\n",
       "      <td>3</td>\n",
       "      <td>Low</td>\n",
       "      <td>Medium</td>\n",
       "      <td>Public</td>\n",
       "      <td>Negative</td>\n",
       "      <td>2</td>\n",
       "      <td>No</td>\n",
       "      <td>Postgraduate</td>\n",
       "      <td>Near</td>\n",
       "      <td>Female</td>\n",
       "      <td>68</td>\n",
       "    </tr>\n",
       "    <tr>\n",
       "      <th>6605</th>\n",
       "      <td>10</td>\n",
       "      <td>86</td>\n",
       "      <td>High</td>\n",
       "      <td>High</td>\n",
       "      <td>Yes</td>\n",
       "      <td>6</td>\n",
       "      <td>91</td>\n",
       "      <td>High</td>\n",
       "      <td>Yes</td>\n",
       "      <td>2</td>\n",
       "      <td>Low</td>\n",
       "      <td>Medium</td>\n",
       "      <td>Private</td>\n",
       "      <td>Positive</td>\n",
       "      <td>3</td>\n",
       "      <td>No</td>\n",
       "      <td>High School</td>\n",
       "      <td>Far</td>\n",
       "      <td>Female</td>\n",
       "      <td>68</td>\n",
       "    </tr>\n",
       "    <tr>\n",
       "      <th>6606</th>\n",
       "      <td>15</td>\n",
       "      <td>67</td>\n",
       "      <td>Medium</td>\n",
       "      <td>Low</td>\n",
       "      <td>Yes</td>\n",
       "      <td>9</td>\n",
       "      <td>94</td>\n",
       "      <td>Medium</td>\n",
       "      <td>Yes</td>\n",
       "      <td>0</td>\n",
       "      <td>Medium</td>\n",
       "      <td>Medium</td>\n",
       "      <td>Public</td>\n",
       "      <td>Positive</td>\n",
       "      <td>4</td>\n",
       "      <td>No</td>\n",
       "      <td>Postgraduate</td>\n",
       "      <td>Near</td>\n",
       "      <td>Male</td>\n",
       "      <td>64</td>\n",
       "    </tr>\n",
       "  </tbody>\n",
       "</table>\n",
       "<p>6377 rows × 20 columns</p>\n",
       "</div>"
      ],
      "text/plain": [
       "      Hours_Studied  Attendance Parental_Involvement Access_to_Resources  \\\n",
       "0                23          84                  Low                High   \n",
       "1                19          64                  Low              Medium   \n",
       "2                24          98               Medium              Medium   \n",
       "3                29          89                  Low              Medium   \n",
       "4                19          92               Medium              Medium   \n",
       "...             ...         ...                  ...                 ...   \n",
       "6602             25          69                 High              Medium   \n",
       "6603             23          76                 High              Medium   \n",
       "6604             20          90               Medium                 Low   \n",
       "6605             10          86                 High                High   \n",
       "6606             15          67               Medium                 Low   \n",
       "\n",
       "     Extracurricular_Activities  Sleep_Hours  Previous_Scores  \\\n",
       "0                            No            7               73   \n",
       "1                            No            8               59   \n",
       "2                           Yes            7               91   \n",
       "3                           Yes            8               98   \n",
       "4                           Yes            6               65   \n",
       "...                         ...          ...              ...   \n",
       "6602                         No            7               76   \n",
       "6603                         No            8               81   \n",
       "6604                        Yes            6               65   \n",
       "6605                        Yes            6               91   \n",
       "6606                        Yes            9               94   \n",
       "\n",
       "     Motivation_Level Internet_Access  Tutoring_Sessions Family_Income  \\\n",
       "0                 Low             Yes                  0           Low   \n",
       "1                 Low             Yes                  2        Medium   \n",
       "2              Medium             Yes                  2        Medium   \n",
       "3              Medium             Yes                  1        Medium   \n",
       "4              Medium             Yes                  3        Medium   \n",
       "...               ...             ...                ...           ...   \n",
       "6602           Medium             Yes                  1          High   \n",
       "6603           Medium             Yes                  3           Low   \n",
       "6604              Low             Yes                  3           Low   \n",
       "6605             High             Yes                  2           Low   \n",
       "6606           Medium             Yes                  0        Medium   \n",
       "\n",
       "     Teacher_Quality School_Type Peer_Influence  Physical_Activity  \\\n",
       "0             Medium      Public       Positive                  3   \n",
       "1             Medium      Public       Negative                  4   \n",
       "2             Medium      Public        Neutral                  4   \n",
       "3             Medium      Public       Negative                  4   \n",
       "4               High      Public        Neutral                  4   \n",
       "...              ...         ...            ...                ...   \n",
       "6602          Medium      Public       Positive                  2   \n",
       "6603            High      Public       Positive                  2   \n",
       "6604          Medium      Public       Negative                  2   \n",
       "6605          Medium     Private       Positive                  3   \n",
       "6606          Medium      Public       Positive                  4   \n",
       "\n",
       "     Learning_Disabilities Parental_Education_Level Distance_from_Home  \\\n",
       "0                       No              High School               Near   \n",
       "1                       No                  College           Moderate   \n",
       "2                       No             Postgraduate               Near   \n",
       "3                       No              High School           Moderate   \n",
       "4                       No                  College               Near   \n",
       "...                    ...                      ...                ...   \n",
       "6602                    No              High School               Near   \n",
       "6603                    No              High School               Near   \n",
       "6604                    No             Postgraduate               Near   \n",
       "6605                    No              High School                Far   \n",
       "6606                    No             Postgraduate               Near   \n",
       "\n",
       "      Gender  Exam_Score  \n",
       "0       Male          67  \n",
       "1     Female          61  \n",
       "2       Male          74  \n",
       "3       Male          71  \n",
       "4     Female          70  \n",
       "...      ...         ...  \n",
       "6602  Female          68  \n",
       "6603  Female          69  \n",
       "6604  Female          68  \n",
       "6605  Female          68  \n",
       "6606    Male          64  \n",
       "\n",
       "[6377 rows x 20 columns]"
      ]
     },
     "execution_count": 43,
     "metadata": {},
     "output_type": "execute_result"
    }
   ],
   "source": [
    "df = df[df['Exam_Score'] <= 100]\n",
    "df"
   ]
  },
  {
   "cell_type": "markdown",
   "id": "007cc1bc",
   "metadata": {
    "papermill": {
     "duration": 0.042925,
     "end_time": "2024-11-02T17:37:20.896778",
     "exception": false,
     "start_time": "2024-11-02T17:37:20.853853",
     "status": "completed"
    },
    "tags": []
   },
   "source": [
    "- In general, there are no anomalies in attributes, except 'Exam Score'"
   ]
  },
  {
   "cell_type": "markdown",
   "id": "1c3f66a3",
   "metadata": {
    "papermill": {
     "duration": 0.043481,
     "end_time": "2024-11-02T17:37:20.983805",
     "exception": false,
     "start_time": "2024-11-02T17:37:20.940324",
     "status": "completed"
    },
    "tags": []
   },
   "source": [
    "<h1>II. Exploratory Data Analysis"
   ]
  },
  {
   "cell_type": "markdown",
   "id": "619eaf40",
   "metadata": {
    "papermill": {
     "duration": 0.043039,
     "end_time": "2024-11-02T17:37:21.070324",
     "exception": false,
     "start_time": "2024-11-02T17:37:21.027285",
     "status": "completed"
    },
    "tags": []
   },
   "source": [
    "<h2>1. Correlations"
   ]
  },
  {
   "cell_type": "code",
   "execution_count": 44,
   "id": "cca889ea",
   "metadata": {
    "execution": {
     "iopub.execute_input": "2024-11-02T17:37:21.161169Z",
     "iopub.status.busy": "2024-11-02T17:37:21.160487Z",
     "iopub.status.idle": "2024-11-02T17:37:21.165938Z",
     "shell.execute_reply": "2024-11-02T17:37:21.164914Z"
    },
    "papermill": {
     "duration": 0.054023,
     "end_time": "2024-11-02T17:37:21.168551",
     "exception": false,
     "start_time": "2024-11-02T17:37:21.114528",
     "status": "completed"
    },
    "tags": []
   },
   "outputs": [],
   "source": [
    "#Creating a new numerical attributes dataframe \n",
    "newdf = df.select_dtypes(include='number')"
   ]
  },
  {
   "cell_type": "code",
   "execution_count": 45,
   "id": "45d64142",
   "metadata": {
    "execution": {
     "iopub.execute_input": "2024-11-02T17:37:21.257439Z",
     "iopub.status.busy": "2024-11-02T17:37:21.256526Z",
     "iopub.status.idle": "2024-11-02T17:37:21.613251Z",
     "shell.execute_reply": "2024-11-02T17:37:21.612161Z"
    },
    "papermill": {
     "duration": 0.403839,
     "end_time": "2024-11-02T17:37:21.615576",
     "exception": false,
     "start_time": "2024-11-02T17:37:21.211737",
     "status": "completed"
    },
    "tags": []
   },
   "outputs": [
    {
     "data": {
      "image/png": "[encoded data removed]",
      "text/plain": [
       "<Figure size 640x480 with 2 Axes>"
      ]
     },
     "metadata": {},
     "output_type": "display_data"
    }
   ],
   "source": [
    "#I use the heatmap to visualize the correlation of numerical attributes\n",
    "matrix = newdf.corr(method='spearman')\n",
    "\n",
    "sns.heatmap(matrix, cmap='Blues')\n",
    "\n",
    "plt.show()"
   ]
  },
  {
   "cell_type": "markdown",
   "id": "9927f82c",
   "metadata": {
    "papermill": {
     "duration": 0.063614,
     "end_time": "2024-11-02T17:37:21.725398",
     "exception": false,
     "start_time": "2024-11-02T17:37:21.661784",
     "status": "completed"
    },
    "tags": []
   },
   "source": [
    "- Attendance and Exam score have a high correlation, meaning that the more attendance, the higher the exam_score \n",
    "- Hours studied and Exam score have a moderate correlation\n",
    "- Previous score, Tutoring sessions have a low correlation with Exam score"
   ]
  },
  {
   "cell_type": "markdown",
   "id": "ec7e792b",
   "metadata": {
    "papermill": {
     "duration": 0.043574,
     "end_time": "2024-11-02T17:37:21.812098",
     "exception": false,
     "start_time": "2024-11-02T17:37:21.768524",
     "status": "completed"
    },
    "tags": []
   },
   "source": [
    "<h2>2. Hypothesis test "
   ]
  },
  {
   "cell_type": "markdown",
   "id": "91f2f711",
   "metadata": {
    "papermill": {
     "duration": 0.045451,
     "end_time": "2024-11-02T17:37:21.902951",
     "exception": false,
     "start_time": "2024-11-02T17:37:21.857500",
     "status": "completed"
    },
    "tags": []
   },
   "source": [
    "- I want to find the relations of categorical variables and the significant characteristics of those\n",
    "- Among many hypothesizes, below is some interesting insight I found "
   ]
  },
  {
   "cell_type": "markdown",
   "id": "066963d8",
   "metadata": {
    "papermill": {
     "duration": 0.044389,
     "end_time": "2024-11-02T17:37:21.993140",
     "exception": false,
     "start_time": "2024-11-02T17:37:21.948751",
     "status": "completed"
    },
    "tags": []
   },
   "source": [
    "<h3>2.1. School_Type and Access_to_Resources"
   ]
  },
  {
   "cell_type": "code",
   "execution_count": 46,
   "id": "e71881d0",
   "metadata": {
    "execution": {
     "iopub.execute_input": "2024-11-02T17:37:22.083214Z",
     "iopub.status.busy": "2024-11-02T17:37:22.082796Z",
     "iopub.status.idle": "2024-11-02T17:37:22.104945Z",
     "shell.execute_reply": "2024-11-02T17:37:22.103826Z"
    },
    "papermill": {
     "duration": 0.070765,
     "end_time": "2024-11-02T17:37:22.107258",
     "exception": false,
     "start_time": "2024-11-02T17:37:22.036493",
     "status": "completed"
    },
    "tags": []
   },
   "outputs": [
    {
     "name": "stdout",
     "output_type": "stream",
     "text": [
      "There is a significant association between the attributes.\n"
     ]
    }
   ],
   "source": [
    "#Testing if there is a significant accociation between School_Type and Access_to_Resources \n",
    "contingency_table = pd.crosstab(df['Access_to_Resources'], df['School_Type'])\n",
    "chi2, p, dof, ex = chi2_contingency(contingency_table)\n",
    "\n",
    "if p < 0.05:\n",
    "    print(\"There is a significant association between the attributes.\")\n",
    "else:\n",
    "    print(\"There is no significant association between the attributes.\")"
   ]
  },
  {
   "cell_type": "code",
   "execution_count": 47,
   "id": "c8bddb15",
   "metadata": {
    "execution": {
     "iopub.execute_input": "2024-11-02T17:37:22.196848Z",
     "iopub.status.busy": "2024-11-02T17:37:22.196111Z",
     "iopub.status.idle": "2024-11-02T17:37:22.485958Z",
     "shell.execute_reply": "2024-11-02T17:37:22.484997Z"
    },
    "papermill": {
     "duration": 0.337952,
     "end_time": "2024-11-02T17:37:22.488591",
     "exception": false,
     "start_time": "2024-11-02T17:37:22.150639",
     "status": "completed"
    },
    "tags": []
   },
   "outputs": [
    {
     "data": {
      "image/png": "[encoded data removed]",
      "text/plain": [
       "<Figure size 640x480 with 1 Axes>"
      ]
     },
     "metadata": {},
     "output_type": "display_data"
    }
   ],
   "source": [
    "#Visualizing the distribution of Resource Accessing in two School types \n",
    "contingency_table.plot(kind='bar', color=['teal', 'navy'])\n",
    "plt.title('Stacked Bar Chart of Access_to_Resources vs School_Type')\n",
    "plt.xlabel('Access_to_Resources')\n",
    "plt.ylabel('Count')\n",
    "plt.legend(title='School_Type')\n",
    "plt.show()"
   ]
  },
  {
   "cell_type": "markdown",
   "id": "ac76afcc",
   "metadata": {
    "papermill": {
     "duration": 0.044959,
     "end_time": "2024-11-02T17:37:22.579968",
     "exception": false,
     "start_time": "2024-11-02T17:37:22.535009",
     "status": "completed"
    },
    "tags": []
   },
   "source": [
    "- The chance to access the learning resources is distributed equally in both private and public schools. Surprisingly, that of public schools is higher than public schools"
   ]
  },
  {
   "cell_type": "markdown",
   "id": "3701c1ee",
   "metadata": {
    "papermill": {
     "duration": 0.044167,
     "end_time": "2024-11-02T17:37:22.668149",
     "exception": false,
     "start_time": "2024-11-02T17:37:22.623982",
     "status": "completed"
    },
    "tags": []
   },
   "source": [
    "<h3>2.2. Exam_Score and School_Type"
   ]
  },
  {
   "cell_type": "code",
   "execution_count": 48,
   "id": "b3e8590e",
   "metadata": {
    "execution": {
     "iopub.execute_input": "2024-11-02T17:37:22.761572Z",
     "iopub.status.busy": "2024-11-02T17:37:22.761123Z",
     "iopub.status.idle": "2024-11-02T17:37:23.051539Z",
     "shell.execute_reply": "2024-11-02T17:37:23.050476Z"
    },
    "papermill": {
     "duration": 0.339634,
     "end_time": "2024-11-02T17:37:23.053921",
     "exception": false,
     "start_time": "2024-11-02T17:37:22.714287",
     "status": "completed"
    },
    "tags": []
   },
   "outputs": [
    {
     "data": {
      "image/png": "[encoded data removed]",
      "text/plain": [
       "<Figure size 640x480 with 1 Axes>"
      ]
     },
     "metadata": {},
     "output_type": "display_data"
    }
   ],
   "source": [
    "#Visualizing the distribution and the mean value of Exam scores in two School types \n",
    "sns.violinplot(x='Exam_Score', y='School_Type', data=df)\n",
    "plt.xlabel('Exam_Score')\n",
    "plt.ylabel('School_Type')\n",
    "plt.title('Violin Plot of School_Type by Exam_Score')\n",
    "plt.show()"
   ]
  },
  {
   "cell_type": "code",
   "execution_count": 49,
   "id": "3f400396",
   "metadata": {
    "execution": {
     "iopub.execute_input": "2024-11-02T17:37:23.146501Z",
     "iopub.status.busy": "2024-11-02T17:37:23.146048Z",
     "iopub.status.idle": "2024-11-02T17:37:23.157721Z",
     "shell.execute_reply": "2024-11-02T17:37:23.156659Z"
    },
    "papermill": {
     "duration": 0.060731,
     "end_time": "2024-11-02T17:37:23.159894",
     "exception": false,
     "start_time": "2024-11-02T17:37:23.099163",
     "status": "completed"
    },
    "tags": []
   },
   "outputs": [
    {
     "data": {
      "text/plain": [
       "School_Type\n",
       "Private    67.316358\n",
       "Public     67.216332\n",
       "Name: Exam_Score, dtype: float64"
      ]
     },
     "execution_count": 49,
     "metadata": {},
     "output_type": "execute_result"
    }
   ],
   "source": [
    "#Calculating the average Exam scores of two School types\n",
    "df.groupby('School_Type')['Exam_Score'].mean()"
   ]
  },
  {
   "cell_type": "markdown",
   "id": "855b53a4",
   "metadata": {
    "papermill": {
     "duration": 0.046078,
     "end_time": "2024-11-02T17:37:23.252161",
     "exception": false,
     "start_time": "2024-11-02T17:37:23.206083",
     "status": "completed"
    },
    "tags": []
   },
   "source": [
    "- Despite the limit in accessing resources, the average score of students in private school are higher than that of public school"
   ]
  },
  {
   "cell_type": "markdown",
   "id": "c426e239",
   "metadata": {
    "papermill": {
     "duration": 0.046628,
     "end_time": "2024-11-02T17:37:23.346164",
     "exception": false,
     "start_time": "2024-11-02T17:37:23.299536",
     "status": "completed"
    },
    "tags": []
   },
   "source": [
    "<h3>2.3. Exam_Score and Distance_from_Home"
   ]
  },
  {
   "cell_type": "code",
   "execution_count": 50,
   "id": "e7a9445a",
   "metadata": {
    "execution": {
     "iopub.execute_input": "2024-11-02T17:37:23.442492Z",
     "iopub.status.busy": "2024-11-02T17:37:23.441992Z",
     "iopub.status.idle": "2024-11-02T17:37:23.758165Z",
     "shell.execute_reply": "2024-11-02T17:37:23.757188Z"
    },
    "papermill": {
     "duration": 0.367314,
     "end_time": "2024-11-02T17:37:23.760736",
     "exception": false,
     "start_time": "2024-11-02T17:37:23.393422",
     "status": "completed"
    },
    "tags": []
   },
   "outputs": [
    {
     "data": {
      "image/png": "[encoded data removed]",
      "text/plain": [
       "<Figure size 640x480 with 1 Axes>"
      ]
     },
     "metadata": {},
     "output_type": "display_data"
    }
   ],
   "source": [
    "#Visualizing the distribution and the mean value of Exam scores in three Distances \n",
    "sns.violinplot(x='Exam_Score', y='Distance_from_Home', data=df)\n",
    "plt.xlabel('Exam_Score')\n",
    "plt.ylabel('Distance_from_Home')\n",
    "plt.title('Violin Plot of Distance_from_Home by Exam_Score')\n",
    "plt.show()"
   ]
  },
  {
   "cell_type": "code",
   "execution_count": 51,
   "id": "df7e70c3",
   "metadata": {
    "execution": {
     "iopub.execute_input": "2024-11-02T17:37:23.860219Z",
     "iopub.status.busy": "2024-11-02T17:37:23.859788Z",
     "iopub.status.idle": "2024-11-02T17:37:23.870658Z",
     "shell.execute_reply": "2024-11-02T17:37:23.869582Z"
    },
    "papermill": {
     "duration": 0.062894,
     "end_time": "2024-11-02T17:37:23.872937",
     "exception": false,
     "start_time": "2024-11-02T17:37:23.810043",
     "status": "completed"
    },
    "tags": []
   },
   "outputs": [
    {
     "data": {
      "text/plain": [
       "Distance_from_Home\n",
       "Far         66.498428\n",
       "Moderate    66.969072\n",
       "Near        67.513812\n",
       "Name: Exam_Score, dtype: float64"
      ]
     },
     "execution_count": 51,
     "metadata": {},
     "output_type": "execute_result"
    }
   ],
   "source": [
    "#Calculating the average Exam scores of three Distances \n",
    "df.groupby('Distance_from_Home')['Exam_Score'].mean()"
   ]
  },
  {
   "cell_type": "markdown",
   "id": "e47762d0",
   "metadata": {
    "papermill": {
     "duration": 0.048488,
     "end_time": "2024-11-02T17:37:23.970075",
     "exception": false,
     "start_time": "2024-11-02T17:37:23.921587",
     "status": "completed"
    },
    "tags": []
   },
   "source": [
    "- Distance from home to school is also a factor affecting exam scores. In detail, students who live near school have slightly higher average scores than those who live far from school"
   ]
  },
  {
   "cell_type": "markdown",
   "id": "f51ac43a",
   "metadata": {
    "papermill": {
     "duration": 0.046258,
     "end_time": "2024-11-02T17:37:24.061964",
     "exception": false,
     "start_time": "2024-11-02T17:37:24.015706",
     "status": "completed"
    },
    "tags": []
   },
   "source": [
    "<h3>2.4. Exam_Score and Gender "
   ]
  },
  {
   "cell_type": "code",
   "execution_count": 52,
   "id": "46995b67",
   "metadata": {
    "execution": {
     "iopub.execute_input": "2024-11-02T17:37:24.156188Z",
     "iopub.status.busy": "2024-11-02T17:37:24.155171Z",
     "iopub.status.idle": "2024-11-02T17:37:24.440382Z",
     "shell.execute_reply": "2024-11-02T17:37:24.439400Z"
    },
    "papermill": {
     "duration": 0.336327,
     "end_time": "2024-11-02T17:37:24.443566",
     "exception": false,
     "start_time": "2024-11-02T17:37:24.107239",
     "status": "completed"
    },
    "tags": []
   },
   "outputs": [
    {
     "data": {
      "image/png": "[encoded data removed]",
      "text/plain": [
       "<Figure size 640x480 with 1 Axes>"
      ]
     },
     "metadata": {},
     "output_type": "display_data"
    }
   ],
   "source": [
    "#Visualizing the distribution and the mean value of Exam scores in two Genders\n",
    "sns.violinplot(x='Exam_Score', y='Gender', data=df)\n",
    "plt.xlabel('Exam_Score')\n",
    "plt.ylabel('Gender')\n",
    "plt.title('Violin Plot of Gender by Exam_Score')\n",
    "plt.show()"
   ]
  },
  {
   "cell_type": "code",
   "execution_count": 53,
   "id": "ab8f7445",
   "metadata": {
    "execution": {
     "iopub.execute_input": "2024-11-02T17:37:24.539875Z",
     "iopub.status.busy": "2024-11-02T17:37:24.539459Z",
     "iopub.status.idle": "2024-11-02T17:37:24.549299Z",
     "shell.execute_reply": "2024-11-02T17:37:24.548379Z"
    },
    "papermill": {
     "duration": 0.059886,
     "end_time": "2024-11-02T17:37:24.551531",
     "exception": false,
     "start_time": "2024-11-02T17:37:24.491645",
     "status": "completed"
    },
    "tags": []
   },
   "outputs": [
    {
     "data": {
      "text/plain": [
       "Gender\n",
       "Female    67.262179\n",
       "Male      67.235629\n",
       "Name: Exam_Score, dtype: float64"
      ]
     },
     "execution_count": 53,
     "metadata": {},
     "output_type": "execute_result"
    }
   ],
   "source": [
    "#Calculating the average Exam scores of two Genders\n",
    "df.groupby('Gender')['Exam_Score'].mean()"
   ]
  },
  {
   "cell_type": "markdown",
   "id": "929aae82",
   "metadata": {
    "papermill": {
     "duration": 0.047647,
     "end_time": "2024-11-02T17:37:24.648366",
     "exception": false,
     "start_time": "2024-11-02T17:37:24.600719",
     "status": "completed"
    },
    "tags": []
   },
   "source": [
    "- The gap between average score of female and male is trivial, but it shows that the average exam score of female is higher than male "
   ]
  },
  {
   "cell_type": "markdown",
   "id": "f2b94cd2",
   "metadata": {
    "papermill": {
     "duration": 0.048591,
     "end_time": "2024-11-02T17:37:24.745989",
     "exception": false,
     "start_time": "2024-11-02T17:37:24.697398",
     "status": "completed"
    },
    "tags": []
   },
   "source": [
    "<h3>2.5. The difference between the Previous score and the Exam score "
   ]
  },
  {
   "cell_type": "code",
   "execution_count": 54,
   "id": "d3bd1b73",
   "metadata": {
    "execution": {
     "iopub.execute_input": "2024-11-02T17:37:24.844503Z",
     "iopub.status.busy": "2024-11-02T17:37:24.844093Z",
     "iopub.status.idle": "2024-11-02T17:37:24.850669Z",
     "shell.execute_reply": "2024-11-02T17:37:24.849739Z"
    },
    "papermill": {
     "duration": 0.058606,
     "end_time": "2024-11-02T17:37:24.852979",
     "exception": false,
     "start_time": "2024-11-02T17:37:24.794373",
     "status": "completed"
    },
    "tags": []
   },
   "outputs": [
    {
     "name": "stderr",
     "output_type": "stream",
     "text": [
      "/tmp/ipykernel_17/1178314074.py:2: SettingWithCopyWarning: \n",
      "A value is trying to be set on a copy of a slice from a DataFrame.\n",
      "Try using .loc[row_indexer,col_indexer] = value instead\n",
      "\n",
      "See the caveats in the documentation: https://pandas.pydata.org/pandas-docs/stable/user_guide/indexing.html#returning-a-view-versus-a-copy\n",
      "  df['Score_increase'] = df['Exam_Score'] - df['Previous_Scores']\n"
     ]
    }
   ],
   "source": [
    "#Creating a new column, which is the difference between Previous score and Exam score \n",
    "df['Score_increase'] = df['Exam_Score'] - df['Previous_Scores']"
   ]
  },
  {
   "cell_type": "code",
   "execution_count": 55,
   "id": "afcac347",
   "metadata": {
    "execution": {
     "iopub.execute_input": "2024-11-02T17:37:24.948373Z",
     "iopub.status.busy": "2024-11-02T17:37:24.947943Z",
     "iopub.status.idle": "2024-11-02T17:37:24.956477Z",
     "shell.execute_reply": "2024-11-02T17:37:24.955367Z"
    },
    "papermill": {
     "duration": 0.059147,
     "end_time": "2024-11-02T17:37:24.958741",
     "exception": false,
     "start_time": "2024-11-02T17:37:24.899594",
     "status": "completed"
    },
    "tags": []
   },
   "outputs": [],
   "source": [
    "#Creating two data frames: one is increasing in score, another is decreasing in score \n",
    "df_increase = df[df['Score_increase'] > 0]\n",
    "df_decrease = df[df['Score_increase'] <=0]"
   ]
  },
  {
   "cell_type": "code",
   "execution_count": 56,
   "id": "0510d542",
   "metadata": {
    "execution": {
     "iopub.execute_input": "2024-11-02T17:37:25.052483Z",
     "iopub.status.busy": "2024-11-02T17:37:25.052053Z",
     "iopub.status.idle": "2024-11-02T17:37:25.063410Z",
     "shell.execute_reply": "2024-11-02T17:37:25.062404Z"
    },
    "papermill": {
     "duration": 0.060649,
     "end_time": "2024-11-02T17:37:25.065574",
     "exception": false,
     "start_time": "2024-11-02T17:37:25.004925",
     "status": "completed"
    },
    "tags": []
   },
   "outputs": [
    {
     "data": {
      "text/plain": [
       "count    4305.000000\n",
       "mean      -15.757956\n",
       "std         9.609085\n",
       "min       -39.000000\n",
       "25%       -24.000000\n",
       "50%       -16.000000\n",
       "75%        -8.000000\n",
       "max         0.000000\n",
       "Name: Score_increase, dtype: float64"
      ]
     },
     "execution_count": 56,
     "metadata": {},
     "output_type": "execute_result"
    }
   ],
   "source": [
    "df_decrease['Score_increase'].describe()"
   ]
  },
  {
   "cell_type": "code",
   "execution_count": 57,
   "id": "c2e6fe87",
   "metadata": {
    "execution": {
     "iopub.execute_input": "2024-11-02T17:37:25.162163Z",
     "iopub.status.busy": "2024-11-02T17:37:25.161424Z",
     "iopub.status.idle": "2024-11-02T17:37:25.172208Z",
     "shell.execute_reply": "2024-11-02T17:37:25.171219Z"
    },
    "papermill": {
     "duration": 0.061904,
     "end_time": "2024-11-02T17:37:25.174355",
     "exception": false,
     "start_time": "2024-11-02T17:37:25.112451",
     "status": "completed"
    },
    "tags": []
   },
   "outputs": [
    {
     "data": {
      "text/plain": [
       "Score_increase    67.508233\n",
       "dtype: float64"
      ]
     },
     "execution_count": 57,
     "metadata": {},
     "output_type": "execute_result"
    }
   ],
   "source": [
    "#Calculate percentage\n",
    "(df_decrease['Score_increase'].count() / df[['Score_increase']].count())*100"
   ]
  },
  {
   "cell_type": "markdown",
   "id": "8d583f72",
   "metadata": {
    "papermill": {
     "duration": 0.047607,
     "end_time": "2024-11-02T17:37:25.268698",
     "exception": false,
     "start_time": "2024-11-02T17:37:25.221091",
     "status": "completed"
    },
    "tags": []
   },
   "source": [
    "- There are 4305 students (67.5%), who have the decrease in the Exam score. In particular, one student lost 39 marks on the score."
   ]
  },
  {
   "cell_type": "code",
   "execution_count": 58,
   "id": "59a0d9d8",
   "metadata": {
    "execution": {
     "iopub.execute_input": "2024-11-02T17:37:25.364168Z",
     "iopub.status.busy": "2024-11-02T17:37:25.363240Z",
     "iopub.status.idle": "2024-11-02T17:37:25.374141Z",
     "shell.execute_reply": "2024-11-02T17:37:25.373145Z"
    },
    "papermill": {
     "duration": 0.060419,
     "end_time": "2024-11-02T17:37:25.376377",
     "exception": false,
     "start_time": "2024-11-02T17:37:25.315958",
     "status": "completed"
    },
    "tags": []
   },
   "outputs": [
    {
     "data": {
      "text/plain": [
       "count    2072.000000\n",
       "mean        8.683398\n",
       "std         5.452145\n",
       "min         1.000000\n",
       "25%         4.000000\n",
       "50%         8.000000\n",
       "75%        12.000000\n",
       "max        41.000000\n",
       "Name: Score_increase, dtype: float64"
      ]
     },
     "execution_count": 58,
     "metadata": {},
     "output_type": "execute_result"
    }
   ],
   "source": [
    "df_increase['Score_increase'].describe()"
   ]
  },
  {
   "cell_type": "code",
   "execution_count": 59,
   "id": "82279367",
   "metadata": {
    "execution": {
     "iopub.execute_input": "2024-11-02T17:37:25.475713Z",
     "iopub.status.busy": "2024-11-02T17:37:25.474858Z",
     "iopub.status.idle": "2024-11-02T17:37:25.484527Z",
     "shell.execute_reply": "2024-11-02T17:37:25.483638Z"
    },
    "papermill": {
     "duration": 0.062905,
     "end_time": "2024-11-02T17:37:25.486864",
     "exception": false,
     "start_time": "2024-11-02T17:37:25.423959",
     "status": "completed"
    },
    "tags": []
   },
   "outputs": [
    {
     "data": {
      "text/plain": [
       "Score_increase    32.491767\n",
       "dtype: float64"
      ]
     },
     "execution_count": 59,
     "metadata": {},
     "output_type": "execute_result"
    }
   ],
   "source": [
    "#Calculate percentage\n",
    "(df_increase['Score_increase'].count() / df[['Score_increase']].count())*100"
   ]
  },
  {
   "cell_type": "markdown",
   "id": "efa2cad0",
   "metadata": {
    "papermill": {
     "duration": 0.047948,
     "end_time": "2024-11-02T17:37:25.581020",
     "exception": false,
     "start_time": "2024-11-02T17:37:25.533072",
     "status": "completed"
    },
    "tags": []
   },
   "source": [
    "- There are 2072 students (32.4%), who have the increase in the Exam score. In particular, one student gain 41 marks on the score."
   ]
  },
  {
   "cell_type": "code",
   "execution_count": 60,
   "id": "8e733536",
   "metadata": {
    "execution": {
     "iopub.execute_input": "2024-11-02T17:37:25.678862Z",
     "iopub.status.busy": "2024-11-02T17:37:25.677837Z",
     "iopub.status.idle": "2024-11-02T17:37:26.118219Z",
     "shell.execute_reply": "2024-11-02T17:37:26.117231Z"
    },
    "papermill": {
     "duration": 0.491754,
     "end_time": "2024-11-02T17:37:26.120734",
     "exception": false,
     "start_time": "2024-11-02T17:37:25.628980",
     "status": "completed"
    },
    "tags": []
   },
   "outputs": [
    {
     "data": {
      "image/png": "[encoded data removed]",
      "text/plain": [
       "<Figure size 1200x600 with 1 Axes>"
      ]
     },
     "metadata": {},
     "output_type": "display_data"
    }
   ],
   "source": [
    "#Visualizing distributions of Previous score and Exam score \n",
    "plt.figure(figsize=(12, 6))\n",
    "\n",
    "plt.hist(df['Previous_Scores'], bins=30, alpha=0.5, color='teal', label='Previous Exam')\n",
    "plt.hist(df['Exam_Score'], bins=30, alpha=0.5, color='orange', label='Latest Exam')\n",
    "\n",
    "plt.xlabel('Scores')\n",
    "plt.ylabel('Frequency')\n",
    "plt.title('Distribution of Previous and Latest Exam Scores')\n",
    "plt.legend()\n",
    "plt.show()"
   ]
  },
  {
   "cell_type": "markdown",
   "id": "c7e9a199",
   "metadata": {
    "papermill": {
     "duration": 0.049564,
     "end_time": "2024-11-02T17:37:26.219540",
     "exception": false,
     "start_time": "2024-11-02T17:37:26.169976",
     "status": "completed"
    },
    "tags": []
   },
   "source": [
    "<h1>III. Model building"
   ]
  },
  {
   "cell_type": "markdown",
   "id": "c71b6e74",
   "metadata": {
    "papermill": {
     "duration": 0.048717,
     "end_time": "2024-11-02T17:37:26.317077",
     "exception": false,
     "start_time": "2024-11-02T17:37:26.268360",
     "status": "completed"
    },
    "tags": []
   },
   "source": [
    "- I will build Linear regression and Lasso regression model, and then evaluate which model (Linear regression, Lasso regression, or the combining of both these two) performs the best "
   ]
  },
  {
   "cell_type": "markdown",
   "id": "6e1bffd8",
   "metadata": {
    "papermill": {
     "duration": 0.048468,
     "end_time": "2024-11-02T17:37:26.413071",
     "exception": false,
     "start_time": "2024-11-02T17:37:26.364603",
     "status": "completed"
    },
    "tags": []
   },
   "source": [
    "<h2>1. Get dummy variable "
   ]
  },
  {
   "cell_type": "code",
   "execution_count": 61,
   "id": "b0eb26c0",
   "metadata": {
    "execution": {
     "iopub.execute_input": "2024-11-02T17:37:26.512786Z",
     "iopub.status.busy": "2024-11-02T17:37:26.512313Z",
     "iopub.status.idle": "2024-11-02T17:37:26.573148Z",
     "shell.execute_reply": "2024-11-02T17:37:26.572150Z"
    },
    "papermill": {
     "duration": 0.114029,
     "end_time": "2024-11-02T17:37:26.575756",
     "exception": false,
     "start_time": "2024-11-02T17:37:26.461727",
     "status": "completed"
    },
    "tags": []
   },
   "outputs": [
    {
     "data": {
      "text/html": [
       "<div>\n",
       "<style scoped>\n",
       "    .dataframe tbody tr th:only-of-type {\n",
       "        vertical-align: middle;\n",
       "    }\n",
       "\n",
       "    .dataframe tbody tr th {\n",
       "        vertical-align: top;\n",
       "    }\n",
       "\n",
       "    .dataframe thead th {\n",
       "        text-align: right;\n",
       "    }\n",
       "</style>\n",
       "<table border=\"1\" class=\"dataframe\">\n",
       "  <thead>\n",
       "    <tr style=\"text-align: right;\">\n",
       "      <th></th>\n",
       "      <th>Hours_Studied</th>\n",
       "      <th>Attendance</th>\n",
       "      <th>Sleep_Hours</th>\n",
       "      <th>Previous_Scores</th>\n",
       "      <th>Tutoring_Sessions</th>\n",
       "      <th>Physical_Activity</th>\n",
       "      <th>Exam_Score</th>\n",
       "      <th>Score_increase</th>\n",
       "      <th>Parental_Involvement_High</th>\n",
       "      <th>Parental_Involvement_Low</th>\n",
       "      <th>...</th>\n",
       "      <th>Learning_Disabilities_No</th>\n",
       "      <th>Learning_Disabilities_Yes</th>\n",
       "      <th>Parental_Education_Level_College</th>\n",
       "      <th>Parental_Education_Level_High School</th>\n",
       "      <th>Parental_Education_Level_Postgraduate</th>\n",
       "      <th>Distance_from_Home_Far</th>\n",
       "      <th>Distance_from_Home_Moderate</th>\n",
       "      <th>Distance_from_Home_Near</th>\n",
       "      <th>Gender_Female</th>\n",
       "      <th>Gender_Male</th>\n",
       "    </tr>\n",
       "  </thead>\n",
       "  <tbody>\n",
       "    <tr>\n",
       "      <th>0</th>\n",
       "      <td>23</td>\n",
       "      <td>84</td>\n",
       "      <td>7</td>\n",
       "      <td>73</td>\n",
       "      <td>0</td>\n",
       "      <td>3</td>\n",
       "      <td>67</td>\n",
       "      <td>-6</td>\n",
       "      <td>0.0</td>\n",
       "      <td>1.0</td>\n",
       "      <td>...</td>\n",
       "      <td>1.0</td>\n",
       "      <td>0.0</td>\n",
       "      <td>0.0</td>\n",
       "      <td>1.0</td>\n",
       "      <td>0.0</td>\n",
       "      <td>0.0</td>\n",
       "      <td>0.0</td>\n",
       "      <td>1.0</td>\n",
       "      <td>0.0</td>\n",
       "      <td>1.0</td>\n",
       "    </tr>\n",
       "    <tr>\n",
       "      <th>1</th>\n",
       "      <td>19</td>\n",
       "      <td>64</td>\n",
       "      <td>8</td>\n",
       "      <td>59</td>\n",
       "      <td>2</td>\n",
       "      <td>4</td>\n",
       "      <td>61</td>\n",
       "      <td>2</td>\n",
       "      <td>0.0</td>\n",
       "      <td>1.0</td>\n",
       "      <td>...</td>\n",
       "      <td>1.0</td>\n",
       "      <td>0.0</td>\n",
       "      <td>1.0</td>\n",
       "      <td>0.0</td>\n",
       "      <td>0.0</td>\n",
       "      <td>0.0</td>\n",
       "      <td>1.0</td>\n",
       "      <td>0.0</td>\n",
       "      <td>1.0</td>\n",
       "      <td>0.0</td>\n",
       "    </tr>\n",
       "    <tr>\n",
       "      <th>2</th>\n",
       "      <td>24</td>\n",
       "      <td>98</td>\n",
       "      <td>7</td>\n",
       "      <td>91</td>\n",
       "      <td>2</td>\n",
       "      <td>4</td>\n",
       "      <td>74</td>\n",
       "      <td>-17</td>\n",
       "      <td>0.0</td>\n",
       "      <td>0.0</td>\n",
       "      <td>...</td>\n",
       "      <td>1.0</td>\n",
       "      <td>0.0</td>\n",
       "      <td>0.0</td>\n",
       "      <td>0.0</td>\n",
       "      <td>1.0</td>\n",
       "      <td>0.0</td>\n",
       "      <td>0.0</td>\n",
       "      <td>1.0</td>\n",
       "      <td>0.0</td>\n",
       "      <td>1.0</td>\n",
       "    </tr>\n",
       "    <tr>\n",
       "      <th>3</th>\n",
       "      <td>29</td>\n",
       "      <td>89</td>\n",
       "      <td>8</td>\n",
       "      <td>98</td>\n",
       "      <td>1</td>\n",
       "      <td>4</td>\n",
       "      <td>71</td>\n",
       "      <td>-27</td>\n",
       "      <td>0.0</td>\n",
       "      <td>1.0</td>\n",
       "      <td>...</td>\n",
       "      <td>1.0</td>\n",
       "      <td>0.0</td>\n",
       "      <td>0.0</td>\n",
       "      <td>1.0</td>\n",
       "      <td>0.0</td>\n",
       "      <td>0.0</td>\n",
       "      <td>1.0</td>\n",
       "      <td>0.0</td>\n",
       "      <td>0.0</td>\n",
       "      <td>1.0</td>\n",
       "    </tr>\n",
       "    <tr>\n",
       "      <th>4</th>\n",
       "      <td>19</td>\n",
       "      <td>92</td>\n",
       "      <td>6</td>\n",
       "      <td>65</td>\n",
       "      <td>3</td>\n",
       "      <td>4</td>\n",
       "      <td>70</td>\n",
       "      <td>5</td>\n",
       "      <td>0.0</td>\n",
       "      <td>0.0</td>\n",
       "      <td>...</td>\n",
       "      <td>1.0</td>\n",
       "      <td>0.0</td>\n",
       "      <td>1.0</td>\n",
       "      <td>0.0</td>\n",
       "      <td>0.0</td>\n",
       "      <td>0.0</td>\n",
       "      <td>0.0</td>\n",
       "      <td>1.0</td>\n",
       "      <td>1.0</td>\n",
       "      <td>0.0</td>\n",
       "    </tr>\n",
       "    <tr>\n",
       "      <th>...</th>\n",
       "      <td>...</td>\n",
       "      <td>...</td>\n",
       "      <td>...</td>\n",
       "      <td>...</td>\n",
       "      <td>...</td>\n",
       "      <td>...</td>\n",
       "      <td>...</td>\n",
       "      <td>...</td>\n",
       "      <td>...</td>\n",
       "      <td>...</td>\n",
       "      <td>...</td>\n",
       "      <td>...</td>\n",
       "      <td>...</td>\n",
       "      <td>...</td>\n",
       "      <td>...</td>\n",
       "      <td>...</td>\n",
       "      <td>...</td>\n",
       "      <td>...</td>\n",
       "      <td>...</td>\n",
       "      <td>...</td>\n",
       "      <td>...</td>\n",
       "    </tr>\n",
       "    <tr>\n",
       "      <th>6602</th>\n",
       "      <td>25</td>\n",
       "      <td>69</td>\n",
       "      <td>7</td>\n",
       "      <td>76</td>\n",
       "      <td>1</td>\n",
       "      <td>2</td>\n",
       "      <td>68</td>\n",
       "      <td>-8</td>\n",
       "      <td>1.0</td>\n",
       "      <td>0.0</td>\n",
       "      <td>...</td>\n",
       "      <td>1.0</td>\n",
       "      <td>0.0</td>\n",
       "      <td>0.0</td>\n",
       "      <td>1.0</td>\n",
       "      <td>0.0</td>\n",
       "      <td>0.0</td>\n",
       "      <td>0.0</td>\n",
       "      <td>1.0</td>\n",
       "      <td>1.0</td>\n",
       "      <td>0.0</td>\n",
       "    </tr>\n",
       "    <tr>\n",
       "      <th>6603</th>\n",
       "      <td>23</td>\n",
       "      <td>76</td>\n",
       "      <td>8</td>\n",
       "      <td>81</td>\n",
       "      <td>3</td>\n",
       "      <td>2</td>\n",
       "      <td>69</td>\n",
       "      <td>-12</td>\n",
       "      <td>1.0</td>\n",
       "      <td>0.0</td>\n",
       "      <td>...</td>\n",
       "      <td>1.0</td>\n",
       "      <td>0.0</td>\n",
       "      <td>0.0</td>\n",
       "      <td>1.0</td>\n",
       "      <td>0.0</td>\n",
       "      <td>0.0</td>\n",
       "      <td>0.0</td>\n",
       "      <td>1.0</td>\n",
       "      <td>1.0</td>\n",
       "      <td>0.0</td>\n",
       "    </tr>\n",
       "    <tr>\n",
       "      <th>6604</th>\n",
       "      <td>20</td>\n",
       "      <td>90</td>\n",
       "      <td>6</td>\n",
       "      <td>65</td>\n",
       "      <td>3</td>\n",
       "      <td>2</td>\n",
       "      <td>68</td>\n",
       "      <td>3</td>\n",
       "      <td>0.0</td>\n",
       "      <td>0.0</td>\n",
       "      <td>...</td>\n",
       "      <td>1.0</td>\n",
       "      <td>0.0</td>\n",
       "      <td>0.0</td>\n",
       "      <td>0.0</td>\n",
       "      <td>1.0</td>\n",
       "      <td>0.0</td>\n",
       "      <td>0.0</td>\n",
       "      <td>1.0</td>\n",
       "      <td>1.0</td>\n",
       "      <td>0.0</td>\n",
       "    </tr>\n",
       "    <tr>\n",
       "      <th>6605</th>\n",
       "      <td>10</td>\n",
       "      <td>86</td>\n",
       "      <td>6</td>\n",
       "      <td>91</td>\n",
       "      <td>2</td>\n",
       "      <td>3</td>\n",
       "      <td>68</td>\n",
       "      <td>-23</td>\n",
       "      <td>1.0</td>\n",
       "      <td>0.0</td>\n",
       "      <td>...</td>\n",
       "      <td>1.0</td>\n",
       "      <td>0.0</td>\n",
       "      <td>0.0</td>\n",
       "      <td>1.0</td>\n",
       "      <td>0.0</td>\n",
       "      <td>1.0</td>\n",
       "      <td>0.0</td>\n",
       "      <td>0.0</td>\n",
       "      <td>1.0</td>\n",
       "      <td>0.0</td>\n",
       "    </tr>\n",
       "    <tr>\n",
       "      <th>6606</th>\n",
       "      <td>15</td>\n",
       "      <td>67</td>\n",
       "      <td>9</td>\n",
       "      <td>94</td>\n",
       "      <td>0</td>\n",
       "      <td>4</td>\n",
       "      <td>64</td>\n",
       "      <td>-30</td>\n",
       "      <td>0.0</td>\n",
       "      <td>0.0</td>\n",
       "      <td>...</td>\n",
       "      <td>1.0</td>\n",
       "      <td>0.0</td>\n",
       "      <td>0.0</td>\n",
       "      <td>0.0</td>\n",
       "      <td>1.0</td>\n",
       "      <td>0.0</td>\n",
       "      <td>0.0</td>\n",
       "      <td>1.0</td>\n",
       "      <td>0.0</td>\n",
       "      <td>1.0</td>\n",
       "    </tr>\n",
       "  </tbody>\n",
       "</table>\n",
       "<p>6377 rows × 42 columns</p>\n",
       "</div>"
      ],
      "text/plain": [
       "      Hours_Studied  Attendance  Sleep_Hours  Previous_Scores  \\\n",
       "0                23          84            7               73   \n",
       "1                19          64            8               59   \n",
       "2                24          98            7               91   \n",
       "3                29          89            8               98   \n",
       "4                19          92            6               65   \n",
       "...             ...         ...          ...              ...   \n",
       "6602             25          69            7               76   \n",
       "6603             23          76            8               81   \n",
       "6604             20          90            6               65   \n",
       "6605             10          86            6               91   \n",
       "6606             15          67            9               94   \n",
       "\n",
       "      Tutoring_Sessions  Physical_Activity  Exam_Score  Score_increase  \\\n",
       "0                     0                  3          67              -6   \n",
       "1                     2                  4          61               2   \n",
       "2                     2                  4          74             -17   \n",
       "3                     1                  4          71             -27   \n",
       "4                     3                  4          70               5   \n",
       "...                 ...                ...         ...             ...   \n",
       "6602                  1                  2          68              -8   \n",
       "6603                  3                  2          69             -12   \n",
       "6604                  3                  2          68               3   \n",
       "6605                  2                  3          68             -23   \n",
       "6606                  0                  4          64             -30   \n",
       "\n",
       "      Parental_Involvement_High  Parental_Involvement_Low  ...  \\\n",
       "0                           0.0                       1.0  ...   \n",
       "1                           0.0                       1.0  ...   \n",
       "2                           0.0                       0.0  ...   \n",
       "3                           0.0                       1.0  ...   \n",
       "4                           0.0                       0.0  ...   \n",
       "...                         ...                       ...  ...   \n",
       "6602                        1.0                       0.0  ...   \n",
       "6603                        1.0                       0.0  ...   \n",
       "6604                        0.0                       0.0  ...   \n",
       "6605                        1.0                       0.0  ...   \n",
       "6606                        0.0                       0.0  ...   \n",
       "\n",
       "      Learning_Disabilities_No  Learning_Disabilities_Yes  \\\n",
       "0                          1.0                        0.0   \n",
       "1                          1.0                        0.0   \n",
       "2                          1.0                        0.0   \n",
       "3                          1.0                        0.0   \n",
       "4                          1.0                        0.0   \n",
       "...                        ...                        ...   \n",
       "6602                       1.0                        0.0   \n",
       "6603                       1.0                        0.0   \n",
       "6604                       1.0                        0.0   \n",
       "6605                       1.0                        0.0   \n",
       "6606                       1.0                        0.0   \n",
       "\n",
       "      Parental_Education_Level_College  Parental_Education_Level_High School  \\\n",
       "0                                  0.0                                   1.0   \n",
       "1                                  1.0                                   0.0   \n",
       "2                                  0.0                                   0.0   \n",
       "3                                  0.0                                   1.0   \n",
       "4                                  1.0                                   0.0   \n",
       "...                                ...                                   ...   \n",
       "6602                               0.0                                   1.0   \n",
       "6603                               0.0                                   1.0   \n",
       "6604                               0.0                                   0.0   \n",
       "6605                               0.0                                   1.0   \n",
       "6606                               0.0                                   0.0   \n",
       "\n",
       "      Parental_Education_Level_Postgraduate  Distance_from_Home_Far  \\\n",
       "0                                       0.0                     0.0   \n",
       "1                                       0.0                     0.0   \n",
       "2                                       1.0                     0.0   \n",
       "3                                       0.0                     0.0   \n",
       "4                                       0.0                     0.0   \n",
       "...                                     ...                     ...   \n",
       "6602                                    0.0                     0.0   \n",
       "6603                                    0.0                     0.0   \n",
       "6604                                    1.0                     0.0   \n",
       "6605                                    0.0                     1.0   \n",
       "6606                                    1.0                     0.0   \n",
       "\n",
       "      Distance_from_Home_Moderate  Distance_from_Home_Near  Gender_Female  \\\n",
       "0                             0.0                      1.0            0.0   \n",
       "1                             1.0                      0.0            1.0   \n",
       "2                             0.0                      1.0            0.0   \n",
       "3                             1.0                      0.0            0.0   \n",
       "4                             0.0                      1.0            1.0   \n",
       "...                           ...                      ...            ...   \n",
       "6602                          0.0                      1.0            1.0   \n",
       "6603                          0.0                      1.0            1.0   \n",
       "6604                          0.0                      1.0            1.0   \n",
       "6605                          0.0                      0.0            1.0   \n",
       "6606                          0.0                      1.0            0.0   \n",
       "\n",
       "      Gender_Male  \n",
       "0             1.0  \n",
       "1             0.0  \n",
       "2             1.0  \n",
       "3             1.0  \n",
       "4             0.0  \n",
       "...           ...  \n",
       "6602          0.0  \n",
       "6603          0.0  \n",
       "6604          0.0  \n",
       "6605          0.0  \n",
       "6606          1.0  \n",
       "\n",
       "[6377 rows x 42 columns]"
      ]
     },
     "execution_count": 61,
     "metadata": {},
     "output_type": "execute_result"
    }
   ],
   "source": [
    "#Converting categorical variables to dummy variables \n",
    "df_model = pd.get_dummies(df, dtype='float')\n",
    "df_model"
   ]
  },
  {
   "cell_type": "markdown",
   "id": "1d1d727e",
   "metadata": {
    "papermill": {
     "duration": 0.049552,
     "end_time": "2024-11-02T17:37:26.675759",
     "exception": false,
     "start_time": "2024-11-02T17:37:26.626207",
     "status": "completed"
    },
    "tags": []
   },
   "source": [
    "<h2>2. Train test split "
   ]
  },
  {
   "cell_type": "code",
   "execution_count": 62,
   "id": "51f14c61",
   "metadata": {
    "execution": {
     "iopub.execute_input": "2024-11-02T17:37:26.775240Z",
     "iopub.status.busy": "2024-11-02T17:37:26.774835Z",
     "iopub.status.idle": "2024-11-02T17:37:26.781898Z",
     "shell.execute_reply": "2024-11-02T17:37:26.781008Z"
    },
    "papermill": {
     "duration": 0.059754,
     "end_time": "2024-11-02T17:37:26.784058",
     "exception": false,
     "start_time": "2024-11-02T17:37:26.724304",
     "status": "completed"
    },
    "tags": []
   },
   "outputs": [],
   "source": [
    "#Creating X and y dataset\n",
    "X = df_model.drop('Exam_Score',axis=1)\n",
    "y = df_model['Exam_Score']"
   ]
  },
  {
   "cell_type": "code",
   "execution_count": 63,
   "id": "8df1b672",
   "metadata": {
    "execution": {
     "iopub.execute_input": "2024-11-02T17:37:26.885242Z",
     "iopub.status.busy": "2024-11-02T17:37:26.884820Z",
     "iopub.status.idle": "2024-11-02T17:37:26.895109Z",
     "shell.execute_reply": "2024-11-02T17:37:26.894059Z"
    },
    "papermill": {
     "duration": 0.064271,
     "end_time": "2024-11-02T17:37:26.897601",
     "exception": false,
     "start_time": "2024-11-02T17:37:26.833330",
     "status": "completed"
    },
    "tags": []
   },
   "outputs": [],
   "source": [
    "#Splitting X and y into train set and test set \n",
    "X_train, X_test, y_train, y_test = train_test_split(X, y, test_size=0.2, random_state=42)"
   ]
  },
  {
   "cell_type": "markdown",
   "id": "0b441286",
   "metadata": {
    "papermill": {
     "duration": 0.049033,
     "end_time": "2024-11-02T17:37:26.996982",
     "exception": false,
     "start_time": "2024-11-02T17:37:26.947949",
     "status": "completed"
    },
    "tags": []
   },
   "source": [
    "<h2>3. Linear regression"
   ]
  },
  {
   "cell_type": "code",
   "execution_count": 64,
   "id": "b4a523a3",
   "metadata": {
    "execution": {
     "iopub.execute_input": "2024-11-02T17:37:27.096917Z",
     "iopub.status.busy": "2024-11-02T17:37:27.095959Z",
     "iopub.status.idle": "2024-11-02T17:37:27.287665Z",
     "shell.execute_reply": "2024-11-02T17:37:27.286556Z"
    },
    "papermill": {
     "duration": 0.24525,
     "end_time": "2024-11-02T17:37:27.289938",
     "exception": false,
     "start_time": "2024-11-02T17:37:27.044688",
     "status": "completed"
    },
    "tags": []
   },
   "outputs": [
    {
     "data": {
      "text/html": [
       "<table class=\"simpletable\">\n",
       "<caption>OLS Regression Results</caption>\n",
       "<tr>\n",
       "  <th>Dep. Variable:</th>       <td>Exam_Score</td>    <th>  R-squared:         </th>  <td>   1.000</td> \n",
       "</tr>\n",
       "<tr>\n",
       "  <th>Model:</th>                   <td>OLS</td>       <th>  Adj. R-squared:    </th>  <td>   1.000</td> \n",
       "</tr>\n",
       "<tr>\n",
       "  <th>Method:</th>             <td>Least Squares</td>  <th>  F-statistic:       </th>  <td>2.109e+29</td>\n",
       "</tr>\n",
       "<tr>\n",
       "  <th>Date:</th>             <td>Sat, 02 Nov 2024</td> <th>  Prob (F-statistic):</th>   <td>  0.00</td>  \n",
       "</tr>\n",
       "<tr>\n",
       "  <th>Time:</th>                 <td>17:37:27</td>     <th>  Log-Likelihood:    </th> <td>1.8029e+05</td>\n",
       "</tr>\n",
       "<tr>\n",
       "  <th>No. Observations:</th>      <td>  6377</td>      <th>  AIC:               </th> <td>-3.605e+05</td>\n",
       "</tr>\n",
       "<tr>\n",
       "  <th>Df Residuals:</th>          <td>  6348</td>      <th>  BIC:               </th> <td>-3.603e+05</td>\n",
       "</tr>\n",
       "<tr>\n",
       "  <th>Df Model:</th>              <td>    28</td>      <th>                     </th>      <td> </td>    \n",
       "</tr>\n",
       "<tr>\n",
       "  <th>Covariance Type:</th>      <td>nonrobust</td>    <th>                     </th>      <td> </td>    \n",
       "</tr>\n",
       "</table>\n",
       "<table class=\"simpletable\">\n",
       "<tr>\n",
       "                    <td></td>                       <th>coef</th>     <th>std err</th>      <th>t</th>      <th>P>|t|</th>  <th>[0.025</th>    <th>0.975]</th>  \n",
       "</tr>\n",
       "<tr>\n",
       "  <th>const</th>                                 <td> -4.97e-15</td> <td> 5.85e-15</td> <td>   -0.850</td> <td> 0.396</td> <td>-1.64e-14</td> <td>  6.5e-15</td>\n",
       "</tr>\n",
       "<tr>\n",
       "  <th>Hours_Studied</th>                         <td>  9.92e-16</td> <td> 3.54e-16</td> <td>    2.804</td> <td> 0.005</td> <td> 2.98e-16</td> <td> 1.69e-15</td>\n",
       "</tr>\n",
       "<tr>\n",
       "  <th>Attendance</th>                            <td>-1.585e-15</td> <td> 2.09e-16</td> <td>   -7.593</td> <td> 0.000</td> <td>-1.99e-15</td> <td>-1.18e-15</td>\n",
       "</tr>\n",
       "<tr>\n",
       "  <th>Sleep_Hours</th>                           <td>-1.246e-15</td> <td> 1.09e-15</td> <td>   -1.140</td> <td> 0.254</td> <td>-3.39e-15</td> <td> 8.96e-16</td>\n",
       "</tr>\n",
       "<tr>\n",
       "  <th>Previous_Scores</th>                       <td>    1.0000</td> <td> 7.56e-16</td> <td> 1.32e+15</td> <td> 0.000</td> <td>    1.000</td> <td>    1.000</td>\n",
       "</tr>\n",
       "<tr>\n",
       "  <th>Tutoring_Sessions</th>                     <td> 4.082e-15</td> <td> 1.36e-15</td> <td>    3.012</td> <td> 0.003</td> <td> 1.43e-15</td> <td> 6.74e-15</td>\n",
       "</tr>\n",
       "<tr>\n",
       "  <th>Physical_Activity</th>                     <td> 2.151e-15</td> <td> 1.57e-15</td> <td>    1.371</td> <td> 0.170</td> <td>-9.24e-16</td> <td> 5.23e-15</td>\n",
       "</tr>\n",
       "<tr>\n",
       "  <th>Score_increase</th>                        <td>    1.0000</td> <td> 7.86e-16</td> <td> 1.27e+15</td> <td> 0.000</td> <td>    1.000</td> <td>    1.000</td>\n",
       "</tr>\n",
       "<tr>\n",
       "  <th>Parental_Involvement_High</th>             <td> 1.292e-15</td> <td> 3.61e-15</td> <td>    0.358</td> <td> 0.720</td> <td>-5.78e-15</td> <td> 8.36e-15</td>\n",
       "</tr>\n",
       "<tr>\n",
       "  <th>Parental_Involvement_Low</th>              <td>-1.335e-14</td> <td> 3.05e-15</td> <td>   -4.382</td> <td> 0.000</td> <td>-1.93e-14</td> <td>-7.38e-15</td>\n",
       "</tr>\n",
       "<tr>\n",
       "  <th>Parental_Involvement_Medium</th>           <td> -6.21e-16</td> <td> 2.86e-15</td> <td>   -0.217</td> <td> 0.828</td> <td>-6.22e-15</td> <td> 4.98e-15</td>\n",
       "</tr>\n",
       "<tr>\n",
       "  <th>Access_to_Resources_High</th>              <td>-2.151e-16</td> <td>  3.6e-15</td> <td>   -0.060</td> <td> 0.952</td> <td>-7.26e-15</td> <td> 6.83e-15</td>\n",
       "</tr>\n",
       "<tr>\n",
       "  <th>Access_to_Resources_Low</th>               <td>-1.728e-15</td> <td> 3.03e-15</td> <td>   -0.570</td> <td> 0.568</td> <td>-7.67e-15</td> <td> 4.21e-15</td>\n",
       "</tr>\n",
       "<tr>\n",
       "  <th>Access_to_Resources_Medium</th>            <td>-3.022e-15</td> <td>  2.9e-15</td> <td>   -1.043</td> <td> 0.297</td> <td> -8.7e-15</td> <td> 2.66e-15</td>\n",
       "</tr>\n",
       "<tr>\n",
       "  <th>Extracurricular_Activities_No</th>         <td> 2.238e-16</td> <td>  3.2e-15</td> <td>    0.070</td> <td> 0.944</td> <td>-6.05e-15</td> <td>  6.5e-15</td>\n",
       "</tr>\n",
       "<tr>\n",
       "  <th>Extracurricular_Activities_Yes</th>        <td>-3.832e-15</td> <td> 3.51e-15</td> <td>   -1.093</td> <td> 0.275</td> <td>-1.07e-14</td> <td> 3.04e-15</td>\n",
       "</tr>\n",
       "<tr>\n",
       "  <th>Motivation_Level_High</th>                 <td>-4.141e-15</td> <td> 3.58e-15</td> <td>   -1.158</td> <td> 0.247</td> <td>-1.11e-14</td> <td> 2.87e-15</td>\n",
       "</tr>\n",
       "<tr>\n",
       "  <th>Motivation_Level_Low</th>                  <td>-1.841e-15</td> <td> 2.91e-15</td> <td>   -0.632</td> <td> 0.527</td> <td>-7.55e-15</td> <td> 3.87e-15</td>\n",
       "</tr>\n",
       "<tr>\n",
       "  <th>Motivation_Level_Medium</th>               <td> 5.249e-15</td> <td> 2.89e-15</td> <td>    1.819</td> <td> 0.069</td> <td>-4.07e-16</td> <td> 1.09e-14</td>\n",
       "</tr>\n",
       "<tr>\n",
       "  <th>Internet_Access_No</th>                    <td>-1.843e-15</td> <td> 4.16e-15</td> <td>   -0.444</td> <td> 0.657</td> <td>-9.99e-15</td> <td>  6.3e-15</td>\n",
       "</tr>\n",
       "<tr>\n",
       "  <th>Internet_Access_Yes</th>                   <td> 2.073e-15</td> <td>  4.3e-15</td> <td>    0.482</td> <td> 0.630</td> <td>-6.35e-15</td> <td> 1.05e-14</td>\n",
       "</tr>\n",
       "<tr>\n",
       "  <th>Family_Income_High</th>                    <td> 7.485e-15</td> <td> 3.57e-15</td> <td>    2.096</td> <td> 0.036</td> <td> 4.85e-16</td> <td> 1.45e-14</td>\n",
       "</tr>\n",
       "<tr>\n",
       "  <th>Family_Income_Low</th>                     <td>-3.626e-15</td> <td> 2.76e-15</td> <td>   -1.314</td> <td> 0.189</td> <td>-9.03e-15</td> <td> 1.78e-15</td>\n",
       "</tr>\n",
       "<tr>\n",
       "  <th>Family_Income_Medium</th>                  <td> -4.21e-15</td> <td> 2.97e-15</td> <td>   -1.420</td> <td> 0.156</td> <td>   -1e-14</td> <td>  1.6e-15</td>\n",
       "</tr>\n",
       "<tr>\n",
       "  <th>Teacher_Quality_High</th>                  <td>-3.568e-15</td> <td> 3.51e-15</td> <td>   -1.018</td> <td> 0.309</td> <td>-1.04e-14</td> <td> 3.31e-15</td>\n",
       "</tr>\n",
       "<tr>\n",
       "  <th>Teacher_Quality_Low</th>                   <td> 4.028e-15</td> <td> 3.99e-15</td> <td>    1.009</td> <td> 0.313</td> <td> -3.8e-15</td> <td> 1.19e-14</td>\n",
       "</tr>\n",
       "<tr>\n",
       "  <th>Teacher_Quality_Medium</th>                <td>-4.732e-15</td> <td> 3.01e-15</td> <td>   -1.573</td> <td> 0.116</td> <td>-1.06e-14</td> <td> 1.16e-15</td>\n",
       "</tr>\n",
       "<tr>\n",
       "  <th>School_Type_Private</th>                   <td>-5.742e-16</td> <td> 3.43e-15</td> <td>   -0.167</td> <td> 0.867</td> <td> -7.3e-15</td> <td> 6.15e-15</td>\n",
       "</tr>\n",
       "<tr>\n",
       "  <th>School_Type_Public</th>                    <td>-4.153e-15</td> <td> 3.38e-15</td> <td>   -1.229</td> <td> 0.219</td> <td>-1.08e-14</td> <td> 2.47e-15</td>\n",
       "</tr>\n",
       "<tr>\n",
       "  <th>Peer_Influence_Negative</th>               <td>-1.209e-15</td> <td> 3.11e-15</td> <td>   -0.388</td> <td> 0.698</td> <td>-7.32e-15</td> <td>  4.9e-15</td>\n",
       "</tr>\n",
       "<tr>\n",
       "  <th>Peer_Influence_Neutral</th>                <td>-2.429e-15</td> <td> 2.98e-15</td> <td>   -0.815</td> <td> 0.415</td> <td>-8.27e-15</td> <td> 3.41e-15</td>\n",
       "</tr>\n",
       "<tr>\n",
       "  <th>Peer_Influence_Positive</th>               <td>-6.325e-15</td> <td> 3.17e-15</td> <td>   -1.995</td> <td> 0.046</td> <td>-1.25e-14</td> <td>-1.11e-16</td>\n",
       "</tr>\n",
       "<tr>\n",
       "  <th>Learning_Disabilities_No</th>              <td>-9.667e-16</td> <td> 4.04e-15</td> <td>   -0.239</td> <td> 0.811</td> <td> -8.9e-15</td> <td> 6.96e-15</td>\n",
       "</tr>\n",
       "<tr>\n",
       "  <th>Learning_Disabilities_Yes</th>             <td>-1.063e-15</td> <td> 3.83e-15</td> <td>   -0.278</td> <td> 0.781</td> <td>-8.57e-15</td> <td> 6.45e-15</td>\n",
       "</tr>\n",
       "<tr>\n",
       "  <th>Parental_Education_Level_College</th>      <td> 2.522e-15</td> <td> 3.08e-15</td> <td>    0.818</td> <td> 0.413</td> <td>-3.52e-15</td> <td> 8.56e-15</td>\n",
       "</tr>\n",
       "<tr>\n",
       "  <th>Parental_Education_Level_High School</th>  <td>-5.874e-15</td> <td> 2.68e-15</td> <td>   -2.192</td> <td> 0.028</td> <td>-1.11e-14</td> <td> -6.2e-16</td>\n",
       "</tr>\n",
       "<tr>\n",
       "  <th>Parental_Education_Level_Postgraduate</th> <td>-7.008e-16</td> <td> 3.56e-15</td> <td>   -0.197</td> <td> 0.844</td> <td>-7.68e-15</td> <td> 6.28e-15</td>\n",
       "</tr>\n",
       "<tr>\n",
       "  <th>Distance_from_Home_Far</th>                <td> 4.025e-16</td> <td>    4e-15</td> <td>    0.101</td> <td> 0.920</td> <td>-7.45e-15</td> <td> 8.25e-15</td>\n",
       "</tr>\n",
       "<tr>\n",
       "  <th>Distance_from_Home_Moderate</th>           <td>-1.318e-15</td> <td> 3.26e-15</td> <td>   -0.404</td> <td> 0.686</td> <td>-7.71e-15</td> <td> 5.07e-15</td>\n",
       "</tr>\n",
       "<tr>\n",
       "  <th>Distance_from_Home_Near</th>               <td>-2.101e-15</td> <td> 3.27e-15</td> <td>   -0.642</td> <td> 0.521</td> <td>-8.51e-15</td> <td> 4.31e-15</td>\n",
       "</tr>\n",
       "<tr>\n",
       "  <th>Gender_Female</th>                         <td> 3.556e-16</td> <td> 3.36e-15</td> <td>    0.106</td> <td> 0.916</td> <td>-6.24e-15</td> <td> 6.95e-15</td>\n",
       "</tr>\n",
       "<tr>\n",
       "  <th>Gender_Male</th>                           <td>-5.737e-15</td> <td> 3.33e-15</td> <td>   -1.724</td> <td> 0.085</td> <td>-1.23e-14</td> <td> 7.86e-16</td>\n",
       "</tr>\n",
       "</table>\n",
       "<table class=\"simpletable\">\n",
       "<tr>\n",
       "  <th>Omnibus:</th>       <td>23.459</td> <th>  Durbin-Watson:     </th> <td>   0.076</td>\n",
       "</tr>\n",
       "<tr>\n",
       "  <th>Prob(Omnibus):</th> <td> 0.000</td> <th>  Jarque-Bera (JB):  </th> <td>  21.821</td>\n",
       "</tr>\n",
       "<tr>\n",
       "  <th>Skew:</th>          <td>-0.110</td> <th>  Prob(JB):          </th> <td>1.83e-05</td>\n",
       "</tr>\n",
       "<tr>\n",
       "  <th>Kurtosis:</th>      <td> 2.816</td> <th>  Cond. No.          </th> <td>9.92e+16</td>\n",
       "</tr>\n",
       "</table><br/><br/>Notes:<br/>[1] Standard Errors assume that the covariance matrix of the errors is correctly specified.<br/>[2] The smallest eigenvalue is 8.26e-27. This might indicate that there are<br/>strong multicollinearity problems or that the design matrix is singular."
      ],
      "text/latex": [
       "\\begin{center}\n",
       "\\begin{tabular}{lclc}\n",
       "\\toprule\n",
       "\\textbf{Dep. Variable:}                           &   Exam\\_Score    & \\textbf{  R-squared:         } &     1.000   \\\\\n",
       "\\textbf{Model:}                                   &       OLS        & \\textbf{  Adj. R-squared:    } &     1.000   \\\\\n",
       "\\textbf{Method:}                                  &  Least Squares   & \\textbf{  F-statistic:       } & 2.109e+29   \\\\\n",
       "\\textbf{Date:}                                    & Sat, 02 Nov 2024 & \\textbf{  Prob (F-statistic):} &     0.00    \\\\\n",
       "\\textbf{Time:}                                    &     17:37:27     & \\textbf{  Log-Likelihood:    } & 1.8029e+05  \\\\\n",
       "\\textbf{No. Observations:}                        &        6377      & \\textbf{  AIC:               } & -3.605e+05  \\\\\n",
       "\\textbf{Df Residuals:}                            &        6348      & \\textbf{  BIC:               } & -3.603e+05  \\\\\n",
       "\\textbf{Df Model:}                                &          28      & \\textbf{                     } &             \\\\\n",
       "\\textbf{Covariance Type:}                         &    nonrobust     & \\textbf{                     } &             \\\\\n",
       "\\bottomrule\n",
       "\\end{tabular}\n",
       "\\begin{tabular}{lcccccc}\n",
       "                                                  & \\textbf{coef} & \\textbf{std err} & \\textbf{t} & \\textbf{P$> |$t$|$} & \\textbf{[0.025} & \\textbf{0.975]}  \\\\\n",
       "\\midrule\n",
       "\\textbf{const}                                    &    -4.97e-15  &     5.85e-15     &    -0.850  &         0.396        &    -1.64e-14    &      6.5e-15     \\\\\n",
       "\\textbf{Hours\\_Studied}                           &     9.92e-16  &     3.54e-16     &     2.804  &         0.005        &     2.98e-16    &     1.69e-15     \\\\\n",
       "\\textbf{Attendance}                               &   -1.585e-15  &     2.09e-16     &    -7.593  &         0.000        &    -1.99e-15    &    -1.18e-15     \\\\\n",
       "\\textbf{Sleep\\_Hours}                             &   -1.246e-15  &     1.09e-15     &    -1.140  &         0.254        &    -3.39e-15    &     8.96e-16     \\\\\n",
       "\\textbf{Previous\\_Scores}                         &       1.0000  &     7.56e-16     &  1.32e+15  &         0.000        &        1.000    &        1.000     \\\\\n",
       "\\textbf{Tutoring\\_Sessions}                       &    4.082e-15  &     1.36e-15     &     3.012  &         0.003        &     1.43e-15    &     6.74e-15     \\\\\n",
       "\\textbf{Physical\\_Activity}                       &    2.151e-15  &     1.57e-15     &     1.371  &         0.170        &    -9.24e-16    &     5.23e-15     \\\\\n",
       "\\textbf{Score\\_increase}                          &       1.0000  &     7.86e-16     &  1.27e+15  &         0.000        &        1.000    &        1.000     \\\\\n",
       "\\textbf{Parental\\_Involvement\\_High}              &    1.292e-15  &     3.61e-15     &     0.358  &         0.720        &    -5.78e-15    &     8.36e-15     \\\\\n",
       "\\textbf{Parental\\_Involvement\\_Low}               &   -1.335e-14  &     3.05e-15     &    -4.382  &         0.000        &    -1.93e-14    &    -7.38e-15     \\\\\n",
       "\\textbf{Parental\\_Involvement\\_Medium}            &    -6.21e-16  &     2.86e-15     &    -0.217  &         0.828        &    -6.22e-15    &     4.98e-15     \\\\\n",
       "\\textbf{Access\\_to\\_Resources\\_High}              &   -2.151e-16  &      3.6e-15     &    -0.060  &         0.952        &    -7.26e-15    &     6.83e-15     \\\\\n",
       "\\textbf{Access\\_to\\_Resources\\_Low}               &   -1.728e-15  &     3.03e-15     &    -0.570  &         0.568        &    -7.67e-15    &     4.21e-15     \\\\\n",
       "\\textbf{Access\\_to\\_Resources\\_Medium}            &   -3.022e-15  &      2.9e-15     &    -1.043  &         0.297        &     -8.7e-15    &     2.66e-15     \\\\\n",
       "\\textbf{Extracurricular\\_Activities\\_No}          &    2.238e-16  &      3.2e-15     &     0.070  &         0.944        &    -6.05e-15    &      6.5e-15     \\\\\n",
       "\\textbf{Extracurricular\\_Activities\\_Yes}         &   -3.832e-15  &     3.51e-15     &    -1.093  &         0.275        &    -1.07e-14    &     3.04e-15     \\\\\n",
       "\\textbf{Motivation\\_Level\\_High}                  &   -4.141e-15  &     3.58e-15     &    -1.158  &         0.247        &    -1.11e-14    &     2.87e-15     \\\\\n",
       "\\textbf{Motivation\\_Level\\_Low}                   &   -1.841e-15  &     2.91e-15     &    -0.632  &         0.527        &    -7.55e-15    &     3.87e-15     \\\\\n",
       "\\textbf{Motivation\\_Level\\_Medium}                &    5.249e-15  &     2.89e-15     &     1.819  &         0.069        &    -4.07e-16    &     1.09e-14     \\\\\n",
       "\\textbf{Internet\\_Access\\_No}                     &   -1.843e-15  &     4.16e-15     &    -0.444  &         0.657        &    -9.99e-15    &      6.3e-15     \\\\\n",
       "\\textbf{Internet\\_Access\\_Yes}                    &    2.073e-15  &      4.3e-15     &     0.482  &         0.630        &    -6.35e-15    &     1.05e-14     \\\\\n",
       "\\textbf{Family\\_Income\\_High}                     &    7.485e-15  &     3.57e-15     &     2.096  &         0.036        &     4.85e-16    &     1.45e-14     \\\\\n",
       "\\textbf{Family\\_Income\\_Low}                      &   -3.626e-15  &     2.76e-15     &    -1.314  &         0.189        &    -9.03e-15    &     1.78e-15     \\\\\n",
       "\\textbf{Family\\_Income\\_Medium}                   &    -4.21e-15  &     2.97e-15     &    -1.420  &         0.156        &       -1e-14    &      1.6e-15     \\\\\n",
       "\\textbf{Teacher\\_Quality\\_High}                   &   -3.568e-15  &     3.51e-15     &    -1.018  &         0.309        &    -1.04e-14    &     3.31e-15     \\\\\n",
       "\\textbf{Teacher\\_Quality\\_Low}                    &    4.028e-15  &     3.99e-15     &     1.009  &         0.313        &     -3.8e-15    &     1.19e-14     \\\\\n",
       "\\textbf{Teacher\\_Quality\\_Medium}                 &   -4.732e-15  &     3.01e-15     &    -1.573  &         0.116        &    -1.06e-14    &     1.16e-15     \\\\\n",
       "\\textbf{School\\_Type\\_Private}                    &   -5.742e-16  &     3.43e-15     &    -0.167  &         0.867        &     -7.3e-15    &     6.15e-15     \\\\\n",
       "\\textbf{School\\_Type\\_Public}                     &   -4.153e-15  &     3.38e-15     &    -1.229  &         0.219        &    -1.08e-14    &     2.47e-15     \\\\\n",
       "\\textbf{Peer\\_Influence\\_Negative}                &   -1.209e-15  &     3.11e-15     &    -0.388  &         0.698        &    -7.32e-15    &      4.9e-15     \\\\\n",
       "\\textbf{Peer\\_Influence\\_Neutral}                 &   -2.429e-15  &     2.98e-15     &    -0.815  &         0.415        &    -8.27e-15    &     3.41e-15     \\\\\n",
       "\\textbf{Peer\\_Influence\\_Positive}                &   -6.325e-15  &     3.17e-15     &    -1.995  &         0.046        &    -1.25e-14    &    -1.11e-16     \\\\\n",
       "\\textbf{Learning\\_Disabilities\\_No}               &   -9.667e-16  &     4.04e-15     &    -0.239  &         0.811        &     -8.9e-15    &     6.96e-15     \\\\\n",
       "\\textbf{Learning\\_Disabilities\\_Yes}              &   -1.063e-15  &     3.83e-15     &    -0.278  &         0.781        &    -8.57e-15    &     6.45e-15     \\\\\n",
       "\\textbf{Parental\\_Education\\_Level\\_College}      &    2.522e-15  &     3.08e-15     &     0.818  &         0.413        &    -3.52e-15    &     8.56e-15     \\\\\n",
       "\\textbf{Parental\\_Education\\_Level\\_High School}  &   -5.874e-15  &     2.68e-15     &    -2.192  &         0.028        &    -1.11e-14    &     -6.2e-16     \\\\\n",
       "\\textbf{Parental\\_Education\\_Level\\_Postgraduate} &   -7.008e-16  &     3.56e-15     &    -0.197  &         0.844        &    -7.68e-15    &     6.28e-15     \\\\\n",
       "\\textbf{Distance\\_from\\_Home\\_Far}                &    4.025e-16  &        4e-15     &     0.101  &         0.920        &    -7.45e-15    &     8.25e-15     \\\\\n",
       "\\textbf{Distance\\_from\\_Home\\_Moderate}           &   -1.318e-15  &     3.26e-15     &    -0.404  &         0.686        &    -7.71e-15    &     5.07e-15     \\\\\n",
       "\\textbf{Distance\\_from\\_Home\\_Near}               &   -2.101e-15  &     3.27e-15     &    -0.642  &         0.521        &    -8.51e-15    &     4.31e-15     \\\\\n",
       "\\textbf{Gender\\_Female}                           &    3.556e-16  &     3.36e-15     &     0.106  &         0.916        &    -6.24e-15    &     6.95e-15     \\\\\n",
       "\\textbf{Gender\\_Male}                             &   -5.737e-15  &     3.33e-15     &    -1.724  &         0.085        &    -1.23e-14    &     7.86e-16     \\\\\n",
       "\\bottomrule\n",
       "\\end{tabular}\n",
       "\\begin{tabular}{lclc}\n",
       "\\textbf{Omnibus:}       & 23.459 & \\textbf{  Durbin-Watson:     } &    0.076  \\\\\n",
       "\\textbf{Prob(Omnibus):} &  0.000 & \\textbf{  Jarque-Bera (JB):  } &   21.821  \\\\\n",
       "\\textbf{Skew:}          & -0.110 & \\textbf{  Prob(JB):          } & 1.83e-05  \\\\\n",
       "\\textbf{Kurtosis:}      &  2.816 & \\textbf{  Cond. No.          } & 9.92e+16  \\\\\n",
       "\\bottomrule\n",
       "\\end{tabular}\n",
       "%\\caption{OLS Regression Results}\n",
       "\\end{center}\n",
       "\n",
       "Notes: \\newline\n",
       " [1] Standard Errors assume that the covariance matrix of the errors is correctly specified. \\newline\n",
       " [2] The smallest eigenvalue is 8.26e-27. This might indicate that there are \\newline\n",
       " strong multicollinearity problems or that the design matrix is singular."
      ],
      "text/plain": [
       "<class 'statsmodels.iolib.summary.Summary'>\n",
       "\"\"\"\n",
       "                            OLS Regression Results                            \n",
       "==============================================================================\n",
       "Dep. Variable:             Exam_Score   R-squared:                       1.000\n",
       "Model:                            OLS   Adj. R-squared:                  1.000\n",
       "Method:                 Least Squares   F-statistic:                 2.109e+29\n",
       "Date:                Sat, 02 Nov 2024   Prob (F-statistic):               0.00\n",
       "Time:                        17:37:27   Log-Likelihood:             1.8029e+05\n",
       "No. Observations:                6377   AIC:                        -3.605e+05\n",
       "Df Residuals:                    6348   BIC:                        -3.603e+05\n",
       "Df Model:                          28                                         \n",
       "Covariance Type:            nonrobust                                         \n",
       "=========================================================================================================\n",
       "                                            coef    std err          t      P>|t|      [0.025      0.975]\n",
       "---------------------------------------------------------------------------------------------------------\n",
       "const                                  -4.97e-15   5.85e-15     -0.850      0.396   -1.64e-14     6.5e-15\n",
       "Hours_Studied                           9.92e-16   3.54e-16      2.804      0.005    2.98e-16    1.69e-15\n",
       "Attendance                            -1.585e-15   2.09e-16     -7.593      0.000   -1.99e-15   -1.18e-15\n",
       "Sleep_Hours                           -1.246e-15   1.09e-15     -1.140      0.254   -3.39e-15    8.96e-16\n",
       "Previous_Scores                           1.0000   7.56e-16   1.32e+15      0.000       1.000       1.000\n",
       "Tutoring_Sessions                      4.082e-15   1.36e-15      3.012      0.003    1.43e-15    6.74e-15\n",
       "Physical_Activity                      2.151e-15   1.57e-15      1.371      0.170   -9.24e-16    5.23e-15\n",
       "Score_increase                            1.0000   7.86e-16   1.27e+15      0.000       1.000       1.000\n",
       "Parental_Involvement_High              1.292e-15   3.61e-15      0.358      0.720   -5.78e-15    8.36e-15\n",
       "Parental_Involvement_Low              -1.335e-14   3.05e-15     -4.382      0.000   -1.93e-14   -7.38e-15\n",
       "Parental_Involvement_Medium            -6.21e-16   2.86e-15     -0.217      0.828   -6.22e-15    4.98e-15\n",
       "Access_to_Resources_High              -2.151e-16    3.6e-15     -0.060      0.952   -7.26e-15    6.83e-15\n",
       "Access_to_Resources_Low               -1.728e-15   3.03e-15     -0.570      0.568   -7.67e-15    4.21e-15\n",
       "Access_to_Resources_Medium            -3.022e-15    2.9e-15     -1.043      0.297    -8.7e-15    2.66e-15\n",
       "Extracurricular_Activities_No          2.238e-16    3.2e-15      0.070      0.944   -6.05e-15     6.5e-15\n",
       "Extracurricular_Activities_Yes        -3.832e-15   3.51e-15     -1.093      0.275   -1.07e-14    3.04e-15\n",
       "Motivation_Level_High                 -4.141e-15   3.58e-15     -1.158      0.247   -1.11e-14    2.87e-15\n",
       "Motivation_Level_Low                  -1.841e-15   2.91e-15     -0.632      0.527   -7.55e-15    3.87e-15\n",
       "Motivation_Level_Medium                5.249e-15   2.89e-15      1.819      0.069   -4.07e-16    1.09e-14\n",
       "Internet_Access_No                    -1.843e-15   4.16e-15     -0.444      0.657   -9.99e-15     6.3e-15\n",
       "Internet_Access_Yes                    2.073e-15    4.3e-15      0.482      0.630   -6.35e-15    1.05e-14\n",
       "Family_Income_High                     7.485e-15   3.57e-15      2.096      0.036    4.85e-16    1.45e-14\n",
       "Family_Income_Low                     -3.626e-15   2.76e-15     -1.314      0.189   -9.03e-15    1.78e-15\n",
       "Family_Income_Medium                   -4.21e-15   2.97e-15     -1.420      0.156      -1e-14     1.6e-15\n",
       "Teacher_Quality_High                  -3.568e-15   3.51e-15     -1.018      0.309   -1.04e-14    3.31e-15\n",
       "Teacher_Quality_Low                    4.028e-15   3.99e-15      1.009      0.313    -3.8e-15    1.19e-14\n",
       "Teacher_Quality_Medium                -4.732e-15   3.01e-15     -1.573      0.116   -1.06e-14    1.16e-15\n",
       "School_Type_Private                   -5.742e-16   3.43e-15     -0.167      0.867    -7.3e-15    6.15e-15\n",
       "School_Type_Public                    -4.153e-15   3.38e-15     -1.229      0.219   -1.08e-14    2.47e-15\n",
       "Peer_Influence_Negative               -1.209e-15   3.11e-15     -0.388      0.698   -7.32e-15     4.9e-15\n",
       "Peer_Influence_Neutral                -2.429e-15   2.98e-15     -0.815      0.415   -8.27e-15    3.41e-15\n",
       "Peer_Influence_Positive               -6.325e-15   3.17e-15     -1.995      0.046   -1.25e-14   -1.11e-16\n",
       "Learning_Disabilities_No              -9.667e-16   4.04e-15     -0.239      0.811    -8.9e-15    6.96e-15\n",
       "Learning_Disabilities_Yes             -1.063e-15   3.83e-15     -0.278      0.781   -8.57e-15    6.45e-15\n",
       "Parental_Education_Level_College       2.522e-15   3.08e-15      0.818      0.413   -3.52e-15    8.56e-15\n",
       "Parental_Education_Level_High School  -5.874e-15   2.68e-15     -2.192      0.028   -1.11e-14    -6.2e-16\n",
       "Parental_Education_Level_Postgraduate -7.008e-16   3.56e-15     -0.197      0.844   -7.68e-15    6.28e-15\n",
       "Distance_from_Home_Far                 4.025e-16      4e-15      0.101      0.920   -7.45e-15    8.25e-15\n",
       "Distance_from_Home_Moderate           -1.318e-15   3.26e-15     -0.404      0.686   -7.71e-15    5.07e-15\n",
       "Distance_from_Home_Near               -2.101e-15   3.27e-15     -0.642      0.521   -8.51e-15    4.31e-15\n",
       "Gender_Female                          3.556e-16   3.36e-15      0.106      0.916   -6.24e-15    6.95e-15\n",
       "Gender_Male                           -5.737e-15   3.33e-15     -1.724      0.085   -1.23e-14    7.86e-16\n",
       "==============================================================================\n",
       "Omnibus:                       23.459   Durbin-Watson:                   0.076\n",
       "Prob(Omnibus):                  0.000   Jarque-Bera (JB):               21.821\n",
       "Skew:                          -0.110   Prob(JB):                     1.83e-05\n",
       "Kurtosis:                       2.816   Cond. No.                     9.92e+16\n",
       "==============================================================================\n",
       "\n",
       "Notes:\n",
       "[1] Standard Errors assume that the covariance matrix of the errors is correctly specified.\n",
       "[2] The smallest eigenvalue is 8.26e-27. This might indicate that there are\n",
       "strong multicollinearity problems or that the design matrix is singular.\n",
       "\"\"\""
      ]
     },
     "execution_count": 64,
     "metadata": {},
     "output_type": "execute_result"
    }
   ],
   "source": [
    "X_sm = X = sm.add_constant(X)\n",
    "model = sm.OLS(y,X_sm)\n",
    "model.fit().summary()"
   ]
  },
  {
   "cell_type": "code",
   "execution_count": 65,
   "id": "180c6383",
   "metadata": {
    "execution": {
     "iopub.execute_input": "2024-11-02T17:37:27.391792Z",
     "iopub.status.busy": "2024-11-02T17:37:27.391352Z",
     "iopub.status.idle": "2024-11-02T17:37:27.429914Z",
     "shell.execute_reply": "2024-11-02T17:37:27.428929Z"
    },
    "papermill": {
     "duration": 0.093246,
     "end_time": "2024-11-02T17:37:27.432519",
     "exception": false,
     "start_time": "2024-11-02T17:37:27.339273",
     "status": "completed"
    },
    "tags": []
   },
   "outputs": [
    {
     "data": {
      "text/html": [
       "<style>#sk-container-id-1 {color: black;background-color: white;}#sk-container-id-1 pre{padding: 0;}#sk-container-id-1 div.sk-toggleable {background-color: white;}#sk-container-id-1 label.sk-toggleable__label {cursor: pointer;display: block;width: 100%;margin-bottom: 0;padding: 0.3em;box-sizing: border-box;text-align: center;}#sk-container-id-1 label.sk-toggleable__label-arrow:before {content: \"▸\";float: left;margin-right: 0.25em;color: #696969;}#sk-container-id-1 label.sk-toggleable__label-arrow:hover:before {color: black;}#sk-container-id-1 div.sk-estimator:hover label.sk-toggleable__label-arrow:before {color: black;}#sk-container-id-1 div.sk-toggleable__content {max-height: 0;max-width: 0;overflow: hidden;text-align: left;background-color: #f0f8ff;}#sk-container-id-1 div.sk-toggleable__content pre {margin: 0.2em;color: black;border-radius: 0.25em;background-color: #f0f8ff;}#sk-container-id-1 input.sk-toggleable__control:checked~div.sk-toggleable__content {max-height: 200px;max-width: 100%;overflow: auto;}#sk-container-id-1 input.sk-toggleable__control:checked~label.sk-toggleable__label-arrow:before {content: \"▾\";}#sk-container-id-1 div.sk-estimator input.sk-toggleable__control:checked~label.sk-toggleable__label {background-color: #d4ebff;}#sk-container-id-1 div.sk-label input.sk-toggleable__control:checked~label.sk-toggleable__label {background-color: #d4ebff;}#sk-container-id-1 input.sk-hidden--visually {border: 0;clip: rect(1px 1px 1px 1px);clip: rect(1px, 1px, 1px, 1px);height: 1px;margin: -1px;overflow: hidden;padding: 0;position: absolute;width: 1px;}#sk-container-id-1 div.sk-estimator {font-family: monospace;background-color: #f0f8ff;border: 1px dotted black;border-radius: 0.25em;box-sizing: border-box;margin-bottom: 0.5em;}#sk-container-id-1 div.sk-estimator:hover {background-color: #d4ebff;}#sk-container-id-1 div.sk-parallel-item::after {content: \"\";width: 100%;border-bottom: 1px solid gray;flex-grow: 1;}#sk-container-id-1 div.sk-label:hover label.sk-toggleable__label {background-color: #d4ebff;}#sk-container-id-1 div.sk-serial::before {content: \"\";position: absolute;border-left: 1px solid gray;box-sizing: border-box;top: 0;bottom: 0;left: 50%;z-index: 0;}#sk-container-id-1 div.sk-serial {display: flex;flex-direction: column;align-items: center;background-color: white;padding-right: 0.2em;padding-left: 0.2em;position: relative;}#sk-container-id-1 div.sk-item {position: relative;z-index: 1;}#sk-container-id-1 div.sk-parallel {display: flex;align-items: stretch;justify-content: center;background-color: white;position: relative;}#sk-container-id-1 div.sk-item::before, #sk-container-id-1 div.sk-parallel-item::before {content: \"\";position: absolute;border-left: 1px solid gray;box-sizing: border-box;top: 0;bottom: 0;left: 50%;z-index: -1;}#sk-container-id-1 div.sk-parallel-item {display: flex;flex-direction: column;z-index: 1;position: relative;background-color: white;}#sk-container-id-1 div.sk-parallel-item:first-child::after {align-self: flex-end;width: 50%;}#sk-container-id-1 div.sk-parallel-item:last-child::after {align-self: flex-start;width: 50%;}#sk-container-id-1 div.sk-parallel-item:only-child::after {width: 0;}#sk-container-id-1 div.sk-dashed-wrapped {border: 1px dashed gray;margin: 0 0.4em 0.5em 0.4em;box-sizing: border-box;padding-bottom: 0.4em;background-color: white;}#sk-container-id-1 div.sk-label label {font-family: monospace;font-weight: bold;display: inline-block;line-height: 1.2em;}#sk-container-id-1 div.sk-label-container {text-align: center;}#sk-container-id-1 div.sk-container {/* jupyter's `normalize.less` sets `[hidden] { display: none; }` but bootstrap.min.css set `[hidden] { display: none !important; }` so we also need the `!important` here to be able to override the default hidden behavior on the sphinx rendered scikit-learn.org. See: https://github.com/scikit-learn/scikit-learn/issues/21755 */display: inline-block !important;position: relative;}#sk-container-id-1 div.sk-text-repr-fallback {display: none;}</style><div id=\"sk-container-id-1\" class=\"sk-top-container\"><div class=\"sk-text-repr-fallback\"><pre>LinearRegression()</pre><b>In a Jupyter environment, please rerun this cell to show the HTML representation or trust the notebook. <br />On GitHub, the HTML representation is unable to render, please try loading this page with nbviewer.org.</b></div><div class=\"sk-container\" hidden><div class=\"sk-item\"><div class=\"sk-estimator sk-toggleable\"><input class=\"sk-toggleable__control sk-hidden--visually\" id=\"sk-estimator-id-1\" type=\"checkbox\" checked><label for=\"sk-estimator-id-1\" class=\"sk-toggleable__label sk-toggleable__label-arrow\">LinearRegression</label><div class=\"sk-toggleable__content\"><pre>LinearRegression()</pre></div></div></div></div></div>"
      ],
      "text/plain": [
       "LinearRegression()"
      ]
     },
     "execution_count": 65,
     "metadata": {},
     "output_type": "execute_result"
    }
   ],
   "source": [
    "#Fitting X_train, y_train into Lineaer regression model\n",
    "linear_reg = LinearRegression()\n",
    "linear_reg.fit(X_train, y_train)"
   ]
  },
  {
   "cell_type": "code",
   "execution_count": 66,
   "id": "1f4e362d",
   "metadata": {
    "execution": {
     "iopub.execute_input": "2024-11-02T17:37:27.566992Z",
     "iopub.status.busy": "2024-11-02T17:37:27.565943Z",
     "iopub.status.idle": "2024-11-02T17:37:27.743860Z",
     "shell.execute_reply": "2024-11-02T17:37:27.742724Z"
    },
    "papermill": {
     "duration": 0.241348,
     "end_time": "2024-11-02T17:37:27.746665",
     "exception": false,
     "start_time": "2024-11-02T17:37:27.505317",
     "status": "completed"
    },
    "tags": []
   },
   "outputs": [
    {
     "data": {
      "text/plain": [
       "1.0"
      ]
     },
     "execution_count": 66,
     "metadata": {},
     "output_type": "execute_result"
    }
   ],
   "source": [
    "#Evaluating Linear regression by calculating R-squared through cross-validation\n",
    "np.mean(cross_val_score(linear_reg, X_train, y_train, scoring='r2', cv=3))"
   ]
  },
  {
   "cell_type": "markdown",
   "id": "a7a5b493",
   "metadata": {
    "papermill": {
     "duration": 0.094006,
     "end_time": "2024-11-02T17:37:27.956620",
     "exception": false,
     "start_time": "2024-11-02T17:37:27.862614",
     "status": "completed"
    },
    "tags": []
   },
   "source": [
    "<h2>4. Lasso Regression"
   ]
  },
  {
   "cell_type": "code",
   "execution_count": 67,
   "id": "1d43b490",
   "metadata": {
    "execution": {
     "iopub.execute_input": "2024-11-02T17:37:28.059428Z",
     "iopub.status.busy": "2024-11-02T17:37:28.058406Z",
     "iopub.status.idle": "2024-11-02T17:37:28.102421Z",
     "shell.execute_reply": "2024-11-02T17:37:28.101380Z"
    },
    "papermill": {
     "duration": 0.097735,
     "end_time": "2024-11-02T17:37:28.104895",
     "exception": false,
     "start_time": "2024-11-02T17:37:28.007160",
     "status": "completed"
    },
    "tags": []
   },
   "outputs": [
    {
     "data": {
      "text/html": [
       "<style>#sk-container-id-2 {color: black;background-color: white;}#sk-container-id-2 pre{padding: 0;}#sk-container-id-2 div.sk-toggleable {background-color: white;}#sk-container-id-2 label.sk-toggleable__label {cursor: pointer;display: block;width: 100%;margin-bottom: 0;padding: 0.3em;box-sizing: border-box;text-align: center;}#sk-container-id-2 label.sk-toggleable__label-arrow:before {content: \"▸\";float: left;margin-right: 0.25em;color: #696969;}#sk-container-id-2 label.sk-toggleable__label-arrow:hover:before {color: black;}#sk-container-id-2 div.sk-estimator:hover label.sk-toggleable__label-arrow:before {color: black;}#sk-container-id-2 div.sk-toggleable__content {max-height: 0;max-width: 0;overflow: hidden;text-align: left;background-color: #f0f8ff;}#sk-container-id-2 div.sk-toggleable__content pre {margin: 0.2em;color: black;border-radius: 0.25em;background-color: #f0f8ff;}#sk-container-id-2 input.sk-toggleable__control:checked~div.sk-toggleable__content {max-height: 200px;max-width: 100%;overflow: auto;}#sk-container-id-2 input.sk-toggleable__control:checked~label.sk-toggleable__label-arrow:before {content: \"▾\";}#sk-container-id-2 div.sk-estimator input.sk-toggleable__control:checked~label.sk-toggleable__label {background-color: #d4ebff;}#sk-container-id-2 div.sk-label input.sk-toggleable__control:checked~label.sk-toggleable__label {background-color: #d4ebff;}#sk-container-id-2 input.sk-hidden--visually {border: 0;clip: rect(1px 1px 1px 1px);clip: rect(1px, 1px, 1px, 1px);height: 1px;margin: -1px;overflow: hidden;padding: 0;position: absolute;width: 1px;}#sk-container-id-2 div.sk-estimator {font-family: monospace;background-color: #f0f8ff;border: 1px dotted black;border-radius: 0.25em;box-sizing: border-box;margin-bottom: 0.5em;}#sk-container-id-2 div.sk-estimator:hover {background-color: #d4ebff;}#sk-container-id-2 div.sk-parallel-item::after {content: \"\";width: 100%;border-bottom: 1px solid gray;flex-grow: 1;}#sk-container-id-2 div.sk-label:hover label.sk-toggleable__label {background-color: #d4ebff;}#sk-container-id-2 div.sk-serial::before {content: \"\";position: absolute;border-left: 1px solid gray;box-sizing: border-box;top: 0;bottom: 0;left: 50%;z-index: 0;}#sk-container-id-2 div.sk-serial {display: flex;flex-direction: column;align-items: center;background-color: white;padding-right: 0.2em;padding-left: 0.2em;position: relative;}#sk-container-id-2 div.sk-item {position: relative;z-index: 1;}#sk-container-id-2 div.sk-parallel {display: flex;align-items: stretch;justify-content: center;background-color: white;position: relative;}#sk-container-id-2 div.sk-item::before, #sk-container-id-2 div.sk-parallel-item::before {content: \"\";position: absolute;border-left: 1px solid gray;box-sizing: border-box;top: 0;bottom: 0;left: 50%;z-index: -1;}#sk-container-id-2 div.sk-parallel-item {display: flex;flex-direction: column;z-index: 1;position: relative;background-color: white;}#sk-container-id-2 div.sk-parallel-item:first-child::after {align-self: flex-end;width: 50%;}#sk-container-id-2 div.sk-parallel-item:last-child::after {align-self: flex-start;width: 50%;}#sk-container-id-2 div.sk-parallel-item:only-child::after {width: 0;}#sk-container-id-2 div.sk-dashed-wrapped {border: 1px dashed gray;margin: 0 0.4em 0.5em 0.4em;box-sizing: border-box;padding-bottom: 0.4em;background-color: white;}#sk-container-id-2 div.sk-label label {font-family: monospace;font-weight: bold;display: inline-block;line-height: 1.2em;}#sk-container-id-2 div.sk-label-container {text-align: center;}#sk-container-id-2 div.sk-container {/* jupyter's `normalize.less` sets `[hidden] { display: none; }` but bootstrap.min.css set `[hidden] { display: none !important; }` so we also need the `!important` here to be able to override the default hidden behavior on the sphinx rendered scikit-learn.org. See: https://github.com/scikit-learn/scikit-learn/issues/21755 */display: inline-block !important;position: relative;}#sk-container-id-2 div.sk-text-repr-fallback {display: none;}</style><div id=\"sk-container-id-2\" class=\"sk-top-container\"><div class=\"sk-text-repr-fallback\"><pre>Lasso()</pre><b>In a Jupyter environment, please rerun this cell to show the HTML representation or trust the notebook. <br />On GitHub, the HTML representation is unable to render, please try loading this page with nbviewer.org.</b></div><div class=\"sk-container\" hidden><div class=\"sk-item\"><div class=\"sk-estimator sk-toggleable\"><input class=\"sk-toggleable__control sk-hidden--visually\" id=\"sk-estimator-id-2\" type=\"checkbox\" checked><label for=\"sk-estimator-id-2\" class=\"sk-toggleable__label sk-toggleable__label-arrow\">Lasso</label><div class=\"sk-toggleable__content\"><pre>Lasso()</pre></div></div></div></div></div>"
      ],
      "text/plain": [
       "Lasso()"
      ]
     },
     "execution_count": 67,
     "metadata": {},
     "output_type": "execute_result"
    }
   ],
   "source": [
    "#Fitting X_train, y_train into Lasso regression model\n",
    "lm_l = Lasso()\n",
    "lm_l.fit(X_train,y_train)"
   ]
  },
  {
   "cell_type": "code",
   "execution_count": 68,
   "id": "6df2294e",
   "metadata": {
    "execution": {
     "iopub.execute_input": "2024-11-02T17:37:28.209126Z",
     "iopub.status.busy": "2024-11-02T17:37:28.208711Z",
     "iopub.status.idle": "2024-11-02T17:37:28.330984Z",
     "shell.execute_reply": "2024-11-02T17:37:28.329967Z"
    },
    "papermill": {
     "duration": 0.178663,
     "end_time": "2024-11-02T17:37:28.333967",
     "exception": false,
     "start_time": "2024-11-02T17:37:28.155304",
     "status": "completed"
    },
    "tags": []
   },
   "outputs": [
    {
     "data": {
      "text/plain": [
       "0.9748112185648923"
      ]
     },
     "execution_count": 68,
     "metadata": {},
     "output_type": "execute_result"
    }
   ],
   "source": [
    "#Evaluating Lasso regression by calculating R-squared through cross-validation\n",
    "np.mean(cross_val_score(lm_l, X_train, y_train, scoring='r2', cv=3))"
   ]
  },
  {
   "cell_type": "markdown",
   "id": "aa2ff75f",
   "metadata": {
    "papermill": {
     "duration": 0.052532,
     "end_time": "2024-11-02T17:37:28.493402",
     "exception": false,
     "start_time": "2024-11-02T17:37:28.440870",
     "status": "completed"
    },
    "tags": []
   },
   "source": [
    "<H2>5. Combining models"
   ]
  },
  {
   "cell_type": "markdown",
   "id": "fb19c036",
   "metadata": {
    "papermill": {
     "duration": 0.050316,
     "end_time": "2024-11-02T17:37:28.592478",
     "exception": false,
     "start_time": "2024-11-02T17:37:28.542162",
     "status": "completed"
    },
    "tags": []
   },
   "source": [
    "- I will use R-squared as a metric to evaluate the efficiency of models"
   ]
  },
  {
   "cell_type": "code",
   "execution_count": 69,
   "id": "2d724507",
   "metadata": {
    "execution": {
     "iopub.execute_input": "2024-11-02T17:37:28.696468Z",
     "iopub.status.busy": "2024-11-02T17:37:28.695204Z",
     "iopub.status.idle": "2024-11-02T17:37:28.709365Z",
     "shell.execute_reply": "2024-11-02T17:37:28.707774Z"
    },
    "papermill": {
     "duration": 0.069652,
     "end_time": "2024-11-02T17:37:28.713115",
     "exception": false,
     "start_time": "2024-11-02T17:37:28.643463",
     "status": "completed"
    },
    "tags": []
   },
   "outputs": [],
   "source": [
    "#Calculating y predict value \n",
    "tpred_lm = linear_reg.predict(X_test)\n",
    "tpred_lml = lm_l.predict(X_test)"
   ]
  },
  {
   "cell_type": "code",
   "execution_count": 70,
   "id": "f6b50f32",
   "metadata": {
    "execution": {
     "iopub.execute_input": "2024-11-02T17:37:28.877647Z",
     "iopub.status.busy": "2024-11-02T17:37:28.876716Z",
     "iopub.status.idle": "2024-11-02T17:37:28.884548Z",
     "shell.execute_reply": "2024-11-02T17:37:28.883544Z"
    },
    "papermill": {
     "duration": 0.067026,
     "end_time": "2024-11-02T17:37:28.886737",
     "exception": false,
     "start_time": "2024-11-02T17:37:28.819711",
     "status": "completed"
    },
    "tags": []
   },
   "outputs": [
    {
     "data": {
      "text/plain": [
       "0.9750796114754511"
      ]
     },
     "execution_count": 70,
     "metadata": {},
     "output_type": "execute_result"
    }
   ],
   "source": [
    "#R-squared score of Lasso regression model\n",
    "r2_score(y_test, tpred_lml)"
   ]
  },
  {
   "cell_type": "code",
   "execution_count": 71,
   "id": "15b180f8",
   "metadata": {
    "execution": {
     "iopub.execute_input": "2024-11-02T17:37:28.991669Z",
     "iopub.status.busy": "2024-11-02T17:37:28.991223Z",
     "iopub.status.idle": "2024-11-02T17:37:28.998711Z",
     "shell.execute_reply": "2024-11-02T17:37:28.997768Z"
    },
    "papermill": {
     "duration": 0.061799,
     "end_time": "2024-11-02T17:37:29.000677",
     "exception": false,
     "start_time": "2024-11-02T17:37:28.938878",
     "status": "completed"
    },
    "tags": []
   },
   "outputs": [
    {
     "data": {
      "text/plain": [
       "1.0"
      ]
     },
     "execution_count": 71,
     "metadata": {},
     "output_type": "execute_result"
    }
   ],
   "source": [
    "#R-squared score of Linear regression model\n",
    "r2_score(y_test, tpred_lm)"
   ]
  },
  {
   "cell_type": "code",
   "execution_count": 72,
   "id": "7674466e",
   "metadata": {
    "execution": {
     "iopub.execute_input": "2024-11-02T17:37:29.102548Z",
     "iopub.status.busy": "2024-11-02T17:37:29.102156Z",
     "iopub.status.idle": "2024-11-02T17:37:29.109691Z",
     "shell.execute_reply": "2024-11-02T17:37:29.108848Z"
    },
    "papermill": {
     "duration": 0.060849,
     "end_time": "2024-11-02T17:37:29.111688",
     "exception": false,
     "start_time": "2024-11-02T17:37:29.050839",
     "status": "completed"
    },
    "tags": []
   },
   "outputs": [
    {
     "data": {
      "text/plain": [
       "0.9937699028688631"
      ]
     },
     "execution_count": 72,
     "metadata": {},
     "output_type": "execute_result"
    }
   ],
   "source": [
    "#R-squared score of combined Linear regression model and Lasso regression model\n",
    "r2_score(y_test,(tpred_lm + tpred_lml)/2)"
   ]
  },
  {
   "cell_type": "markdown",
   "id": "6a9abeba",
   "metadata": {
    "papermill": {
     "duration": 0.049894,
     "end_time": "2024-11-02T17:37:29.211424",
     "exception": false,
     "start_time": "2024-11-02T17:37:29.161530",
     "status": "completed"
    },
    "tags": []
   },
   "source": [
    "- R-squared score of Linear regression model is the highest (0.73)\n",
    "- Removing outliers will result in a higher R-squared score, but as I mentioned, I'm not sure what caused outliers, so I still keep those in model"
   ]
  }
 ],
 "metadata": {
  "kaggle": {
   "accelerator": "none",
   "dataSources": [
    {
     "datasetId": 5630996,
     "sourceId": 9300554,
     "sourceType": "datasetVersion"
    }
   ],
   "dockerImageVersionId": 30786,
   "isGpuEnabled": false,
   "isInternetEnabled": false,
   "language": "python",
   "sourceType": "notebook"
  },
  "kernelspec": {
   "display_name": "Python 3",
   "language": "python",
   "name": "python3"
  },
  "language_info": {
   "codemirror_mode": {
    "name": "ipython",
    "version": 3
   },
   "file_extension": ".py",
   "mimetype": "text/x-python",
   "name": "python",
   "nbconvert_exporter": "python",
   "pygments_lexer": "ipython3",
   "version": "3.10.14"
  },
  "papermill": {
   "default_parameters": {},
   "duration": 27.030815,
   "end_time": "2024-11-02T17:37:29.882312",
   "environment_variables": {},
   "exception": null,
   "input_path": "__notebook__.ipynb",
   "output_path": "__notebook__.ipynb",
   "parameters": {},
   "start_time": "2024-11-02T17:37:02.851497",
   "version": "2.6.0"
  }
 },
 "nbformat": 4,
 "nbformat_minor": 5
}
